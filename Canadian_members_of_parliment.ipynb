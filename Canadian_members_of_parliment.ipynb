{
 "cells": [
  {
   "cell_type": "markdown",
   "metadata": {},
   "source": [
    "# Import required packages"
   ]
  },
  {
   "cell_type": "code",
   "execution_count": 1,
   "metadata": {},
   "outputs": [],
   "source": [
    "import pandas as pd\n",
    "import utils\n",
    "import config\n",
    "import matplotlib.pyplot as plt"
   ]
  },
  {
   "cell_type": "markdown",
   "metadata": {},
   "source": [
    "The analysis contains:\n",
    "* 1 Load data: load all required data from *.csv files\n",
    "* 2 Process data: \n",
    "                  - check the basic information of the raw data,\n",
    "                  - Select columns for further analysis\n",
    "                  - deal with duplicated rows\n",
    "                  - deal with missing value\n",
    "                  - (no numerical value selected)\n",
    "* 3 Data Analysis"
   ]
  },
  {
   "cell_type": "markdown",
   "metadata": {},
   "source": [
    "# 1  Load data"
   ]
  },
  {
   "cell_type": "code",
   "execution_count": 2,
   "metadata": {},
   "outputs": [],
   "source": [
    "candidates_house_of_commons_df = pd.read_csv(config.candidates_house_of_commons_file, encoding='cp1252')\n",
    "representatives_house_of_commons_df = pd.read_csv(config.representatives_house_of_commons_file, encoding='cp1252')\n",
    "representatives_df = pd.read_csv(config.representatives_file, encoding='ISO-8859-1')\n",
    "quebec_assemblee_nationale_df = pd.read_csv(config.quebec_assemblee_nationale_file, encoding='ISO-8859-1')\n",
    "conseil_municipal_de_montreal_df = pd.read_csv(config.conseil_municipal_de_montreal_file, encoding='ISO-8859-1')"
   ]
  },
  {
   "cell_type": "markdown",
   "metadata": {},
   "source": [
    "#  2 Process Data"
   ]
  },
  {
   "cell_type": "markdown",
   "metadata": {},
   "source": [
    "## 2.1 Check Candidates : House of Commons"
   ]
  },
  {
   "cell_type": "markdown",
   "metadata": {},
   "source": [
    "### 2.1.1 review the first 5 rows of original data"
   ]
  },
  {
   "cell_type": "code",
   "execution_count": 3,
   "metadata": {},
   "outputs": [
    {
     "data": {
      "text/html": [
       "<div>\n",
       "<style scoped>\n",
       "    .dataframe tbody tr th:only-of-type {\n",
       "        vertical-align: middle;\n",
       "    }\n",
       "\n",
       "    .dataframe tbody tr th {\n",
       "        vertical-align: top;\n",
       "    }\n",
       "\n",
       "    .dataframe thead th {\n",
       "        text-align: right;\n",
       "    }\n",
       "</style>\n",
       "<table border=\"1\" class=\"dataframe\">\n",
       "  <thead>\n",
       "    <tr style=\"text-align: right;\">\n",
       "      <th></th>\n",
       "      <th>District name</th>\n",
       "      <th>Primary role</th>\n",
       "      <th>Name</th>\n",
       "      <th>First name</th>\n",
       "      <th>Last name</th>\n",
       "      <th>Gender</th>\n",
       "      <th>Party name</th>\n",
       "      <th>Email</th>\n",
       "      <th>Photo URL</th>\n",
       "      <th>Source URL</th>\n",
       "      <th>Website</th>\n",
       "      <th>Facebook</th>\n",
       "      <th>Instagram</th>\n",
       "      <th>Twitter</th>\n",
       "      <th>LinkedIn</th>\n",
       "      <th>YouTube</th>\n",
       "      <th>Office type</th>\n",
       "      <th>Address</th>\n",
       "      <th>Phone</th>\n",
       "      <th>Fax</th>\n",
       "    </tr>\n",
       "  </thead>\n",
       "  <tbody>\n",
       "    <tr>\n",
       "      <td>0</td>\n",
       "      <td>Abbotsford</td>\n",
       "      <td>candidate</td>\n",
       "      <td>Ed Fast</td>\n",
       "      <td>Ed</td>\n",
       "      <td>Fast</td>\n",
       "      <td>NaN</td>\n",
       "      <td>Conservative</td>\n",
       "      <td>info@edfast.ca</td>\n",
       "      <td>http://www.ourcommons.ca/Parliamentarians/Imag...</td>\n",
       "      <td>NaN</td>\n",
       "      <td>http://edfast.ca</td>\n",
       "      <td>https://www.facebook.com/EdFastMP/</td>\n",
       "      <td>NaN</td>\n",
       "      <td>https://twitter.com/HonEdFast</td>\n",
       "      <td>NaN</td>\n",
       "      <td>NaN</td>\n",
       "      <td>legislature</td>\n",
       "      <td>NaN</td>\n",
       "      <td>1 604 557-7888</td>\n",
       "      <td>NaN</td>\n",
       "    </tr>\n",
       "    <tr>\n",
       "      <td>1</td>\n",
       "      <td>Abbotsford</td>\n",
       "      <td>candidate</td>\n",
       "      <td>James Duncan</td>\n",
       "      <td>James</td>\n",
       "      <td>Duncan</td>\n",
       "      <td>NaN</td>\n",
       "      <td>People's Party</td>\n",
       "      <td>info@ppcabbotsford.ca</td>\n",
       "      <td>NaN</td>\n",
       "      <td>NaN</td>\n",
       "      <td>https://ppcabbotsford.ca/</td>\n",
       "      <td>https://www.facebook.com/ppcabbotsford/</td>\n",
       "      <td>NaN</td>\n",
       "      <td>NaN</td>\n",
       "      <td>NaN</td>\n",
       "      <td>NaN</td>\n",
       "      <td>NaN</td>\n",
       "      <td>NaN</td>\n",
       "      <td>NaN</td>\n",
       "      <td>NaN</td>\n",
       "    </tr>\n",
       "    <tr>\n",
       "      <td>2</td>\n",
       "      <td>Abbotsford</td>\n",
       "      <td>candidate</td>\n",
       "      <td>Madeleine Sauvé</td>\n",
       "      <td>Madeleine</td>\n",
       "      <td>Sauvé</td>\n",
       "      <td>NaN</td>\n",
       "      <td>NDP</td>\n",
       "      <td>madeleine.sauve@ndp.ca</td>\n",
       "      <td>NaN</td>\n",
       "      <td>NaN</td>\n",
       "      <td>NaN</td>\n",
       "      <td>NaN</td>\n",
       "      <td>NaN</td>\n",
       "      <td>NaN</td>\n",
       "      <td>NaN</td>\n",
       "      <td>NaN</td>\n",
       "      <td>NaN</td>\n",
       "      <td>NaN</td>\n",
       "      <td>NaN</td>\n",
       "      <td>NaN</td>\n",
       "    </tr>\n",
       "    <tr>\n",
       "      <td>3</td>\n",
       "      <td>Abbotsford</td>\n",
       "      <td>candidate</td>\n",
       "      <td>Seamus Heffernan</td>\n",
       "      <td>Seamus</td>\n",
       "      <td>Heffernan</td>\n",
       "      <td>NaN</td>\n",
       "      <td>Liberal</td>\n",
       "      <td>info@seamusheffernan.com</td>\n",
       "      <td>NaN</td>\n",
       "      <td>NaN</td>\n",
       "      <td>NaN</td>\n",
       "      <td>NaN</td>\n",
       "      <td>NaN</td>\n",
       "      <td>NaN</td>\n",
       "      <td>NaN</td>\n",
       "      <td>NaN</td>\n",
       "      <td>NaN</td>\n",
       "      <td>NaN</td>\n",
       "      <td>NaN</td>\n",
       "      <td>NaN</td>\n",
       "    </tr>\n",
       "    <tr>\n",
       "      <td>4</td>\n",
       "      <td>Abbotsford</td>\n",
       "      <td>candidate</td>\n",
       "      <td>Stephen Fowler</td>\n",
       "      <td>Stephen</td>\n",
       "      <td>Fowler</td>\n",
       "      <td>NaN</td>\n",
       "      <td>Green Party</td>\n",
       "      <td>stephen.fowler@greenparty.ca</td>\n",
       "      <td>NaN</td>\n",
       "      <td>NaN</td>\n",
       "      <td>NaN</td>\n",
       "      <td>NaN</td>\n",
       "      <td>NaN</td>\n",
       "      <td>NaN</td>\n",
       "      <td>NaN</td>\n",
       "      <td>NaN</td>\n",
       "      <td>NaN</td>\n",
       "      <td>NaN</td>\n",
       "      <td>NaN</td>\n",
       "      <td>NaN</td>\n",
       "    </tr>\n",
       "  </tbody>\n",
       "</table>\n",
       "</div>"
      ],
      "text/plain": [
       "  District name Primary role              Name First name  Last name  Gender  \\\n",
       "0    Abbotsford    candidate           Ed Fast         Ed       Fast     NaN   \n",
       "1    Abbotsford    candidate      James Duncan      James     Duncan     NaN   \n",
       "2    Abbotsford    candidate   Madeleine Sauvé  Madeleine      Sauvé     NaN   \n",
       "3    Abbotsford    candidate  Seamus Heffernan     Seamus  Heffernan     NaN   \n",
       "4    Abbotsford    candidate    Stephen Fowler    Stephen     Fowler     NaN   \n",
       "\n",
       "       Party name                         Email  \\\n",
       "0    Conservative                info@edfast.ca   \n",
       "1  People's Party         info@ppcabbotsford.ca   \n",
       "2             NDP        madeleine.sauve@ndp.ca   \n",
       "3         Liberal      info@seamusheffernan.com   \n",
       "4     Green Party  stephen.fowler@greenparty.ca   \n",
       "\n",
       "                                           Photo URL  Source URL  \\\n",
       "0  http://www.ourcommons.ca/Parliamentarians/Imag...         NaN   \n",
       "1                                                NaN         NaN   \n",
       "2                                                NaN         NaN   \n",
       "3                                                NaN         NaN   \n",
       "4                                                NaN         NaN   \n",
       "\n",
       "                     Website                                 Facebook  \\\n",
       "0           http://edfast.ca       https://www.facebook.com/EdFastMP/   \n",
       "1  https://ppcabbotsford.ca/  https://www.facebook.com/ppcabbotsford/   \n",
       "2                        NaN                                      NaN   \n",
       "3                        NaN                                      NaN   \n",
       "4                        NaN                                      NaN   \n",
       "\n",
       "   Instagram                        Twitter  LinkedIn  YouTube  Office type  \\\n",
       "0        NaN  https://twitter.com/HonEdFast       NaN      NaN  legislature   \n",
       "1        NaN                            NaN       NaN      NaN          NaN   \n",
       "2        NaN                            NaN       NaN      NaN          NaN   \n",
       "3        NaN                            NaN       NaN      NaN          NaN   \n",
       "4        NaN                            NaN       NaN      NaN          NaN   \n",
       "\n",
       "   Address           Phone  Fax  \n",
       "0      NaN  1 604 557-7888  NaN  \n",
       "1      NaN             NaN  NaN  \n",
       "2      NaN             NaN  NaN  \n",
       "3      NaN             NaN  NaN  \n",
       "4      NaN             NaN  NaN  "
      ]
     },
     "execution_count": 3,
     "metadata": {},
     "output_type": "execute_result"
    }
   ],
   "source": [
    "candidates_house_of_commons_df.head()"
   ]
  },
  {
   "cell_type": "markdown",
   "metadata": {},
   "source": [
    "**check the data column information**"
   ]
  },
  {
   "cell_type": "code",
   "execution_count": 4,
   "metadata": {
    "scrolled": false
   },
   "outputs": [
    {
     "name": "stdout",
     "output_type": "stream",
     "text": [
      "<class 'pandas.core.frame.DataFrame'>\n",
      "RangeIndex: 1432 entries, 0 to 1431\n",
      "Data columns (total 20 columns):\n",
      "District name    1432 non-null object\n",
      "Primary role     1432 non-null object\n",
      "Name             1432 non-null object\n",
      "First name       1432 non-null object\n",
      "Last name        1432 non-null object\n",
      "Gender           0 non-null float64\n",
      "Party name       1431 non-null object\n",
      "Email            1374 non-null object\n",
      "Photo URL        275 non-null object\n",
      "Source URL       0 non-null float64\n",
      "Website          465 non-null object\n",
      "Facebook         862 non-null object\n",
      "Instagram        0 non-null float64\n",
      "Twitter          775 non-null object\n",
      "LinkedIn         0 non-null float64\n",
      "YouTube          0 non-null float64\n",
      "Office type      696 non-null object\n",
      "Address          0 non-null float64\n",
      "Phone            696 non-null object\n",
      "Fax              0 non-null float64\n",
      "dtypes: float64(7), object(13)\n",
      "memory usage: 223.9+ KB\n"
     ]
    }
   ],
   "source": [
    "candidates_house_of_commons_df.info()"
   ]
  },
  {
   "cell_type": "markdown",
   "metadata": {},
   "source": [
    "###  2.1.2 Drop unneeded columns"
   ]
  },
  {
   "cell_type": "code",
   "execution_count": 5,
   "metadata": {},
   "outputs": [
    {
     "data": {
      "text/plain": [
       "array(['District name', 'Primary role', 'Name', 'First name', 'Last name',\n",
       "       'Gender', 'Party name', 'Email', 'Photo URL', 'Source URL',\n",
       "       'Website', 'Facebook', 'Instagram', 'Twitter', 'LinkedIn',\n",
       "       'YouTube', 'Office type', 'Address', 'Phone', 'Fax'], dtype=object)"
      ]
     },
     "execution_count": 5,
     "metadata": {},
     "output_type": "execute_result"
    }
   ],
   "source": [
    "col_candidates_house_of_commons_df = candidates_house_of_commons_df.columns.values\n",
    "col_candidates_house_of_commons_df"
   ]
  },
  {
   "cell_type": "markdown",
   "metadata": {},
   "source": [
    "**Select the columns of \\[ 'District name', 'Primary role', 'Name', 'First name', 'Last name', 'Party name' \\] for further analysis**"
   ]
  },
  {
   "cell_type": "code",
   "execution_count": 6,
   "metadata": {},
   "outputs": [
    {
     "data": {
      "text/html": [
       "<div>\n",
       "<style scoped>\n",
       "    .dataframe tbody tr th:only-of-type {\n",
       "        vertical-align: middle;\n",
       "    }\n",
       "\n",
       "    .dataframe tbody tr th {\n",
       "        vertical-align: top;\n",
       "    }\n",
       "\n",
       "    .dataframe thead th {\n",
       "        text-align: right;\n",
       "    }\n",
       "</style>\n",
       "<table border=\"1\" class=\"dataframe\">\n",
       "  <thead>\n",
       "    <tr style=\"text-align: right;\">\n",
       "      <th></th>\n",
       "      <th>District name</th>\n",
       "      <th>Primary role</th>\n",
       "      <th>Name</th>\n",
       "      <th>First name</th>\n",
       "      <th>Last name</th>\n",
       "      <th>Party name</th>\n",
       "    </tr>\n",
       "  </thead>\n",
       "  <tbody>\n",
       "    <tr>\n",
       "      <td>0</td>\n",
       "      <td>Abbotsford</td>\n",
       "      <td>candidate</td>\n",
       "      <td>Ed Fast</td>\n",
       "      <td>Ed</td>\n",
       "      <td>Fast</td>\n",
       "      <td>Conservative</td>\n",
       "    </tr>\n",
       "    <tr>\n",
       "      <td>1</td>\n",
       "      <td>Abbotsford</td>\n",
       "      <td>candidate</td>\n",
       "      <td>James Duncan</td>\n",
       "      <td>James</td>\n",
       "      <td>Duncan</td>\n",
       "      <td>People's Party</td>\n",
       "    </tr>\n",
       "    <tr>\n",
       "      <td>2</td>\n",
       "      <td>Abbotsford</td>\n",
       "      <td>candidate</td>\n",
       "      <td>Madeleine Sauvé</td>\n",
       "      <td>Madeleine</td>\n",
       "      <td>Sauvé</td>\n",
       "      <td>NDP</td>\n",
       "    </tr>\n",
       "    <tr>\n",
       "      <td>3</td>\n",
       "      <td>Abbotsford</td>\n",
       "      <td>candidate</td>\n",
       "      <td>Seamus Heffernan</td>\n",
       "      <td>Seamus</td>\n",
       "      <td>Heffernan</td>\n",
       "      <td>Liberal</td>\n",
       "    </tr>\n",
       "    <tr>\n",
       "      <td>4</td>\n",
       "      <td>Abbotsford</td>\n",
       "      <td>candidate</td>\n",
       "      <td>Stephen Fowler</td>\n",
       "      <td>Stephen</td>\n",
       "      <td>Fowler</td>\n",
       "      <td>Green Party</td>\n",
       "    </tr>\n",
       "  </tbody>\n",
       "</table>\n",
       "</div>"
      ],
      "text/plain": [
       "  District name Primary role              Name First name  Last name  \\\n",
       "0    Abbotsford    candidate           Ed Fast         Ed       Fast   \n",
       "1    Abbotsford    candidate      James Duncan      James     Duncan   \n",
       "2    Abbotsford    candidate   Madeleine Sauvé  Madeleine      Sauvé   \n",
       "3    Abbotsford    candidate  Seamus Heffernan     Seamus  Heffernan   \n",
       "4    Abbotsford    candidate    Stephen Fowler    Stephen     Fowler   \n",
       "\n",
       "       Party name  \n",
       "0    Conservative  \n",
       "1  People's Party  \n",
       "2             NDP  \n",
       "3         Liberal  \n",
       "4     Green Party  "
      ]
     },
     "execution_count": 6,
     "metadata": {},
     "output_type": "execute_result"
    }
   ],
   "source": [
    "candidates_house_of_commons_df = candidates_house_of_commons_df[['District name', 'Primary role', 'Name', 'First name', 'Last name', 'Party name']]\n",
    "candidates_house_of_commons_df.head()"
   ]
  },
  {
   "cell_type": "markdown",
   "metadata": {},
   "source": [
    "### 2.1.3 Deal with duplicated rows"
   ]
  },
  {
   "cell_type": "code",
   "execution_count": 7,
   "metadata": {},
   "outputs": [
    {
     "name": "stdout",
     "output_type": "stream",
     "text": [
      "No duplicated data!\n"
     ]
    }
   ],
   "source": [
    "if any(candidates_house_of_commons_df.duplicated()):\n",
    "    print('Duplicated data exist!')\n",
    "else:\n",
    "    print('No duplicated data!')"
   ]
  },
  {
   "cell_type": "markdown",
   "metadata": {},
   "source": [
    "### 2.1.4 Deal with missing values"
   ]
  },
  {
   "cell_type": "code",
   "execution_count": 8,
   "metadata": {},
   "outputs": [
    {
     "data": {
      "text/plain": [
       "District name    False\n",
       "Primary role     False\n",
       "Name             False\n",
       "First name       False\n",
       "Last name        False\n",
       "Party name        True\n",
       "dtype: bool"
      ]
     },
     "execution_count": 8,
     "metadata": {},
     "output_type": "execute_result"
    }
   ],
   "source": [
    "candidates_house_of_commons_df.isnull().any()"
   ]
  },
  {
   "cell_type": "code",
   "execution_count": 9,
   "metadata": {},
   "outputs": [
    {
     "name": "stdout",
     "output_type": "stream",
     "text": [
      "<class 'pandas.core.frame.DataFrame'>\n",
      "RangeIndex: 1432 entries, 0 to 1431\n",
      "Data columns (total 6 columns):\n",
      "District name    1432 non-null object\n",
      "Primary role     1432 non-null object\n",
      "Name             1432 non-null object\n",
      "First name       1432 non-null object\n",
      "Last name        1432 non-null object\n",
      "Party name       1431 non-null object\n",
      "dtypes: object(6)\n",
      "memory usage: 67.2+ KB\n"
     ]
    }
   ],
   "source": [
    "candidates_house_of_commons_df.info()"
   ]
  },
  {
   "cell_type": "code",
   "execution_count": 10,
   "metadata": {},
   "outputs": [
    {
     "data": {
      "text/html": [
       "<div>\n",
       "<style scoped>\n",
       "    .dataframe tbody tr th:only-of-type {\n",
       "        vertical-align: middle;\n",
       "    }\n",
       "\n",
       "    .dataframe tbody tr th {\n",
       "        vertical-align: top;\n",
       "    }\n",
       "\n",
       "    .dataframe thead th {\n",
       "        text-align: right;\n",
       "    }\n",
       "</style>\n",
       "<table border=\"1\" class=\"dataframe\">\n",
       "  <thead>\n",
       "    <tr style=\"text-align: right;\">\n",
       "      <th></th>\n",
       "      <th>District name</th>\n",
       "      <th>Primary role</th>\n",
       "      <th>Name</th>\n",
       "      <th>First name</th>\n",
       "      <th>Last name</th>\n",
       "      <th>Party name</th>\n",
       "    </tr>\n",
       "  </thead>\n",
       "  <tbody>\n",
       "    <tr>\n",
       "      <td>1424</td>\n",
       "      <td>Yorkton—Melville</td>\n",
       "      <td>candidate</td>\n",
       "      <td>Ryan Schultz</td>\n",
       "      <td>Ryan</td>\n",
       "      <td>Schultz</td>\n",
       "      <td>NaN</td>\n",
       "    </tr>\n",
       "  </tbody>\n",
       "</table>\n",
       "</div>"
      ],
      "text/plain": [
       "         District name Primary role          Name First name Last name  \\\n",
       "1424  Yorkton—Melville    candidate  Ryan Schultz       Ryan   Schultz   \n",
       "\n",
       "     Party name  \n",
       "1424        NaN  "
      ]
     },
     "execution_count": 10,
     "metadata": {},
     "output_type": "execute_result"
    }
   ],
   "source": [
    "candidates_house_of_commons_df[candidates_house_of_commons_df['Party name'].isnull()]"
   ]
  },
  {
   "cell_type": "markdown",
   "metadata": {},
   "source": [
    "* Since only one value misses from 'Party name', we leave it at this moment."
   ]
  },
  {
   "cell_type": "markdown",
   "metadata": {},
   "source": [
    "## 2.2 Check Representatives : All elected officials"
   ]
  },
  {
   "cell_type": "markdown",
   "metadata": {},
   "source": [
    "### 2.2.1 review the first 5 rows of original data"
   ]
  },
  {
   "cell_type": "code",
   "execution_count": 11,
   "metadata": {
    "scrolled": false
   },
   "outputs": [
    {
     "data": {
      "text/html": [
       "<div>\n",
       "<style scoped>\n",
       "    .dataframe tbody tr th:only-of-type {\n",
       "        vertical-align: middle;\n",
       "    }\n",
       "\n",
       "    .dataframe tbody tr th {\n",
       "        vertical-align: top;\n",
       "    }\n",
       "\n",
       "    .dataframe thead th {\n",
       "        text-align: right;\n",
       "    }\n",
       "</style>\n",
       "<table border=\"1\" class=\"dataframe\">\n",
       "  <thead>\n",
       "    <tr style=\"text-align: right;\">\n",
       "      <th></th>\n",
       "      <th>Organization</th>\n",
       "      <th>District name</th>\n",
       "      <th>Primary role</th>\n",
       "      <th>Name</th>\n",
       "      <th>First name</th>\n",
       "      <th>Last name</th>\n",
       "      <th>Gender</th>\n",
       "      <th>Party name</th>\n",
       "      <th>Email</th>\n",
       "      <th>Photo URL</th>\n",
       "      <th>...</th>\n",
       "      <th>LinkedIn</th>\n",
       "      <th>YouTube</th>\n",
       "      <th>Office type</th>\n",
       "      <th>Address</th>\n",
       "      <th>Phone</th>\n",
       "      <th>Fax</th>\n",
       "      <th>Office type.1</th>\n",
       "      <th>Address.1</th>\n",
       "      <th>Phone.1</th>\n",
       "      <th>Fax.1</th>\n",
       "    </tr>\n",
       "  </thead>\n",
       "  <tbody>\n",
       "    <tr>\n",
       "      <td>0</td>\n",
       "      <td>Legislative Assembly of Alberta</td>\n",
       "      <td>Airdrie-Cochrane</td>\n",
       "      <td>MLA</td>\n",
       "      <td>Pete Guthrie</td>\n",
       "      <td>Pete</td>\n",
       "      <td>Guthrie</td>\n",
       "      <td>NaN</td>\n",
       "      <td>United Conservative Party</td>\n",
       "      <td>Airdrie.Cochrane@assembly.ab.ca</td>\n",
       "      <td>http://www.assembly.ab.ca/lao/mla/photos/m/ph-...</td>\n",
       "      <td>...</td>\n",
       "      <td>NaN</td>\n",
       "      <td>NaN</td>\n",
       "      <td>legislature</td>\n",
       "      <td>NaN</td>\n",
       "      <td>1 587 493-2050</td>\n",
       "      <td>1 587 493-9562</td>\n",
       "      <td>NaN</td>\n",
       "      <td>NaN</td>\n",
       "      <td>NaN</td>\n",
       "      <td>NaN</td>\n",
       "    </tr>\n",
       "    <tr>\n",
       "      <td>1</td>\n",
       "      <td>Legislative Assembly of Alberta</td>\n",
       "      <td>Airdrie-East</td>\n",
       "      <td>MLA</td>\n",
       "      <td>Angela Pitt</td>\n",
       "      <td>Angela</td>\n",
       "      <td>Pitt</td>\n",
       "      <td>NaN</td>\n",
       "      <td>United Conservative Party</td>\n",
       "      <td>Airdrie.East@assembly.ab.ca</td>\n",
       "      <td>http://www.assembly.ab.ca/lao/mla/photos/m/ph-...</td>\n",
       "      <td>...</td>\n",
       "      <td>NaN</td>\n",
       "      <td>NaN</td>\n",
       "      <td>legislature</td>\n",
       "      <td>NaN</td>\n",
       "      <td>1 403 948-8741</td>\n",
       "      <td>1 403 948-8744</td>\n",
       "      <td>NaN</td>\n",
       "      <td>NaN</td>\n",
       "      <td>NaN</td>\n",
       "      <td>NaN</td>\n",
       "    </tr>\n",
       "    <tr>\n",
       "      <td>2</td>\n",
       "      <td>Legislative Assembly of Alberta</td>\n",
       "      <td>Athabasca-Barrhead-Westlock</td>\n",
       "      <td>MLA</td>\n",
       "      <td>Glenn van Dijken</td>\n",
       "      <td>Glenn van</td>\n",
       "      <td>Dijken</td>\n",
       "      <td>NaN</td>\n",
       "      <td>United Conservative Party</td>\n",
       "      <td>Athabasca.Barrhead.Westlock@assembly.ab.ca</td>\n",
       "      <td>http://www.assembly.ab.ca/lao/mla/photos/m/ph-...</td>\n",
       "      <td>...</td>\n",
       "      <td>NaN</td>\n",
       "      <td>NaN</td>\n",
       "      <td>legislature</td>\n",
       "      <td>NaN</td>\n",
       "      <td>1 780 674-3225</td>\n",
       "      <td>1 780 674-6183</td>\n",
       "      <td>NaN</td>\n",
       "      <td>NaN</td>\n",
       "      <td>NaN</td>\n",
       "      <td>NaN</td>\n",
       "    </tr>\n",
       "    <tr>\n",
       "      <td>3</td>\n",
       "      <td>Legislative Assembly of Alberta</td>\n",
       "      <td>Banff-Kananaskis</td>\n",
       "      <td>MLA</td>\n",
       "      <td>Miranda Rosin</td>\n",
       "      <td>Miranda</td>\n",
       "      <td>Rosin</td>\n",
       "      <td>NaN</td>\n",
       "      <td>United Conservative Party</td>\n",
       "      <td>Banff.Kananaskis@assembly.ab.ca</td>\n",
       "      <td>http://www.assembly.ab.ca/lao/mla/photos/m/ph-...</td>\n",
       "      <td>...</td>\n",
       "      <td>NaN</td>\n",
       "      <td>NaN</td>\n",
       "      <td>legislature</td>\n",
       "      <td>NaN</td>\n",
       "      <td>1 403 609-4509</td>\n",
       "      <td>1 403 609-4513</td>\n",
       "      <td>NaN</td>\n",
       "      <td>NaN</td>\n",
       "      <td>NaN</td>\n",
       "      <td>NaN</td>\n",
       "    </tr>\n",
       "    <tr>\n",
       "      <td>4</td>\n",
       "      <td>Legislative Assembly of Alberta</td>\n",
       "      <td>Bonnyville-Cold Lake-St. Paul</td>\n",
       "      <td>MLA</td>\n",
       "      <td>David B. Hanson</td>\n",
       "      <td>David B.</td>\n",
       "      <td>Hanson</td>\n",
       "      <td>NaN</td>\n",
       "      <td>United Conservative Party</td>\n",
       "      <td>Bonnyville.ColdLake.StPaul@assembly.ab.ca</td>\n",
       "      <td>http://www.assembly.ab.ca/lao/mla/photos/m/ph-...</td>\n",
       "      <td>...</td>\n",
       "      <td>NaN</td>\n",
       "      <td>NaN</td>\n",
       "      <td>legislature</td>\n",
       "      <td>NaN</td>\n",
       "      <td>1 780 826-5658</td>\n",
       "      <td>1 780 826-2165</td>\n",
       "      <td>NaN</td>\n",
       "      <td>NaN</td>\n",
       "      <td>NaN</td>\n",
       "      <td>NaN</td>\n",
       "    </tr>\n",
       "  </tbody>\n",
       "</table>\n",
       "<p>5 rows × 25 columns</p>\n",
       "</div>"
      ],
      "text/plain": [
       "                      Organization                  District name  \\\n",
       "0  Legislative Assembly of Alberta               Airdrie-Cochrane   \n",
       "1  Legislative Assembly of Alberta                   Airdrie-East   \n",
       "2  Legislative Assembly of Alberta    Athabasca-Barrhead-Westlock   \n",
       "3  Legislative Assembly of Alberta               Banff-Kananaskis   \n",
       "4  Legislative Assembly of Alberta  Bonnyville-Cold Lake-St. Paul   \n",
       "\n",
       "  Primary role              Name First name Last name Gender  \\\n",
       "0          MLA      Pete Guthrie       Pete   Guthrie    NaN   \n",
       "1          MLA       Angela Pitt     Angela      Pitt    NaN   \n",
       "2          MLA  Glenn van Dijken  Glenn van    Dijken    NaN   \n",
       "3          MLA     Miranda Rosin    Miranda     Rosin    NaN   \n",
       "4          MLA   David B. Hanson   David B.    Hanson    NaN   \n",
       "\n",
       "                  Party name                                       Email  \\\n",
       "0  United Conservative Party             Airdrie.Cochrane@assembly.ab.ca   \n",
       "1  United Conservative Party                 Airdrie.East@assembly.ab.ca   \n",
       "2  United Conservative Party  Athabasca.Barrhead.Westlock@assembly.ab.ca   \n",
       "3  United Conservative Party             Banff.Kananaskis@assembly.ab.ca   \n",
       "4  United Conservative Party   Bonnyville.ColdLake.StPaul@assembly.ab.ca   \n",
       "\n",
       "                                           Photo URL  ... LinkedIn YouTube  \\\n",
       "0  http://www.assembly.ab.ca/lao/mla/photos/m/ph-...  ...      NaN     NaN   \n",
       "1  http://www.assembly.ab.ca/lao/mla/photos/m/ph-...  ...      NaN     NaN   \n",
       "2  http://www.assembly.ab.ca/lao/mla/photos/m/ph-...  ...      NaN     NaN   \n",
       "3  http://www.assembly.ab.ca/lao/mla/photos/m/ph-...  ...      NaN     NaN   \n",
       "4  http://www.assembly.ab.ca/lao/mla/photos/m/ph-...  ...      NaN     NaN   \n",
       "\n",
       "   Office type  Address           Phone             Fax Office type.1  \\\n",
       "0  legislature      NaN  1 587 493-2050  1 587 493-9562           NaN   \n",
       "1  legislature      NaN  1 403 948-8741  1 403 948-8744           NaN   \n",
       "2  legislature      NaN  1 780 674-3225  1 780 674-6183           NaN   \n",
       "3  legislature      NaN  1 403 609-4509  1 403 609-4513           NaN   \n",
       "4  legislature      NaN  1 780 826-5658  1 780 826-2165           NaN   \n",
       "\n",
       "  Address.1 Phone.1 Fax.1  \n",
       "0       NaN     NaN   NaN  \n",
       "1       NaN     NaN   NaN  \n",
       "2       NaN     NaN   NaN  \n",
       "3       NaN     NaN   NaN  \n",
       "4       NaN     NaN   NaN  \n",
       "\n",
       "[5 rows x 25 columns]"
      ]
     },
     "execution_count": 11,
     "metadata": {},
     "output_type": "execute_result"
    }
   ],
   "source": [
    "representatives_df.head()"
   ]
  },
  {
   "cell_type": "code",
   "execution_count": 12,
   "metadata": {
    "scrolled": false
   },
   "outputs": [
    {
     "name": "stdout",
     "output_type": "stream",
     "text": [
      "<class 'pandas.core.frame.DataFrame'>\n",
      "RangeIndex: 1637 entries, 0 to 1636\n",
      "Data columns (total 25 columns):\n",
      "Organization     1637 non-null object\n",
      "District name    1637 non-null object\n",
      "Primary role     1637 non-null object\n",
      "Name             1637 non-null object\n",
      "First name       1637 non-null object\n",
      "Last name        1637 non-null object\n",
      "Gender           319 non-null object\n",
      "Party name       396 non-null object\n",
      "Email            1530 non-null object\n",
      "Photo URL        1108 non-null object\n",
      "Source URL       848 non-null object\n",
      "Website          525 non-null object\n",
      "Facebook         162 non-null object\n",
      "Instagram        0 non-null float64\n",
      "Twitter          187 non-null object\n",
      "LinkedIn         0 non-null float64\n",
      "YouTube          7 non-null object\n",
      "Office type      1404 non-null object\n",
      "Address          505 non-null object\n",
      "Phone            1347 non-null object\n",
      "Fax              357 non-null object\n",
      "Office type.1    237 non-null object\n",
      "Address.1        87 non-null object\n",
      "Phone.1          237 non-null object\n",
      "Fax.1            0 non-null float64\n",
      "dtypes: float64(3), object(22)\n",
      "memory usage: 319.9+ KB\n"
     ]
    }
   ],
   "source": [
    "representatives_df.info()"
   ]
  },
  {
   "cell_type": "markdown",
   "metadata": {},
   "source": [
    "###  2.2.2 Drop unneeded columns"
   ]
  },
  {
   "cell_type": "code",
   "execution_count": 13,
   "metadata": {},
   "outputs": [
    {
     "data": {
      "text/plain": [
       "array(['Organization', 'District name', 'Primary role', 'Name',\n",
       "       'First name', 'Last name', 'Gender', 'Party name', 'Email',\n",
       "       'Photo URL', 'Source URL', 'Website', 'Facebook', 'Instagram',\n",
       "       'Twitter', 'LinkedIn', 'YouTube', 'Office type', 'Address',\n",
       "       'Phone', 'Fax', 'Office type.1', 'Address.1', 'Phone.1', 'Fax.1'],\n",
       "      dtype=object)"
      ]
     },
     "execution_count": 13,
     "metadata": {},
     "output_type": "execute_result"
    }
   ],
   "source": [
    "col_representatives_df = representatives_df.columns.values\n",
    "col_representatives_df"
   ]
  },
  {
   "cell_type": "markdown",
   "metadata": {},
   "source": [
    "**Select columns \\[ 'Organization', 'District name', 'Primary role', 'Name', 'First name', 'Last name','Gender', 'Party name', 'Office type' \\] for furthure analysis.**"
   ]
  },
  {
   "cell_type": "code",
   "execution_count": 14,
   "metadata": {},
   "outputs": [
    {
     "data": {
      "text/html": [
       "<div>\n",
       "<style scoped>\n",
       "    .dataframe tbody tr th:only-of-type {\n",
       "        vertical-align: middle;\n",
       "    }\n",
       "\n",
       "    .dataframe tbody tr th {\n",
       "        vertical-align: top;\n",
       "    }\n",
       "\n",
       "    .dataframe thead th {\n",
       "        text-align: right;\n",
       "    }\n",
       "</style>\n",
       "<table border=\"1\" class=\"dataframe\">\n",
       "  <thead>\n",
       "    <tr style=\"text-align: right;\">\n",
       "      <th></th>\n",
       "      <th>Organization</th>\n",
       "      <th>District name</th>\n",
       "      <th>Primary role</th>\n",
       "      <th>Name</th>\n",
       "      <th>First name</th>\n",
       "      <th>Last name</th>\n",
       "      <th>Gender</th>\n",
       "      <th>Party name</th>\n",
       "      <th>Office type</th>\n",
       "    </tr>\n",
       "  </thead>\n",
       "  <tbody>\n",
       "    <tr>\n",
       "      <td>0</td>\n",
       "      <td>Legislative Assembly of Alberta</td>\n",
       "      <td>Airdrie-Cochrane</td>\n",
       "      <td>MLA</td>\n",
       "      <td>Pete Guthrie</td>\n",
       "      <td>Pete</td>\n",
       "      <td>Guthrie</td>\n",
       "      <td>NaN</td>\n",
       "      <td>United Conservative Party</td>\n",
       "      <td>legislature</td>\n",
       "    </tr>\n",
       "    <tr>\n",
       "      <td>1</td>\n",
       "      <td>Legislative Assembly of Alberta</td>\n",
       "      <td>Airdrie-East</td>\n",
       "      <td>MLA</td>\n",
       "      <td>Angela Pitt</td>\n",
       "      <td>Angela</td>\n",
       "      <td>Pitt</td>\n",
       "      <td>NaN</td>\n",
       "      <td>United Conservative Party</td>\n",
       "      <td>legislature</td>\n",
       "    </tr>\n",
       "    <tr>\n",
       "      <td>2</td>\n",
       "      <td>Legislative Assembly of Alberta</td>\n",
       "      <td>Athabasca-Barrhead-Westlock</td>\n",
       "      <td>MLA</td>\n",
       "      <td>Glenn van Dijken</td>\n",
       "      <td>Glenn van</td>\n",
       "      <td>Dijken</td>\n",
       "      <td>NaN</td>\n",
       "      <td>United Conservative Party</td>\n",
       "      <td>legislature</td>\n",
       "    </tr>\n",
       "    <tr>\n",
       "      <td>3</td>\n",
       "      <td>Legislative Assembly of Alberta</td>\n",
       "      <td>Banff-Kananaskis</td>\n",
       "      <td>MLA</td>\n",
       "      <td>Miranda Rosin</td>\n",
       "      <td>Miranda</td>\n",
       "      <td>Rosin</td>\n",
       "      <td>NaN</td>\n",
       "      <td>United Conservative Party</td>\n",
       "      <td>legislature</td>\n",
       "    </tr>\n",
       "    <tr>\n",
       "      <td>4</td>\n",
       "      <td>Legislative Assembly of Alberta</td>\n",
       "      <td>Bonnyville-Cold Lake-St. Paul</td>\n",
       "      <td>MLA</td>\n",
       "      <td>David B. Hanson</td>\n",
       "      <td>David B.</td>\n",
       "      <td>Hanson</td>\n",
       "      <td>NaN</td>\n",
       "      <td>United Conservative Party</td>\n",
       "      <td>legislature</td>\n",
       "    </tr>\n",
       "  </tbody>\n",
       "</table>\n",
       "</div>"
      ],
      "text/plain": [
       "                      Organization                  District name  \\\n",
       "0  Legislative Assembly of Alberta               Airdrie-Cochrane   \n",
       "1  Legislative Assembly of Alberta                   Airdrie-East   \n",
       "2  Legislative Assembly of Alberta    Athabasca-Barrhead-Westlock   \n",
       "3  Legislative Assembly of Alberta               Banff-Kananaskis   \n",
       "4  Legislative Assembly of Alberta  Bonnyville-Cold Lake-St. Paul   \n",
       "\n",
       "  Primary role              Name First name Last name Gender  \\\n",
       "0          MLA      Pete Guthrie       Pete   Guthrie    NaN   \n",
       "1          MLA       Angela Pitt     Angela      Pitt    NaN   \n",
       "2          MLA  Glenn van Dijken  Glenn van    Dijken    NaN   \n",
       "3          MLA     Miranda Rosin    Miranda     Rosin    NaN   \n",
       "4          MLA   David B. Hanson   David B.    Hanson    NaN   \n",
       "\n",
       "                  Party name  Office type  \n",
       "0  United Conservative Party  legislature  \n",
       "1  United Conservative Party  legislature  \n",
       "2  United Conservative Party  legislature  \n",
       "3  United Conservative Party  legislature  \n",
       "4  United Conservative Party  legislature  "
      ]
     },
     "execution_count": 14,
     "metadata": {},
     "output_type": "execute_result"
    }
   ],
   "source": [
    "representatives_df = representatives_df[['Organization', 'District name', 'Primary role', 'Name', 'First name', 'Last name','Gender', 'Party name', 'Office type']]\n",
    "representatives_df.head()"
   ]
  },
  {
   "cell_type": "markdown",
   "metadata": {},
   "source": [
    "### 2.2.3 Deal with duplicated rows"
   ]
  },
  {
   "cell_type": "code",
   "execution_count": 15,
   "metadata": {},
   "outputs": [
    {
     "name": "stdout",
     "output_type": "stream",
     "text": [
      "Duplicated data exist!\n"
     ]
    }
   ],
   "source": [
    "if any(representatives_df.duplicated()):\n",
    "    print('Duplicated data exist!')\n",
    "else:\n",
    "    print('No duplicated data!')"
   ]
  },
  {
   "cell_type": "code",
   "execution_count": 16,
   "metadata": {},
   "outputs": [
    {
     "data": {
      "text/plain": [
       "1"
      ]
     },
     "execution_count": 16,
     "metadata": {},
     "output_type": "execute_result"
    }
   ],
   "source": [
    "representatives_df.duplicated().any().sum()"
   ]
  },
  {
   "cell_type": "code",
   "execution_count": 17,
   "metadata": {
    "scrolled": true
   },
   "outputs": [
    {
     "data": {
      "text/html": [
       "<div>\n",
       "<style scoped>\n",
       "    .dataframe tbody tr th:only-of-type {\n",
       "        vertical-align: middle;\n",
       "    }\n",
       "\n",
       "    .dataframe tbody tr th {\n",
       "        vertical-align: top;\n",
       "    }\n",
       "\n",
       "    .dataframe thead th {\n",
       "        text-align: right;\n",
       "    }\n",
       "</style>\n",
       "<table border=\"1\" class=\"dataframe\">\n",
       "  <thead>\n",
       "    <tr style=\"text-align: right;\">\n",
       "      <th></th>\n",
       "      <th>Organization</th>\n",
       "      <th>District name</th>\n",
       "      <th>Primary role</th>\n",
       "      <th>Name</th>\n",
       "      <th>First name</th>\n",
       "      <th>Last name</th>\n",
       "      <th>Gender</th>\n",
       "      <th>Party name</th>\n",
       "      <th>Office type</th>\n",
       "    </tr>\n",
       "  </thead>\n",
       "  <tbody>\n",
       "    <tr>\n",
       "      <td>843</td>\n",
       "      <td>Ontario English Public School Boards</td>\n",
       "      <td>Algoma DSB</td>\n",
       "      <td>Trustee</td>\n",
       "      <td>Sandra Edwards</td>\n",
       "      <td>Sandra</td>\n",
       "      <td>Edwards</td>\n",
       "      <td>NaN</td>\n",
       "      <td>NaN</td>\n",
       "      <td>legislature</td>\n",
       "    </tr>\n",
       "  </tbody>\n",
       "</table>\n",
       "</div>"
      ],
      "text/plain": [
       "                             Organization District name Primary role  \\\n",
       "843  Ontario English Public School Boards    Algoma DSB      Trustee   \n",
       "\n",
       "               Name First name Last name Gender Party name  Office type  \n",
       "843  Sandra Edwards     Sandra   Edwards    NaN        NaN  legislature  "
      ]
     },
     "execution_count": 17,
     "metadata": {},
     "output_type": "execute_result"
    }
   ],
   "source": [
    "representatives_df[representatives_df.duplicated()==True]"
   ]
  },
  {
   "cell_type": "code",
   "execution_count": 18,
   "metadata": {},
   "outputs": [],
   "source": [
    "representatives_df.drop_duplicates(keep='last', inplace=True)"
   ]
  },
  {
   "cell_type": "code",
   "execution_count": 19,
   "metadata": {},
   "outputs": [
    {
     "name": "stdout",
     "output_type": "stream",
     "text": [
      "No duplicated data!\n"
     ]
    }
   ],
   "source": [
    "if any(representatives_df.duplicated()):\n",
    "    print('Duplicated data exist!')\n",
    "else:\n",
    "    print('No duplicated data!')"
   ]
  },
  {
   "cell_type": "markdown",
   "metadata": {},
   "source": [
    "### 2.2.4 Deal with missing values"
   ]
  },
  {
   "cell_type": "code",
   "execution_count": 20,
   "metadata": {},
   "outputs": [
    {
     "data": {
      "text/plain": [
       "Organization     False\n",
       "District name    False\n",
       "Primary role     False\n",
       "Name             False\n",
       "First name       False\n",
       "Last name        False\n",
       "Gender            True\n",
       "Party name        True\n",
       "Office type       True\n",
       "dtype: bool"
      ]
     },
     "execution_count": 20,
     "metadata": {},
     "output_type": "execute_result"
    }
   ],
   "source": [
    "representatives_df.isnull().any()"
   ]
  },
  {
   "cell_type": "code",
   "execution_count": 21,
   "metadata": {},
   "outputs": [
    {
     "name": "stdout",
     "output_type": "stream",
     "text": [
      "<class 'pandas.core.frame.DataFrame'>\n",
      "Int64Index: 1636 entries, 0 to 1636\n",
      "Data columns (total 9 columns):\n",
      "Organization     1636 non-null object\n",
      "District name    1636 non-null object\n",
      "Primary role     1636 non-null object\n",
      "Name             1636 non-null object\n",
      "First name       1636 non-null object\n",
      "Last name        1636 non-null object\n",
      "Gender           319 non-null object\n",
      "Party name       396 non-null object\n",
      "Office type      1403 non-null object\n",
      "dtypes: object(9)\n",
      "memory usage: 127.8+ KB\n"
     ]
    }
   ],
   "source": [
    "representatives_df.info()"
   ]
  },
  {
   "cell_type": "markdown",
   "metadata": {},
   "source": [
    "* There are a lot of information missing from 'Gender' and 'Party name'. But we are still interested i these two information, sp we keep them right now."
   ]
  },
  {
   "cell_type": "markdown",
   "metadata": {},
   "source": [
    "## 2.3  Check Representative : House of Commons"
   ]
  },
  {
   "cell_type": "markdown",
   "metadata": {},
   "source": [
    "### 2.3.1 review the first 5 rows of original data"
   ]
  },
  {
   "cell_type": "code",
   "execution_count": 22,
   "metadata": {},
   "outputs": [
    {
     "data": {
      "text/html": [
       "<div>\n",
       "<style scoped>\n",
       "    .dataframe tbody tr th:only-of-type {\n",
       "        vertical-align: middle;\n",
       "    }\n",
       "\n",
       "    .dataframe tbody tr th {\n",
       "        vertical-align: top;\n",
       "    }\n",
       "\n",
       "    .dataframe thead th {\n",
       "        text-align: right;\n",
       "    }\n",
       "</style>\n",
       "<table border=\"1\" class=\"dataframe\">\n",
       "  <thead>\n",
       "    <tr style=\"text-align: right;\">\n",
       "      <th></th>\n",
       "      <th>District name</th>\n",
       "      <th>Primary role</th>\n",
       "      <th>Name</th>\n",
       "      <th>First name</th>\n",
       "      <th>Last name</th>\n",
       "      <th>Gender</th>\n",
       "      <th>Party name</th>\n",
       "      <th>Email</th>\n",
       "      <th>Photo URL</th>\n",
       "      <th>Source URL</th>\n",
       "      <th>...</th>\n",
       "      <th>Phone.2</th>\n",
       "      <th>Fax.2</th>\n",
       "      <th>Office type.3</th>\n",
       "      <th>Address.3</th>\n",
       "      <th>Phone.3</th>\n",
       "      <th>Fax.3</th>\n",
       "      <th>Office type.4</th>\n",
       "      <th>Address.4</th>\n",
       "      <th>Phone.4</th>\n",
       "      <th>Fax.4</th>\n",
       "    </tr>\n",
       "  </thead>\n",
       "  <tbody>\n",
       "    <tr>\n",
       "      <td>0</td>\n",
       "      <td>Abbotsford</td>\n",
       "      <td>MP</td>\n",
       "      <td>Ed Fast</td>\n",
       "      <td>Ed</td>\n",
       "      <td>Fast</td>\n",
       "      <td>NaN</td>\n",
       "      <td>Conservative</td>\n",
       "      <td>ed.fast@parl.gc.ca</td>\n",
       "      <td>http://www.ourcommons.ca/Parliamentarians/Imag...</td>\n",
       "      <td>http://www.parl.gc.ca/Parliamentarians/en/memb...</td>\n",
       "      <td>...</td>\n",
       "      <td>NaN</td>\n",
       "      <td>NaN</td>\n",
       "      <td>NaN</td>\n",
       "      <td>NaN</td>\n",
       "      <td>NaN</td>\n",
       "      <td>NaN</td>\n",
       "      <td>NaN</td>\n",
       "      <td>NaN</td>\n",
       "      <td>NaN</td>\n",
       "      <td>NaN</td>\n",
       "    </tr>\n",
       "    <tr>\n",
       "      <td>1</td>\n",
       "      <td>Abitibi—Baie-James—Nunavik—Eeyou</td>\n",
       "      <td>MP</td>\n",
       "      <td>Romeo Saganash</td>\n",
       "      <td>Romeo</td>\n",
       "      <td>Saganash</td>\n",
       "      <td>NaN</td>\n",
       "      <td>NDP</td>\n",
       "      <td>Romeo.Saganash@parl.gc.ca</td>\n",
       "      <td>http://www.ourcommons.ca/Parliamentarians/Imag...</td>\n",
       "      <td>http://www.parl.gc.ca/Parliamentarians/en/memb...</td>\n",
       "      <td>...</td>\n",
       "      <td>NaN</td>\n",
       "      <td>NaN</td>\n",
       "      <td>NaN</td>\n",
       "      <td>NaN</td>\n",
       "      <td>NaN</td>\n",
       "      <td>NaN</td>\n",
       "      <td>NaN</td>\n",
       "      <td>NaN</td>\n",
       "      <td>NaN</td>\n",
       "      <td>NaN</td>\n",
       "    </tr>\n",
       "    <tr>\n",
       "      <td>2</td>\n",
       "      <td>Abitibi—Témiscamingue</td>\n",
       "      <td>MP</td>\n",
       "      <td>Christine Moore</td>\n",
       "      <td>Christine</td>\n",
       "      <td>Moore</td>\n",
       "      <td>NaN</td>\n",
       "      <td>NDP</td>\n",
       "      <td>Christine.Moore@parl.gc.ca</td>\n",
       "      <td>http://www.ourcommons.ca/Parliamentarians/Imag...</td>\n",
       "      <td>http://www.parl.gc.ca/Parliamentarians/en/memb...</td>\n",
       "      <td>...</td>\n",
       "      <td>1 819 629-2726</td>\n",
       "      <td>NaN</td>\n",
       "      <td>constituency</td>\n",
       "      <td>554 1st Avenue West\\nSuite 101\\nAmos QC  J9T 1V3</td>\n",
       "      <td>1 819 732-2266</td>\n",
       "      <td>NaN</td>\n",
       "      <td>constituency</td>\n",
       "      <td>81-A 5th Avenue East\\n\\nLa Sarre QC  J9Z 1T1</td>\n",
       "      <td>1 819 339-2266</td>\n",
       "      <td>NaN</td>\n",
       "    </tr>\n",
       "    <tr>\n",
       "      <td>3</td>\n",
       "      <td>Acadie—Bathurst</td>\n",
       "      <td>MP</td>\n",
       "      <td>Serge Cormier</td>\n",
       "      <td>Serge</td>\n",
       "      <td>Cormier</td>\n",
       "      <td>NaN</td>\n",
       "      <td>Liberal</td>\n",
       "      <td>Serge.Cormier@parl.gc.ca</td>\n",
       "      <td>http://www.ourcommons.ca/Parliamentarians/Imag...</td>\n",
       "      <td>http://www.parl.gc.ca/Parliamentarians/en/memb...</td>\n",
       "      <td>...</td>\n",
       "      <td>1 506 350-5398</td>\n",
       "      <td>1 506 546-3045</td>\n",
       "      <td>NaN</td>\n",
       "      <td>NaN</td>\n",
       "      <td>NaN</td>\n",
       "      <td>NaN</td>\n",
       "      <td>NaN</td>\n",
       "      <td>NaN</td>\n",
       "      <td>NaN</td>\n",
       "      <td>NaN</td>\n",
       "    </tr>\n",
       "    <tr>\n",
       "      <td>4</td>\n",
       "      <td>Ahuntsic-Cartierville</td>\n",
       "      <td>MP</td>\n",
       "      <td>Mélanie Joly</td>\n",
       "      <td>Mélanie</td>\n",
       "      <td>Joly</td>\n",
       "      <td>NaN</td>\n",
       "      <td>Liberal</td>\n",
       "      <td>Melanie.Joly@parl.gc.ca</td>\n",
       "      <td>http://www.ourcommons.ca/Parliamentarians/Imag...</td>\n",
       "      <td>http://www.parl.gc.ca/Parliamentarians/en/memb...</td>\n",
       "      <td>...</td>\n",
       "      <td>NaN</td>\n",
       "      <td>NaN</td>\n",
       "      <td>NaN</td>\n",
       "      <td>NaN</td>\n",
       "      <td>NaN</td>\n",
       "      <td>NaN</td>\n",
       "      <td>NaN</td>\n",
       "      <td>NaN</td>\n",
       "      <td>NaN</td>\n",
       "      <td>NaN</td>\n",
       "    </tr>\n",
       "  </tbody>\n",
       "</table>\n",
       "<p>5 rows × 36 columns</p>\n",
       "</div>"
      ],
      "text/plain": [
       "                      District name Primary role             Name First name  \\\n",
       "0                        Abbotsford           MP          Ed Fast         Ed   \n",
       "1  Abitibi—Baie-James—Nunavik—Eeyou           MP   Romeo Saganash      Romeo   \n",
       "2             Abitibi—Témiscamingue           MP  Christine Moore  Christine   \n",
       "3                   Acadie—Bathurst           MP    Serge Cormier      Serge   \n",
       "4             Ahuntsic-Cartierville           MP     Mélanie Joly    Mélanie   \n",
       "\n",
       "  Last name  Gender    Party name                       Email  \\\n",
       "0      Fast     NaN  Conservative          ed.fast@parl.gc.ca   \n",
       "1  Saganash     NaN           NDP   Romeo.Saganash@parl.gc.ca   \n",
       "2     Moore     NaN           NDP  Christine.Moore@parl.gc.ca   \n",
       "3   Cormier     NaN       Liberal    Serge.Cormier@parl.gc.ca   \n",
       "4      Joly     NaN       Liberal     Melanie.Joly@parl.gc.ca   \n",
       "\n",
       "                                           Photo URL  \\\n",
       "0  http://www.ourcommons.ca/Parliamentarians/Imag...   \n",
       "1  http://www.ourcommons.ca/Parliamentarians/Imag...   \n",
       "2  http://www.ourcommons.ca/Parliamentarians/Imag...   \n",
       "3  http://www.ourcommons.ca/Parliamentarians/Imag...   \n",
       "4  http://www.ourcommons.ca/Parliamentarians/Imag...   \n",
       "\n",
       "                                          Source URL  ...         Phone.2  \\\n",
       "0  http://www.parl.gc.ca/Parliamentarians/en/memb...  ...             NaN   \n",
       "1  http://www.parl.gc.ca/Parliamentarians/en/memb...  ...             NaN   \n",
       "2  http://www.parl.gc.ca/Parliamentarians/en/memb...  ...  1 819 629-2726   \n",
       "3  http://www.parl.gc.ca/Parliamentarians/en/memb...  ...  1 506 350-5398   \n",
       "4  http://www.parl.gc.ca/Parliamentarians/en/memb...  ...             NaN   \n",
       "\n",
       "            Fax.2  Office type.3  \\\n",
       "0             NaN            NaN   \n",
       "1             NaN            NaN   \n",
       "2             NaN   constituency   \n",
       "3  1 506 546-3045            NaN   \n",
       "4             NaN            NaN   \n",
       "\n",
       "                                          Address.3         Phone.3  Fax.3  \\\n",
       "0                                               NaN             NaN    NaN   \n",
       "1                                               NaN             NaN    NaN   \n",
       "2  554 1st Avenue West\\nSuite 101\\nAmos QC  J9T 1V3  1 819 732-2266    NaN   \n",
       "3                                               NaN             NaN    NaN   \n",
       "4                                               NaN             NaN    NaN   \n",
       "\n",
       "  Office type.4                                     Address.4         Phone.4  \\\n",
       "0           NaN                                           NaN             NaN   \n",
       "1           NaN                                           NaN             NaN   \n",
       "2  constituency  81-A 5th Avenue East\\n\\nLa Sarre QC  J9Z 1T1  1 819 339-2266   \n",
       "3           NaN                                           NaN             NaN   \n",
       "4           NaN                                           NaN             NaN   \n",
       "\n",
       "  Fax.4  \n",
       "0   NaN  \n",
       "1   NaN  \n",
       "2   NaN  \n",
       "3   NaN  \n",
       "4   NaN  \n",
       "\n",
       "[5 rows x 36 columns]"
      ]
     },
     "execution_count": 22,
     "metadata": {},
     "output_type": "execute_result"
    }
   ],
   "source": [
    "representatives_house_of_commons_df.head()"
   ]
  },
  {
   "cell_type": "code",
   "execution_count": 23,
   "metadata": {},
   "outputs": [
    {
     "name": "stdout",
     "output_type": "stream",
     "text": [
      "<class 'pandas.core.frame.DataFrame'>\n",
      "RangeIndex: 333 entries, 0 to 332\n",
      "Data columns (total 36 columns):\n",
      "District name    333 non-null object\n",
      "Primary role     333 non-null object\n",
      "Name             333 non-null object\n",
      "First name       333 non-null object\n",
      "Last name        333 non-null object\n",
      "Gender           0 non-null float64\n",
      "Party name       333 non-null object\n",
      "Email            328 non-null object\n",
      "Photo URL        332 non-null object\n",
      "Source URL       333 non-null object\n",
      "Website          308 non-null object\n",
      "Facebook         3 non-null object\n",
      "Instagram        0 non-null float64\n",
      "Twitter          0 non-null float64\n",
      "LinkedIn         0 non-null float64\n",
      "YouTube          0 non-null float64\n",
      "Office type      333 non-null object\n",
      "Address          333 non-null object\n",
      "Phone            333 non-null object\n",
      "Fax              333 non-null object\n",
      "Office type.1    333 non-null object\n",
      "Address.1        333 non-null object\n",
      "Phone.1          333 non-null object\n",
      "Fax.1            329 non-null object\n",
      "Office type.2    68 non-null object\n",
      "Address.2        68 non-null object\n",
      "Phone.2          63 non-null object\n",
      "Fax.2            47 non-null object\n",
      "Office type.3    19 non-null object\n",
      "Address.3        19 non-null object\n",
      "Phone.3          18 non-null object\n",
      "Fax.3            12 non-null object\n",
      "Office type.4    4 non-null object\n",
      "Address.4        4 non-null object\n",
      "Phone.4          4 non-null object\n",
      "Fax.4            0 non-null float64\n",
      "dtypes: float64(6), object(30)\n",
      "memory usage: 93.8+ KB\n"
     ]
    }
   ],
   "source": [
    "representatives_house_of_commons_df.info()"
   ]
  },
  {
   "cell_type": "markdown",
   "metadata": {},
   "source": [
    "###  2.3.2 Drop unneeded columns"
   ]
  },
  {
   "cell_type": "code",
   "execution_count": 24,
   "metadata": {},
   "outputs": [
    {
     "data": {
      "text/plain": [
       "array(['District name', 'Primary role', 'Name', 'First name', 'Last name',\n",
       "       'Gender', 'Party name', 'Email', 'Photo URL', 'Source URL',\n",
       "       'Website', 'Facebook', 'Instagram', 'Twitter', 'LinkedIn',\n",
       "       'YouTube', 'Office type', 'Address', 'Phone', 'Fax',\n",
       "       'Office type.1', 'Address.1', 'Phone.1', 'Fax.1', 'Office type.2',\n",
       "       'Address.2', 'Phone.2', 'Fax.2', 'Office type.3', 'Address.3',\n",
       "       'Phone.3', 'Fax.3', 'Office type.4', 'Address.4', 'Phone.4',\n",
       "       'Fax.4'], dtype=object)"
      ]
     },
     "execution_count": 24,
     "metadata": {},
     "output_type": "execute_result"
    }
   ],
   "source": [
    "col_representatives_house_of_commons_df = representatives_house_of_commons_df.columns.values\n",
    "col_representatives_house_of_commons_df"
   ]
  },
  {
   "cell_type": "markdown",
   "metadata": {},
   "source": [
    "**Select columns \\[ 'District name', 'Primary role', 'Name', 'First name', 'Last name', 'Party name', 'Office type'\\] for further analysis.**"
   ]
  },
  {
   "cell_type": "code",
   "execution_count": 25,
   "metadata": {},
   "outputs": [
    {
     "data": {
      "text/html": [
       "<div>\n",
       "<style scoped>\n",
       "    .dataframe tbody tr th:only-of-type {\n",
       "        vertical-align: middle;\n",
       "    }\n",
       "\n",
       "    .dataframe tbody tr th {\n",
       "        vertical-align: top;\n",
       "    }\n",
       "\n",
       "    .dataframe thead th {\n",
       "        text-align: right;\n",
       "    }\n",
       "</style>\n",
       "<table border=\"1\" class=\"dataframe\">\n",
       "  <thead>\n",
       "    <tr style=\"text-align: right;\">\n",
       "      <th></th>\n",
       "      <th>District name</th>\n",
       "      <th>Primary role</th>\n",
       "      <th>Name</th>\n",
       "      <th>First name</th>\n",
       "      <th>Last name</th>\n",
       "      <th>Party name</th>\n",
       "      <th>Office type</th>\n",
       "    </tr>\n",
       "  </thead>\n",
       "  <tbody>\n",
       "    <tr>\n",
       "      <td>0</td>\n",
       "      <td>Abbotsford</td>\n",
       "      <td>MP</td>\n",
       "      <td>Ed Fast</td>\n",
       "      <td>Ed</td>\n",
       "      <td>Fast</td>\n",
       "      <td>Conservative</td>\n",
       "      <td>legislature</td>\n",
       "    </tr>\n",
       "    <tr>\n",
       "      <td>1</td>\n",
       "      <td>Abitibi—Baie-James—Nunavik—Eeyou</td>\n",
       "      <td>MP</td>\n",
       "      <td>Romeo Saganash</td>\n",
       "      <td>Romeo</td>\n",
       "      <td>Saganash</td>\n",
       "      <td>NDP</td>\n",
       "      <td>legislature</td>\n",
       "    </tr>\n",
       "    <tr>\n",
       "      <td>2</td>\n",
       "      <td>Abitibi—Témiscamingue</td>\n",
       "      <td>MP</td>\n",
       "      <td>Christine Moore</td>\n",
       "      <td>Christine</td>\n",
       "      <td>Moore</td>\n",
       "      <td>NDP</td>\n",
       "      <td>legislature</td>\n",
       "    </tr>\n",
       "    <tr>\n",
       "      <td>3</td>\n",
       "      <td>Acadie—Bathurst</td>\n",
       "      <td>MP</td>\n",
       "      <td>Serge Cormier</td>\n",
       "      <td>Serge</td>\n",
       "      <td>Cormier</td>\n",
       "      <td>Liberal</td>\n",
       "      <td>legislature</td>\n",
       "    </tr>\n",
       "    <tr>\n",
       "      <td>4</td>\n",
       "      <td>Ahuntsic-Cartierville</td>\n",
       "      <td>MP</td>\n",
       "      <td>Mélanie Joly</td>\n",
       "      <td>Mélanie</td>\n",
       "      <td>Joly</td>\n",
       "      <td>Liberal</td>\n",
       "      <td>legislature</td>\n",
       "    </tr>\n",
       "  </tbody>\n",
       "</table>\n",
       "</div>"
      ],
      "text/plain": [
       "                      District name Primary role             Name First name  \\\n",
       "0                        Abbotsford           MP          Ed Fast         Ed   \n",
       "1  Abitibi—Baie-James—Nunavik—Eeyou           MP   Romeo Saganash      Romeo   \n",
       "2             Abitibi—Témiscamingue           MP  Christine Moore  Christine   \n",
       "3                   Acadie—Bathurst           MP    Serge Cormier      Serge   \n",
       "4             Ahuntsic-Cartierville           MP     Mélanie Joly    Mélanie   \n",
       "\n",
       "  Last name    Party name  Office type  \n",
       "0      Fast  Conservative  legislature  \n",
       "1  Saganash           NDP  legislature  \n",
       "2     Moore           NDP  legislature  \n",
       "3   Cormier       Liberal  legislature  \n",
       "4      Joly       Liberal  legislature  "
      ]
     },
     "execution_count": 25,
     "metadata": {},
     "output_type": "execute_result"
    }
   ],
   "source": [
    "representatives_house_of_commons_df = representatives_house_of_commons_df[[ 'District name', 'Primary role', 'Name', 'First name', 'Last name', 'Party name', 'Office type']]\n",
    "representatives_house_of_commons_df.head()"
   ]
  },
  {
   "cell_type": "markdown",
   "metadata": {},
   "source": [
    "### 2.3.3 Deal with duplicated rows"
   ]
  },
  {
   "cell_type": "code",
   "execution_count": 26,
   "metadata": {},
   "outputs": [
    {
     "name": "stdout",
     "output_type": "stream",
     "text": [
      "No duplicated data!\n"
     ]
    }
   ],
   "source": [
    "if any(representatives_house_of_commons_df.duplicated()):\n",
    "    print('Duplicated data exist!')\n",
    "else:\n",
    "    print('No duplicated data!')"
   ]
  },
  {
   "cell_type": "markdown",
   "metadata": {},
   "source": [
    "### 2.3.4 Deal with missing values"
   ]
  },
  {
   "cell_type": "code",
   "execution_count": 27,
   "metadata": {},
   "outputs": [
    {
     "data": {
      "text/plain": [
       "District name    False\n",
       "Primary role     False\n",
       "Name             False\n",
       "First name       False\n",
       "Last name        False\n",
       "Party name       False\n",
       "Office type      False\n",
       "dtype: bool"
      ]
     },
     "execution_count": 27,
     "metadata": {},
     "output_type": "execute_result"
    }
   ],
   "source": [
    "representatives_house_of_commons_df.isnull().any()"
   ]
  },
  {
   "cell_type": "code",
   "execution_count": 28,
   "metadata": {},
   "outputs": [
    {
     "name": "stdout",
     "output_type": "stream",
     "text": [
      "<class 'pandas.core.frame.DataFrame'>\n",
      "RangeIndex: 333 entries, 0 to 332\n",
      "Data columns (total 7 columns):\n",
      "District name    333 non-null object\n",
      "Primary role     333 non-null object\n",
      "Name             333 non-null object\n",
      "First name       333 non-null object\n",
      "Last name        333 non-null object\n",
      "Party name       333 non-null object\n",
      "Office type      333 non-null object\n",
      "dtypes: object(7)\n",
      "memory usage: 18.3+ KB\n"
     ]
    }
   ],
   "source": [
    "representatives_house_of_commons_df.info()"
   ]
  },
  {
   "cell_type": "code",
   "execution_count": 29,
   "metadata": {},
   "outputs": [
    {
     "data": {
      "text/plain": [
       "array(['Conservative', 'NDP', 'Liberal', \"People's Party\", 'Independent',\n",
       "       'Bloc Québécois', 'Green Party',\n",
       "       'Co-operative Commonwealth Federation'], dtype=object)"
      ]
     },
     "execution_count": 29,
     "metadata": {},
     "output_type": "execute_result"
    }
   ],
   "source": [
    "representatives_house_of_commons_df['Party name'].unique()"
   ]
  },
  {
   "cell_type": "markdown",
   "metadata": {},
   "source": [
    "## 2.4 Check Provincial legislatures : Assemblée nationale du Québec"
   ]
  },
  {
   "cell_type": "markdown",
   "metadata": {},
   "source": [
    "### 2.4.1 review the first 5 rows of original data"
   ]
  },
  {
   "cell_type": "code",
   "execution_count": 30,
   "metadata": {},
   "outputs": [
    {
     "data": {
      "text/html": [
       "<div>\n",
       "<style scoped>\n",
       "    .dataframe tbody tr th:only-of-type {\n",
       "        vertical-align: middle;\n",
       "    }\n",
       "\n",
       "    .dataframe tbody tr th {\n",
       "        vertical-align: top;\n",
       "    }\n",
       "\n",
       "    .dataframe thead th {\n",
       "        text-align: right;\n",
       "    }\n",
       "</style>\n",
       "<table border=\"1\" class=\"dataframe\">\n",
       "  <thead>\n",
       "    <tr style=\"text-align: right;\">\n",
       "      <th></th>\n",
       "      <th>District name</th>\n",
       "      <th>Primary role</th>\n",
       "      <th>Name</th>\n",
       "      <th>First name</th>\n",
       "      <th>Last name</th>\n",
       "      <th>Gender</th>\n",
       "      <th>Party name</th>\n",
       "      <th>Email</th>\n",
       "      <th>Photo URL</th>\n",
       "      <th>Source URL</th>\n",
       "      <th>...</th>\n",
       "      <th>LinkedIn</th>\n",
       "      <th>YouTube</th>\n",
       "      <th>Office type</th>\n",
       "      <th>Address</th>\n",
       "      <th>Phone</th>\n",
       "      <th>Fax</th>\n",
       "      <th>Office type.1</th>\n",
       "      <th>Address.1</th>\n",
       "      <th>Phone.1</th>\n",
       "      <th>Fax.1</th>\n",
       "    </tr>\n",
       "  </thead>\n",
       "  <tbody>\n",
       "    <tr>\n",
       "      <td>0</td>\n",
       "      <td>Abitibi-Est</td>\n",
       "      <td>MNA</td>\n",
       "      <td>Pierre Dufour</td>\n",
       "      <td>Pierre</td>\n",
       "      <td>Dufour</td>\n",
       "      <td>NaN</td>\n",
       "      <td>Coalition avenir Québec</td>\n",
       "      <td>Pierre.Dufour.ABES@assnat.qc.ca</td>\n",
       "      <td>http://www.assnat.qc.ca/Media/Process.aspx?ass...</td>\n",
       "      <td>http://www.assnat.qc.ca/fr/deputes/dufour-pier...</td>\n",
       "      <td>...</td>\n",
       "      <td>NaN</td>\n",
       "      <td>NaN</td>\n",
       "      <td>legislature</td>\n",
       "      <td>NaN</td>\n",
       "      <td>1 418 643-7295</td>\n",
       "      <td>NaN</td>\n",
       "      <td>constituency</td>\n",
       "      <td>NaN</td>\n",
       "      <td>1 819 824-3333</td>\n",
       "      <td>NaN</td>\n",
       "    </tr>\n",
       "    <tr>\n",
       "      <td>1</td>\n",
       "      <td>Abitibi-Ouest</td>\n",
       "      <td>MNA</td>\n",
       "      <td>Suzanne Blais</td>\n",
       "      <td>Suzanne</td>\n",
       "      <td>Blais</td>\n",
       "      <td>NaN</td>\n",
       "      <td>Coalition avenir Québec</td>\n",
       "      <td>Suzanne.Blais.ABOU@assnat.qc.ca</td>\n",
       "      <td>http://www.assnat.qc.ca/Media/Process.aspx?ass...</td>\n",
       "      <td>http://www.assnat.qc.ca/fr/deputes/blais-suzan...</td>\n",
       "      <td>...</td>\n",
       "      <td>NaN</td>\n",
       "      <td>NaN</td>\n",
       "      <td>legislature</td>\n",
       "      <td>NaN</td>\n",
       "      <td>1 581 628-1857</td>\n",
       "      <td>NaN</td>\n",
       "      <td>constituency</td>\n",
       "      <td>NaN</td>\n",
       "      <td>1 819 444-5007</td>\n",
       "      <td>NaN</td>\n",
       "    </tr>\n",
       "    <tr>\n",
       "      <td>2</td>\n",
       "      <td>Acadie</td>\n",
       "      <td>MNA</td>\n",
       "      <td>Christine St-Pierre</td>\n",
       "      <td>Christine</td>\n",
       "      <td>St-Pierre</td>\n",
       "      <td>NaN</td>\n",
       "      <td>Parti libéral du Québec</td>\n",
       "      <td>Christine.St-Pierre.ACAD@assnat.qc.ca</td>\n",
       "      <td>http://www.assnat.qc.ca/Media/Process.aspx?ass...</td>\n",
       "      <td>http://www.assnat.qc.ca/fr/deputes/st-pierre-c...</td>\n",
       "      <td>...</td>\n",
       "      <td>NaN</td>\n",
       "      <td>NaN</td>\n",
       "      <td>legislature</td>\n",
       "      <td>NaN</td>\n",
       "      <td>1 581 628-1773</td>\n",
       "      <td>NaN</td>\n",
       "      <td>constituency</td>\n",
       "      <td>NaN</td>\n",
       "      <td>1 514 337-4278</td>\n",
       "      <td>NaN</td>\n",
       "    </tr>\n",
       "    <tr>\n",
       "      <td>3</td>\n",
       "      <td>Anjou-Louis-Riel</td>\n",
       "      <td>MNA</td>\n",
       "      <td>Lise Thériault</td>\n",
       "      <td>Lise</td>\n",
       "      <td>Thériault</td>\n",
       "      <td>NaN</td>\n",
       "      <td>Parti libéral du Québec</td>\n",
       "      <td>ltheriault-anjo@assnat.qc.ca</td>\n",
       "      <td>http://www.assnat.qc.ca/Media/Process.aspx?ass...</td>\n",
       "      <td>http://www.assnat.qc.ca/fr/deputes/theriault-l...</td>\n",
       "      <td>...</td>\n",
       "      <td>NaN</td>\n",
       "      <td>NaN</td>\n",
       "      <td>legislature</td>\n",
       "      <td>NaN</td>\n",
       "      <td>1 581 628-1775</td>\n",
       "      <td>NaN</td>\n",
       "      <td>constituency</td>\n",
       "      <td>NaN</td>\n",
       "      <td>1 514 493-9630</td>\n",
       "      <td>NaN</td>\n",
       "    </tr>\n",
       "    <tr>\n",
       "      <td>4</td>\n",
       "      <td>Argenteuil</td>\n",
       "      <td>MNA</td>\n",
       "      <td>Agnès Grondin</td>\n",
       "      <td>Agnès</td>\n",
       "      <td>Grondin</td>\n",
       "      <td>NaN</td>\n",
       "      <td>Coalition avenir Québec</td>\n",
       "      <td>Agnes.Grondin.ARGE@assnat.qc.ca</td>\n",
       "      <td>http://www.assnat.qc.ca/Media/Process.aspx?ass...</td>\n",
       "      <td>http://www.assnat.qc.ca/fr/deputes/grondin-agn...</td>\n",
       "      <td>...</td>\n",
       "      <td>NaN</td>\n",
       "      <td>NaN</td>\n",
       "      <td>legislature</td>\n",
       "      <td>NaN</td>\n",
       "      <td>1 418 528-6379</td>\n",
       "      <td>NaN</td>\n",
       "      <td>constituency</td>\n",
       "      <td>NaN</td>\n",
       "      <td>1 450 562-0785</td>\n",
       "      <td>NaN</td>\n",
       "    </tr>\n",
       "  </tbody>\n",
       "</table>\n",
       "<p>5 rows × 24 columns</p>\n",
       "</div>"
      ],
      "text/plain": [
       "      District name Primary role                 Name First name  Last name  \\\n",
       "0       Abitibi-Est          MNA        Pierre Dufour     Pierre     Dufour   \n",
       "1     Abitibi-Ouest          MNA        Suzanne Blais    Suzanne      Blais   \n",
       "2            Acadie          MNA  Christine St-Pierre  Christine  St-Pierre   \n",
       "3  Anjou-Louis-Riel          MNA       Lise Thériault       Lise  Thériault   \n",
       "4        Argenteuil          MNA        Agnès Grondin      Agnès    Grondin   \n",
       "\n",
       "   Gender               Party name                                  Email  \\\n",
       "0     NaN  Coalition avenir Québec        Pierre.Dufour.ABES@assnat.qc.ca   \n",
       "1     NaN  Coalition avenir Québec        Suzanne.Blais.ABOU@assnat.qc.ca   \n",
       "2     NaN  Parti libéral du Québec  Christine.St-Pierre.ACAD@assnat.qc.ca   \n",
       "3     NaN  Parti libéral du Québec           ltheriault-anjo@assnat.qc.ca   \n",
       "4     NaN  Coalition avenir Québec        Agnes.Grondin.ARGE@assnat.qc.ca   \n",
       "\n",
       "                                           Photo URL  \\\n",
       "0  http://www.assnat.qc.ca/Media/Process.aspx?ass...   \n",
       "1  http://www.assnat.qc.ca/Media/Process.aspx?ass...   \n",
       "2  http://www.assnat.qc.ca/Media/Process.aspx?ass...   \n",
       "3  http://www.assnat.qc.ca/Media/Process.aspx?ass...   \n",
       "4  http://www.assnat.qc.ca/Media/Process.aspx?ass...   \n",
       "\n",
       "                                          Source URL  ...  LinkedIn YouTube  \\\n",
       "0  http://www.assnat.qc.ca/fr/deputes/dufour-pier...  ...       NaN     NaN   \n",
       "1  http://www.assnat.qc.ca/fr/deputes/blais-suzan...  ...       NaN     NaN   \n",
       "2  http://www.assnat.qc.ca/fr/deputes/st-pierre-c...  ...       NaN     NaN   \n",
       "3  http://www.assnat.qc.ca/fr/deputes/theriault-l...  ...       NaN     NaN   \n",
       "4  http://www.assnat.qc.ca/fr/deputes/grondin-agn...  ...       NaN     NaN   \n",
       "\n",
       "   Office type Address           Phone  Fax Office type.1  Address.1  \\\n",
       "0  legislature     NaN  1 418 643-7295  NaN  constituency        NaN   \n",
       "1  legislature     NaN  1 581 628-1857  NaN  constituency        NaN   \n",
       "2  legislature     NaN  1 581 628-1773  NaN  constituency        NaN   \n",
       "3  legislature     NaN  1 581 628-1775  NaN  constituency        NaN   \n",
       "4  legislature     NaN  1 418 528-6379  NaN  constituency        NaN   \n",
       "\n",
       "          Phone.1  Fax.1  \n",
       "0  1 819 824-3333    NaN  \n",
       "1  1 819 444-5007    NaN  \n",
       "2  1 514 337-4278    NaN  \n",
       "3  1 514 493-9630    NaN  \n",
       "4  1 450 562-0785    NaN  \n",
       "\n",
       "[5 rows x 24 columns]"
      ]
     },
     "execution_count": 30,
     "metadata": {},
     "output_type": "execute_result"
    }
   ],
   "source": [
    "quebec_assemblee_nationale_df.head()"
   ]
  },
  {
   "cell_type": "code",
   "execution_count": 31,
   "metadata": {},
   "outputs": [
    {
     "name": "stdout",
     "output_type": "stream",
     "text": [
      "<class 'pandas.core.frame.DataFrame'>\n",
      "RangeIndex: 124 entries, 0 to 123\n",
      "Data columns (total 24 columns):\n",
      "District name    124 non-null object\n",
      "Primary role     124 non-null object\n",
      "Name             124 non-null object\n",
      "First name       124 non-null object\n",
      "Last name        124 non-null object\n",
      "Gender           0 non-null float64\n",
      "Party name       124 non-null object\n",
      "Email            123 non-null object\n",
      "Photo URL        124 non-null object\n",
      "Source URL       124 non-null object\n",
      "Website          0 non-null float64\n",
      "Facebook         120 non-null object\n",
      "Instagram        0 non-null float64\n",
      "Twitter          121 non-null object\n",
      "LinkedIn         0 non-null float64\n",
      "YouTube          0 non-null float64\n",
      "Office type      124 non-null object\n",
      "Address          0 non-null float64\n",
      "Phone            124 non-null object\n",
      "Fax              0 non-null float64\n",
      "Office type.1    121 non-null object\n",
      "Address.1        0 non-null float64\n",
      "Phone.1          121 non-null object\n",
      "Fax.1            0 non-null float64\n",
      "dtypes: float64(9), object(15)\n",
      "memory usage: 23.4+ KB\n"
     ]
    }
   ],
   "source": [
    "quebec_assemblee_nationale_df.info()"
   ]
  },
  {
   "cell_type": "markdown",
   "metadata": {},
   "source": [
    "###  2.4.2 Drop unneeded columns"
   ]
  },
  {
   "cell_type": "code",
   "execution_count": 32,
   "metadata": {
    "scrolled": true
   },
   "outputs": [
    {
     "data": {
      "text/plain": [
       "array(['District name', 'Primary role', 'Name', 'First name', 'Last name',\n",
       "       'Gender', 'Party name', 'Email', 'Photo URL', 'Source URL',\n",
       "       'Website', 'Facebook', 'Instagram', 'Twitter', 'LinkedIn',\n",
       "       'YouTube', 'Office type', 'Address', 'Phone', 'Fax',\n",
       "       'Office type.1', 'Address.1', 'Phone.1', 'Fax.1'], dtype=object)"
      ]
     },
     "execution_count": 32,
     "metadata": {},
     "output_type": "execute_result"
    }
   ],
   "source": [
    "col_quebec_assemblee_nationale_df = quebec_assemblee_nationale_df.columns.values\n",
    "col_quebec_assemblee_nationale_df"
   ]
  },
  {
   "cell_type": "markdown",
   "metadata": {},
   "source": [
    "**Select columns \\[ 'District name', 'Primary role', 'Name', 'First name', 'Last name', 'Party name', 'Office type'\\] for further analysis.**"
   ]
  },
  {
   "cell_type": "code",
   "execution_count": 33,
   "metadata": {},
   "outputs": [
    {
     "data": {
      "text/html": [
       "<div>\n",
       "<style scoped>\n",
       "    .dataframe tbody tr th:only-of-type {\n",
       "        vertical-align: middle;\n",
       "    }\n",
       "\n",
       "    .dataframe tbody tr th {\n",
       "        vertical-align: top;\n",
       "    }\n",
       "\n",
       "    .dataframe thead th {\n",
       "        text-align: right;\n",
       "    }\n",
       "</style>\n",
       "<table border=\"1\" class=\"dataframe\">\n",
       "  <thead>\n",
       "    <tr style=\"text-align: right;\">\n",
       "      <th></th>\n",
       "      <th>District name</th>\n",
       "      <th>Primary role</th>\n",
       "      <th>Name</th>\n",
       "      <th>First name</th>\n",
       "      <th>Last name</th>\n",
       "      <th>Party name</th>\n",
       "      <th>Office type</th>\n",
       "    </tr>\n",
       "  </thead>\n",
       "  <tbody>\n",
       "    <tr>\n",
       "      <td>0</td>\n",
       "      <td>Abitibi-Est</td>\n",
       "      <td>MNA</td>\n",
       "      <td>Pierre Dufour</td>\n",
       "      <td>Pierre</td>\n",
       "      <td>Dufour</td>\n",
       "      <td>Coalition avenir Québec</td>\n",
       "      <td>legislature</td>\n",
       "    </tr>\n",
       "    <tr>\n",
       "      <td>1</td>\n",
       "      <td>Abitibi-Ouest</td>\n",
       "      <td>MNA</td>\n",
       "      <td>Suzanne Blais</td>\n",
       "      <td>Suzanne</td>\n",
       "      <td>Blais</td>\n",
       "      <td>Coalition avenir Québec</td>\n",
       "      <td>legislature</td>\n",
       "    </tr>\n",
       "    <tr>\n",
       "      <td>2</td>\n",
       "      <td>Acadie</td>\n",
       "      <td>MNA</td>\n",
       "      <td>Christine St-Pierre</td>\n",
       "      <td>Christine</td>\n",
       "      <td>St-Pierre</td>\n",
       "      <td>Parti libéral du Québec</td>\n",
       "      <td>legislature</td>\n",
       "    </tr>\n",
       "    <tr>\n",
       "      <td>3</td>\n",
       "      <td>Anjou-Louis-Riel</td>\n",
       "      <td>MNA</td>\n",
       "      <td>Lise Thériault</td>\n",
       "      <td>Lise</td>\n",
       "      <td>Thériault</td>\n",
       "      <td>Parti libéral du Québec</td>\n",
       "      <td>legislature</td>\n",
       "    </tr>\n",
       "    <tr>\n",
       "      <td>4</td>\n",
       "      <td>Argenteuil</td>\n",
       "      <td>MNA</td>\n",
       "      <td>Agnès Grondin</td>\n",
       "      <td>Agnès</td>\n",
       "      <td>Grondin</td>\n",
       "      <td>Coalition avenir Québec</td>\n",
       "      <td>legislature</td>\n",
       "    </tr>\n",
       "  </tbody>\n",
       "</table>\n",
       "</div>"
      ],
      "text/plain": [
       "      District name Primary role                 Name First name  Last name  \\\n",
       "0       Abitibi-Est          MNA        Pierre Dufour     Pierre     Dufour   \n",
       "1     Abitibi-Ouest          MNA        Suzanne Blais    Suzanne      Blais   \n",
       "2            Acadie          MNA  Christine St-Pierre  Christine  St-Pierre   \n",
       "3  Anjou-Louis-Riel          MNA       Lise Thériault       Lise  Thériault   \n",
       "4        Argenteuil          MNA        Agnès Grondin      Agnès    Grondin   \n",
       "\n",
       "                Party name  Office type  \n",
       "0  Coalition avenir Québec  legislature  \n",
       "1  Coalition avenir Québec  legislature  \n",
       "2  Parti libéral du Québec  legislature  \n",
       "3  Parti libéral du Québec  legislature  \n",
       "4  Coalition avenir Québec  legislature  "
      ]
     },
     "execution_count": 33,
     "metadata": {},
     "output_type": "execute_result"
    }
   ],
   "source": [
    "quebec_assemblee_nationale_df = quebec_assemblee_nationale_df[['District name', 'Primary role', 'Name', 'First name', 'Last name', 'Party name', 'Office type']]\n",
    "quebec_assemblee_nationale_df.head()"
   ]
  },
  {
   "cell_type": "markdown",
   "metadata": {},
   "source": [
    "### 2.4.3 Deal with duplicated rows"
   ]
  },
  {
   "cell_type": "code",
   "execution_count": 34,
   "metadata": {},
   "outputs": [
    {
     "name": "stdout",
     "output_type": "stream",
     "text": [
      "No duplicated data!\n"
     ]
    }
   ],
   "source": [
    "if any(quebec_assemblee_nationale_df.duplicated()):\n",
    "    print('Duplicated data exist!')\n",
    "else:\n",
    "    print('No duplicated data!')"
   ]
  },
  {
   "cell_type": "markdown",
   "metadata": {},
   "source": [
    "### 2.4.4 Deal with missing values"
   ]
  },
  {
   "cell_type": "code",
   "execution_count": 35,
   "metadata": {},
   "outputs": [
    {
     "data": {
      "text/plain": [
       "District name    False\n",
       "Primary role     False\n",
       "Name             False\n",
       "First name       False\n",
       "Last name        False\n",
       "Party name       False\n",
       "Office type      False\n",
       "dtype: bool"
      ]
     },
     "execution_count": 35,
     "metadata": {},
     "output_type": "execute_result"
    }
   ],
   "source": [
    "quebec_assemblee_nationale_df.isnull().any()"
   ]
  },
  {
   "cell_type": "code",
   "execution_count": 36,
   "metadata": {},
   "outputs": [
    {
     "name": "stdout",
     "output_type": "stream",
     "text": [
      "<class 'pandas.core.frame.DataFrame'>\n",
      "RangeIndex: 124 entries, 0 to 123\n",
      "Data columns (total 7 columns):\n",
      "District name    124 non-null object\n",
      "Primary role     124 non-null object\n",
      "Name             124 non-null object\n",
      "First name       124 non-null object\n",
      "Last name        124 non-null object\n",
      "Party name       124 non-null object\n",
      "Office type      124 non-null object\n",
      "dtypes: object(7)\n",
      "memory usage: 6.9+ KB\n"
     ]
    }
   ],
   "source": [
    "quebec_assemblee_nationale_df.info()"
   ]
  },
  {
   "cell_type": "markdown",
   "metadata": {},
   "source": [
    "## 2.5 Check Quebec councils : Conseil municipal de Montréal"
   ]
  },
  {
   "cell_type": "markdown",
   "metadata": {},
   "source": [
    "### 2.5.1 review the first 5 rows of original data"
   ]
  },
  {
   "cell_type": "code",
   "execution_count": 37,
   "metadata": {},
   "outputs": [
    {
     "data": {
      "text/html": [
       "<div>\n",
       "<style scoped>\n",
       "    .dataframe tbody tr th:only-of-type {\n",
       "        vertical-align: middle;\n",
       "    }\n",
       "\n",
       "    .dataframe tbody tr th {\n",
       "        vertical-align: top;\n",
       "    }\n",
       "\n",
       "    .dataframe thead th {\n",
       "        text-align: right;\n",
       "    }\n",
       "</style>\n",
       "<table border=\"1\" class=\"dataframe\">\n",
       "  <thead>\n",
       "    <tr style=\"text-align: right;\">\n",
       "      <th></th>\n",
       "      <th>District name</th>\n",
       "      <th>Primary role</th>\n",
       "      <th>Name</th>\n",
       "      <th>First name</th>\n",
       "      <th>Last name</th>\n",
       "      <th>Gender</th>\n",
       "      <th>Party name</th>\n",
       "      <th>Email</th>\n",
       "      <th>Photo URL</th>\n",
       "      <th>Source URL</th>\n",
       "      <th>Website</th>\n",
       "      <th>Facebook</th>\n",
       "      <th>Instagram</th>\n",
       "      <th>Twitter</th>\n",
       "      <th>LinkedIn</th>\n",
       "      <th>YouTube</th>\n",
       "      <th>Office type</th>\n",
       "      <th>Address</th>\n",
       "      <th>Phone</th>\n",
       "      <th>Fax</th>\n",
       "    </tr>\n",
       "  </thead>\n",
       "  <tbody>\n",
       "    <tr>\n",
       "      <td>0</td>\n",
       "      <td>Ahuntsic</td>\n",
       "      <td>Conseiller de la ville</td>\n",
       "      <td>Nathalie Goulet</td>\n",
       "      <td>Nathalie</td>\n",
       "      <td>Goulet</td>\n",
       "      <td>F</td>\n",
       "      <td>Projet Montréal - Équipe Valérie Plante</td>\n",
       "      <td>nathalie.goulet@ville.montreal.qc.ca</td>\n",
       "      <td>http://ville.montreal.qc.ca/pls/portal/docs/PA...</td>\n",
       "      <td>http://ville.montreal.qc.ca/portal/page?_pagei...</td>\n",
       "      <td>NaN</td>\n",
       "      <td>NaN</td>\n",
       "      <td>NaN</td>\n",
       "      <td>NaN</td>\n",
       "      <td>NaN</td>\n",
       "      <td>NaN</td>\n",
       "      <td>legislature</td>\n",
       "      <td>555, rue Chabanel Ouest\\nbureau 600\\nMontréal ...</td>\n",
       "      <td>1 514 872-2246</td>\n",
       "      <td>1 514 868-3324</td>\n",
       "    </tr>\n",
       "    <tr>\n",
       "      <td>1</td>\n",
       "      <td>Ahuntsic-Cartierville</td>\n",
       "      <td>Maire d'arrondissement</td>\n",
       "      <td>Émilie Thuillier</td>\n",
       "      <td>Émilie</td>\n",
       "      <td>Thuillier</td>\n",
       "      <td>F</td>\n",
       "      <td>Projet Montréal - Équipe Valérie Plante</td>\n",
       "      <td>emilie.thuillier@ville.montreal.qc.ca</td>\n",
       "      <td>http://ville.montreal.qc.ca/pls/portal/docs/PA...</td>\n",
       "      <td>http://ville.montreal.qc.ca/portal/page?_pagei...</td>\n",
       "      <td>NaN</td>\n",
       "      <td>NaN</td>\n",
       "      <td>NaN</td>\n",
       "      <td>NaN</td>\n",
       "      <td>NaN</td>\n",
       "      <td>NaN</td>\n",
       "      <td>legislature</td>\n",
       "      <td>555, rue Chabanel Ouest\\nbureau 600\\nMontréal ...</td>\n",
       "      <td>1 514 872-2246</td>\n",
       "      <td>1 514 868-3324</td>\n",
       "    </tr>\n",
       "    <tr>\n",
       "      <td>2</td>\n",
       "      <td>Anjou</td>\n",
       "      <td>Conseiller de la ville</td>\n",
       "      <td>Andrée Hénault</td>\n",
       "      <td>Andrée</td>\n",
       "      <td>Hénault</td>\n",
       "      <td>F</td>\n",
       "      <td>Équipe Anjou</td>\n",
       "      <td>ahenault@ville.montreal.qc.ca</td>\n",
       "      <td>http://ville.montreal.qc.ca/pls/portal/docs/PA...</td>\n",
       "      <td>http://ville.montreal.qc.ca/portal/page?_pagei...</td>\n",
       "      <td>NaN</td>\n",
       "      <td>NaN</td>\n",
       "      <td>NaN</td>\n",
       "      <td>NaN</td>\n",
       "      <td>NaN</td>\n",
       "      <td>NaN</td>\n",
       "      <td>legislature</td>\n",
       "      <td>7701 Boul Louis-H.-Lafontaine\\nAnjou QC  H1K 4B9</td>\n",
       "      <td>1 514 493-8051</td>\n",
       "      <td>1 514 493-8013</td>\n",
       "    </tr>\n",
       "    <tr>\n",
       "      <td>3</td>\n",
       "      <td>Anjou</td>\n",
       "      <td>Maire d'arrondissement</td>\n",
       "      <td>Luis Miranda</td>\n",
       "      <td>Luis</td>\n",
       "      <td>Miranda</td>\n",
       "      <td>M</td>\n",
       "      <td>Équipe Anjou</td>\n",
       "      <td>lmiranda@ville.montreal.qc.ca</td>\n",
       "      <td>http://ville.montreal.qc.ca/pls/portal/docs/PA...</td>\n",
       "      <td>http://ville.montreal.qc.ca/portal/page?_pagei...</td>\n",
       "      <td>NaN</td>\n",
       "      <td>NaN</td>\n",
       "      <td>NaN</td>\n",
       "      <td>NaN</td>\n",
       "      <td>NaN</td>\n",
       "      <td>NaN</td>\n",
       "      <td>legislature</td>\n",
       "      <td>7701 Boul Louis-H.-Lafontaine\\nAnjou QC  H1K 4B9</td>\n",
       "      <td>1 514 493-8010</td>\n",
       "      <td>1 514 493-8013</td>\n",
       "    </tr>\n",
       "    <tr>\n",
       "      <td>4</td>\n",
       "      <td>Bois-de-Liesse</td>\n",
       "      <td>Conseiller de la ville</td>\n",
       "      <td>Benoit Langevin</td>\n",
       "      <td>Benoit</td>\n",
       "      <td>Langevin</td>\n",
       "      <td>M</td>\n",
       "      <td>Ensemble Montréal</td>\n",
       "      <td>benoitm.langevin@ville.montreal.qc.ca</td>\n",
       "      <td>http://ville.montreal.qc.ca/pls/portal/docs/PA...</td>\n",
       "      <td>http://ville.montreal.qc.ca/portal/page?_pagei...</td>\n",
       "      <td>NaN</td>\n",
       "      <td>NaN</td>\n",
       "      <td>NaN</td>\n",
       "      <td>NaN</td>\n",
       "      <td>NaN</td>\n",
       "      <td>NaN</td>\n",
       "      <td>legislature</td>\n",
       "      <td>13665, boul. de Pierrefonds\\nPierrefonds QC  H...</td>\n",
       "      <td>1 514 624-1488</td>\n",
       "      <td>1 514 624-1415</td>\n",
       "    </tr>\n",
       "  </tbody>\n",
       "</table>\n",
       "</div>"
      ],
      "text/plain": [
       "           District name            Primary role              Name First name  \\\n",
       "0               Ahuntsic  Conseiller de la ville   Nathalie Goulet   Nathalie   \n",
       "1  Ahuntsic-Cartierville  Maire d'arrondissement  Émilie Thuillier     Émilie   \n",
       "2                  Anjou  Conseiller de la ville    Andrée Hénault     Andrée   \n",
       "3                  Anjou  Maire d'arrondissement      Luis Miranda       Luis   \n",
       "4         Bois-de-Liesse  Conseiller de la ville   Benoit Langevin     Benoit   \n",
       "\n",
       "   Last name Gender                               Party name  \\\n",
       "0     Goulet      F  Projet Montréal - Équipe Valérie Plante   \n",
       "1  Thuillier      F  Projet Montréal - Équipe Valérie Plante   \n",
       "2    Hénault      F                             Équipe Anjou   \n",
       "3    Miranda      M                             Équipe Anjou   \n",
       "4   Langevin      M                        Ensemble Montréal   \n",
       "\n",
       "                                   Email  \\\n",
       "0   nathalie.goulet@ville.montreal.qc.ca   \n",
       "1  emilie.thuillier@ville.montreal.qc.ca   \n",
       "2          ahenault@ville.montreal.qc.ca   \n",
       "3          lmiranda@ville.montreal.qc.ca   \n",
       "4  benoitm.langevin@ville.montreal.qc.ca   \n",
       "\n",
       "                                           Photo URL  \\\n",
       "0  http://ville.montreal.qc.ca/pls/portal/docs/PA...   \n",
       "1  http://ville.montreal.qc.ca/pls/portal/docs/PA...   \n",
       "2  http://ville.montreal.qc.ca/pls/portal/docs/PA...   \n",
       "3  http://ville.montreal.qc.ca/pls/portal/docs/PA...   \n",
       "4  http://ville.montreal.qc.ca/pls/portal/docs/PA...   \n",
       "\n",
       "                                          Source URL  Website  Facebook  \\\n",
       "0  http://ville.montreal.qc.ca/portal/page?_pagei...      NaN       NaN   \n",
       "1  http://ville.montreal.qc.ca/portal/page?_pagei...      NaN       NaN   \n",
       "2  http://ville.montreal.qc.ca/portal/page?_pagei...      NaN       NaN   \n",
       "3  http://ville.montreal.qc.ca/portal/page?_pagei...      NaN       NaN   \n",
       "4  http://ville.montreal.qc.ca/portal/page?_pagei...      NaN       NaN   \n",
       "\n",
       "   Instagram  Twitter  LinkedIn  YouTube  Office type  \\\n",
       "0        NaN      NaN       NaN      NaN  legislature   \n",
       "1        NaN      NaN       NaN      NaN  legislature   \n",
       "2        NaN      NaN       NaN      NaN  legislature   \n",
       "3        NaN      NaN       NaN      NaN  legislature   \n",
       "4        NaN      NaN       NaN      NaN  legislature   \n",
       "\n",
       "                                             Address           Phone  \\\n",
       "0  555, rue Chabanel Ouest\\nbureau 600\\nMontréal ...  1 514 872-2246   \n",
       "1  555, rue Chabanel Ouest\\nbureau 600\\nMontréal ...  1 514 872-2246   \n",
       "2   7701 Boul Louis-H.-Lafontaine\\nAnjou QC  H1K 4B9  1 514 493-8051   \n",
       "3   7701 Boul Louis-H.-Lafontaine\\nAnjou QC  H1K 4B9  1 514 493-8010   \n",
       "4  13665, boul. de Pierrefonds\\nPierrefonds QC  H...  1 514 624-1488   \n",
       "\n",
       "              Fax  \n",
       "0  1 514 868-3324  \n",
       "1  1 514 868-3324  \n",
       "2  1 514 493-8013  \n",
       "3  1 514 493-8013  \n",
       "4  1 514 624-1415  "
      ]
     },
     "execution_count": 37,
     "metadata": {},
     "output_type": "execute_result"
    }
   ],
   "source": [
    "conseil_municipal_de_montreal_df.head()"
   ]
  },
  {
   "cell_type": "code",
   "execution_count": 38,
   "metadata": {
    "scrolled": false
   },
   "outputs": [
    {
     "name": "stdout",
     "output_type": "stream",
     "text": [
      "<class 'pandas.core.frame.DataFrame'>\n",
      "RangeIndex: 64 entries, 0 to 63\n",
      "Data columns (total 20 columns):\n",
      "District name    64 non-null object\n",
      "Primary role     64 non-null object\n",
      "Name             64 non-null object\n",
      "First name       64 non-null object\n",
      "Last name        64 non-null object\n",
      "Gender           64 non-null object\n",
      "Party name       64 non-null object\n",
      "Email            63 non-null object\n",
      "Photo URL        64 non-null object\n",
      "Source URL       64 non-null object\n",
      "Website          0 non-null float64\n",
      "Facebook         0 non-null float64\n",
      "Instagram        0 non-null float64\n",
      "Twitter          0 non-null float64\n",
      "LinkedIn         0 non-null float64\n",
      "YouTube          0 non-null float64\n",
      "Office type      63 non-null object\n",
      "Address          63 non-null object\n",
      "Phone            61 non-null object\n",
      "Fax              62 non-null object\n",
      "dtypes: float64(6), object(14)\n",
      "memory usage: 10.1+ KB\n"
     ]
    }
   ],
   "source": [
    "conseil_municipal_de_montreal_df.info()"
   ]
  },
  {
   "cell_type": "markdown",
   "metadata": {},
   "source": [
    "###  2.5.2 Drop unneeded columns"
   ]
  },
  {
   "cell_type": "code",
   "execution_count": 39,
   "metadata": {},
   "outputs": [
    {
     "data": {
      "text/plain": [
       "array(['District name', 'Primary role', 'Name', 'First name', 'Last name',\n",
       "       'Gender', 'Party name', 'Email', 'Photo URL', 'Source URL',\n",
       "       'Website', 'Facebook', 'Instagram', 'Twitter', 'LinkedIn',\n",
       "       'YouTube', 'Office type', 'Address', 'Phone', 'Fax'], dtype=object)"
      ]
     },
     "execution_count": 39,
     "metadata": {},
     "output_type": "execute_result"
    }
   ],
   "source": [
    "col_conseil_municipal_de_montreal_df = conseil_municipal_de_montreal_df.columns.values\n",
    "col_conseil_municipal_de_montreal_df"
   ]
  },
  {
   "cell_type": "markdown",
   "metadata": {},
   "source": [
    "**Select columns \\[ 'District name', 'Primary role', 'Name', 'First name', 'Last name', 'Gender', 'Party name', 'Office type'\\] for further analysis.**"
   ]
  },
  {
   "cell_type": "code",
   "execution_count": 40,
   "metadata": {},
   "outputs": [
    {
     "data": {
      "text/html": [
       "<div>\n",
       "<style scoped>\n",
       "    .dataframe tbody tr th:only-of-type {\n",
       "        vertical-align: middle;\n",
       "    }\n",
       "\n",
       "    .dataframe tbody tr th {\n",
       "        vertical-align: top;\n",
       "    }\n",
       "\n",
       "    .dataframe thead th {\n",
       "        text-align: right;\n",
       "    }\n",
       "</style>\n",
       "<table border=\"1\" class=\"dataframe\">\n",
       "  <thead>\n",
       "    <tr style=\"text-align: right;\">\n",
       "      <th></th>\n",
       "      <th>District name</th>\n",
       "      <th>Primary role</th>\n",
       "      <th>Name</th>\n",
       "      <th>First name</th>\n",
       "      <th>Last name</th>\n",
       "      <th>Gender</th>\n",
       "      <th>Party name</th>\n",
       "      <th>Office type</th>\n",
       "    </tr>\n",
       "  </thead>\n",
       "  <tbody>\n",
       "    <tr>\n",
       "      <td>0</td>\n",
       "      <td>Ahuntsic</td>\n",
       "      <td>Conseiller de la ville</td>\n",
       "      <td>Nathalie Goulet</td>\n",
       "      <td>Nathalie</td>\n",
       "      <td>Goulet</td>\n",
       "      <td>F</td>\n",
       "      <td>Projet Montréal - Équipe Valérie Plante</td>\n",
       "      <td>legislature</td>\n",
       "    </tr>\n",
       "    <tr>\n",
       "      <td>1</td>\n",
       "      <td>Ahuntsic-Cartierville</td>\n",
       "      <td>Maire d'arrondissement</td>\n",
       "      <td>Émilie Thuillier</td>\n",
       "      <td>Émilie</td>\n",
       "      <td>Thuillier</td>\n",
       "      <td>F</td>\n",
       "      <td>Projet Montréal - Équipe Valérie Plante</td>\n",
       "      <td>legislature</td>\n",
       "    </tr>\n",
       "    <tr>\n",
       "      <td>2</td>\n",
       "      <td>Anjou</td>\n",
       "      <td>Conseiller de la ville</td>\n",
       "      <td>Andrée Hénault</td>\n",
       "      <td>Andrée</td>\n",
       "      <td>Hénault</td>\n",
       "      <td>F</td>\n",
       "      <td>Équipe Anjou</td>\n",
       "      <td>legislature</td>\n",
       "    </tr>\n",
       "    <tr>\n",
       "      <td>3</td>\n",
       "      <td>Anjou</td>\n",
       "      <td>Maire d'arrondissement</td>\n",
       "      <td>Luis Miranda</td>\n",
       "      <td>Luis</td>\n",
       "      <td>Miranda</td>\n",
       "      <td>M</td>\n",
       "      <td>Équipe Anjou</td>\n",
       "      <td>legislature</td>\n",
       "    </tr>\n",
       "    <tr>\n",
       "      <td>4</td>\n",
       "      <td>Bois-de-Liesse</td>\n",
       "      <td>Conseiller de la ville</td>\n",
       "      <td>Benoit Langevin</td>\n",
       "      <td>Benoit</td>\n",
       "      <td>Langevin</td>\n",
       "      <td>M</td>\n",
       "      <td>Ensemble Montréal</td>\n",
       "      <td>legislature</td>\n",
       "    </tr>\n",
       "  </tbody>\n",
       "</table>\n",
       "</div>"
      ],
      "text/plain": [
       "           District name            Primary role              Name First name  \\\n",
       "0               Ahuntsic  Conseiller de la ville   Nathalie Goulet   Nathalie   \n",
       "1  Ahuntsic-Cartierville  Maire d'arrondissement  Émilie Thuillier     Émilie   \n",
       "2                  Anjou  Conseiller de la ville    Andrée Hénault     Andrée   \n",
       "3                  Anjou  Maire d'arrondissement      Luis Miranda       Luis   \n",
       "4         Bois-de-Liesse  Conseiller de la ville   Benoit Langevin     Benoit   \n",
       "\n",
       "   Last name Gender                               Party name  Office type  \n",
       "0     Goulet      F  Projet Montréal - Équipe Valérie Plante  legislature  \n",
       "1  Thuillier      F  Projet Montréal - Équipe Valérie Plante  legislature  \n",
       "2    Hénault      F                             Équipe Anjou  legislature  \n",
       "3    Miranda      M                             Équipe Anjou  legislature  \n",
       "4   Langevin      M                        Ensemble Montréal  legislature  "
      ]
     },
     "execution_count": 40,
     "metadata": {},
     "output_type": "execute_result"
    }
   ],
   "source": [
    "conseil_municipal_de_montreal_df = conseil_municipal_de_montreal_df[['District name', 'Primary role', 'Name', 'First name', 'Last name', 'Gender', 'Party name', 'Office type']]\n",
    "conseil_municipal_de_montreal_df.head()"
   ]
  },
  {
   "cell_type": "markdown",
   "metadata": {},
   "source": [
    "### 2.5.3 Deal with duplicated rows"
   ]
  },
  {
   "cell_type": "code",
   "execution_count": 41,
   "metadata": {},
   "outputs": [
    {
     "name": "stdout",
     "output_type": "stream",
     "text": [
      "No duplicated data!\n"
     ]
    }
   ],
   "source": [
    "if any(conseil_municipal_de_montreal_df.duplicated()):\n",
    "    print('Duplicated data exist!')\n",
    "else:\n",
    "    print('No duplicated data!')"
   ]
  },
  {
   "cell_type": "markdown",
   "metadata": {},
   "source": [
    "### 2.5.4 Deal with missing values"
   ]
  },
  {
   "cell_type": "code",
   "execution_count": 42,
   "metadata": {},
   "outputs": [
    {
     "data": {
      "text/plain": [
       "District name    False\n",
       "Primary role     False\n",
       "Name             False\n",
       "First name       False\n",
       "Last name        False\n",
       "Gender           False\n",
       "Party name       False\n",
       "Office type       True\n",
       "dtype: bool"
      ]
     },
     "execution_count": 42,
     "metadata": {},
     "output_type": "execute_result"
    }
   ],
   "source": [
    "conseil_municipal_de_montreal_df.isnull().any()"
   ]
  },
  {
   "cell_type": "code",
   "execution_count": 43,
   "metadata": {},
   "outputs": [
    {
     "data": {
      "text/html": [
       "<div>\n",
       "<style scoped>\n",
       "    .dataframe tbody tr th:only-of-type {\n",
       "        vertical-align: middle;\n",
       "    }\n",
       "\n",
       "    .dataframe tbody tr th {\n",
       "        vertical-align: top;\n",
       "    }\n",
       "\n",
       "    .dataframe thead th {\n",
       "        text-align: right;\n",
       "    }\n",
       "</style>\n",
       "<table border=\"1\" class=\"dataframe\">\n",
       "  <thead>\n",
       "    <tr style=\"text-align: right;\">\n",
       "      <th></th>\n",
       "      <th>District name</th>\n",
       "      <th>Primary role</th>\n",
       "      <th>Name</th>\n",
       "      <th>First name</th>\n",
       "      <th>Last name</th>\n",
       "      <th>Gender</th>\n",
       "      <th>Party name</th>\n",
       "      <th>Office type</th>\n",
       "    </tr>\n",
       "  </thead>\n",
       "  <tbody>\n",
       "    <tr>\n",
       "      <td>30</td>\n",
       "      <td>Montréal</td>\n",
       "      <td>Maire de la Ville de Montréal</td>\n",
       "      <td>Valérie Plante</td>\n",
       "      <td>Valérie</td>\n",
       "      <td>Plante</td>\n",
       "      <td>F</td>\n",
       "      <td>Projet Montréal - Équipe Valérie Plante</td>\n",
       "      <td>NaN</td>\n",
       "    </tr>\n",
       "  </tbody>\n",
       "</table>\n",
       "</div>"
      ],
      "text/plain": [
       "   District name                   Primary role            Name First name  \\\n",
       "30      Montréal  Maire de la Ville de Montréal  Valérie Plante    Valérie   \n",
       "\n",
       "   Last name Gender                               Party name Office type  \n",
       "30    Plante      F  Projet Montréal - Équipe Valérie Plante         NaN  "
      ]
     },
     "execution_count": 43,
     "metadata": {},
     "output_type": "execute_result"
    }
   ],
   "source": [
    "conseil_municipal_de_montreal_df[conseil_municipal_de_montreal_df['Office type'].isnull()]"
   ]
  },
  {
   "cell_type": "markdown",
   "metadata": {},
   "source": [
    "* Since only one 'Office Type' misses, we leave it now."
   ]
  },
  {
   "cell_type": "code",
   "execution_count": 44,
   "metadata": {},
   "outputs": [
    {
     "name": "stdout",
     "output_type": "stream",
     "text": [
      "<class 'pandas.core.frame.DataFrame'>\n",
      "RangeIndex: 64 entries, 0 to 63\n",
      "Data columns (total 8 columns):\n",
      "District name    64 non-null object\n",
      "Primary role     64 non-null object\n",
      "Name             64 non-null object\n",
      "First name       64 non-null object\n",
      "Last name        64 non-null object\n",
      "Gender           64 non-null object\n",
      "Party name       64 non-null object\n",
      "Office type      63 non-null object\n",
      "dtypes: object(8)\n",
      "memory usage: 4.1+ KB\n"
     ]
    }
   ],
   "source": [
    "conseil_municipal_de_montreal_df.info()"
   ]
  },
  {
   "cell_type": "markdown",
   "metadata": {},
   "source": [
    "# 3 Data Analysis"
   ]
  },
  {
   "cell_type": "code",
   "execution_count": 45,
   "metadata": {},
   "outputs": [],
   "source": [
    "def draw_barh(serr, title_pic, save_path):\n",
    "    row_name = list(serr.index)\n",
    "    row_name.reverse()\n",
    "\n",
    "    fig, ax = plt.subplots(figsize=(10,5))\n",
    "    b = ax.barh(serr.index, serr.values, color='#6699CC')\n",
    "\n",
    "    for rect in b:\n",
    "        w = rect.get_width()\n",
    "        ax.text(w, rect.get_y()+rect.get_height()/2, '%d' %\n",
    "                int(w), ha='left', va='center')\n",
    "\n",
    "    ax.set_yticks(range(len(row_name)))\n",
    "    ax.set_yticklabels(list(serr.index))\n",
    "\n",
    "    plt.xticks(())\n",
    "\n",
    "    plt.title(title_pic, loc='center', fontsize='15',\n",
    "              fontweight='bold')\n",
    "    plt.savefig(save_path)\n",
    "    plt.show()"
   ]
  },
  {
   "cell_type": "markdown",
   "metadata": {},
   "source": [
    "## 3.1 Analyze Candidates : House of Commons"
   ]
  },
  {
   "cell_type": "code",
   "execution_count": 46,
   "metadata": {},
   "outputs": [
    {
     "data": {
      "text/html": [
       "<div>\n",
       "<style scoped>\n",
       "    .dataframe tbody tr th:only-of-type {\n",
       "        vertical-align: middle;\n",
       "    }\n",
       "\n",
       "    .dataframe tbody tr th {\n",
       "        vertical-align: top;\n",
       "    }\n",
       "\n",
       "    .dataframe thead th {\n",
       "        text-align: right;\n",
       "    }\n",
       "</style>\n",
       "<table border=\"1\" class=\"dataframe\">\n",
       "  <thead>\n",
       "    <tr style=\"text-align: right;\">\n",
       "      <th></th>\n",
       "      <th>District name</th>\n",
       "      <th>Primary role</th>\n",
       "      <th>Name</th>\n",
       "      <th>First name</th>\n",
       "      <th>Last name</th>\n",
       "      <th>Party name</th>\n",
       "    </tr>\n",
       "  </thead>\n",
       "  <tbody>\n",
       "    <tr>\n",
       "      <td>0</td>\n",
       "      <td>Abbotsford</td>\n",
       "      <td>candidate</td>\n",
       "      <td>Ed Fast</td>\n",
       "      <td>Ed</td>\n",
       "      <td>Fast</td>\n",
       "      <td>Conservative</td>\n",
       "    </tr>\n",
       "    <tr>\n",
       "      <td>1</td>\n",
       "      <td>Abbotsford</td>\n",
       "      <td>candidate</td>\n",
       "      <td>James Duncan</td>\n",
       "      <td>James</td>\n",
       "      <td>Duncan</td>\n",
       "      <td>People's Party</td>\n",
       "    </tr>\n",
       "    <tr>\n",
       "      <td>2</td>\n",
       "      <td>Abbotsford</td>\n",
       "      <td>candidate</td>\n",
       "      <td>Madeleine Sauvé</td>\n",
       "      <td>Madeleine</td>\n",
       "      <td>Sauvé</td>\n",
       "      <td>NDP</td>\n",
       "    </tr>\n",
       "    <tr>\n",
       "      <td>3</td>\n",
       "      <td>Abbotsford</td>\n",
       "      <td>candidate</td>\n",
       "      <td>Seamus Heffernan</td>\n",
       "      <td>Seamus</td>\n",
       "      <td>Heffernan</td>\n",
       "      <td>Liberal</td>\n",
       "    </tr>\n",
       "    <tr>\n",
       "      <td>4</td>\n",
       "      <td>Abbotsford</td>\n",
       "      <td>candidate</td>\n",
       "      <td>Stephen Fowler</td>\n",
       "      <td>Stephen</td>\n",
       "      <td>Fowler</td>\n",
       "      <td>Green Party</td>\n",
       "    </tr>\n",
       "  </tbody>\n",
       "</table>\n",
       "</div>"
      ],
      "text/plain": [
       "  District name Primary role              Name First name  Last name  \\\n",
       "0    Abbotsford    candidate           Ed Fast         Ed       Fast   \n",
       "1    Abbotsford    candidate      James Duncan      James     Duncan   \n",
       "2    Abbotsford    candidate   Madeleine Sauvé  Madeleine      Sauvé   \n",
       "3    Abbotsford    candidate  Seamus Heffernan     Seamus  Heffernan   \n",
       "4    Abbotsford    candidate    Stephen Fowler    Stephen     Fowler   \n",
       "\n",
       "       Party name  \n",
       "0    Conservative  \n",
       "1  People's Party  \n",
       "2             NDP  \n",
       "3         Liberal  \n",
       "4     Green Party  "
      ]
     },
     "execution_count": 46,
     "metadata": {},
     "output_type": "execute_result"
    }
   ],
   "source": [
    "candidates_house_of_commons_df.head()"
   ]
  },
  {
   "cell_type": "code",
   "execution_count": 47,
   "metadata": {},
   "outputs": [
    {
     "data": {
      "text/plain": [
       "1"
      ]
     },
     "execution_count": 47,
     "metadata": {},
     "output_type": "execute_result"
    }
   ],
   "source": [
    "len(candidates_house_of_commons_df['Primary role'].unique())"
   ]
  },
  {
   "cell_type": "code",
   "execution_count": 48,
   "metadata": {},
   "outputs": [
    {
     "data": {
      "text/plain": [
       "338"
      ]
     },
     "execution_count": 48,
     "metadata": {},
     "output_type": "execute_result"
    }
   ],
   "source": [
    "len(candidates_house_of_commons_df['District name'].unique())"
   ]
  },
  {
   "cell_type": "code",
   "execution_count": 49,
   "metadata": {},
   "outputs": [
    {
     "data": {
      "text/plain": [
       "array(['Conservative', \"People's Party\", 'NDP', 'Liberal', 'Green Party',\n",
       "       'Bloc Québécois', 'Communist Party of Canada',\n",
       "       'Animal Protection Party of Canada',\n",
       "       'Marxist-Leninist Party of Canada', nan], dtype=object)"
      ]
     },
     "execution_count": 49,
     "metadata": {},
     "output_type": "execute_result"
    }
   ],
   "source": [
    "candidates_house_of_commons_df['Party name'].unique()"
   ]
  },
  {
   "cell_type": "code",
   "execution_count": 50,
   "metadata": {},
   "outputs": [
    {
     "data": {
      "text/plain": [
       "10"
      ]
     },
     "execution_count": 50,
     "metadata": {},
     "output_type": "execute_result"
    }
   ],
   "source": [
    "len(candidates_house_of_commons_df['Party name'].unique())"
   ]
  },
  {
   "cell_type": "markdown",
   "metadata": {},
   "source": [
    "* Group by 'Party name'"
   ]
  },
  {
   "cell_type": "code",
   "execution_count": 51,
   "metadata": {},
   "outputs": [
    {
     "data": {
      "text/plain": [
       "Party name\n",
       "Animal Protection Party of Canada      2\n",
       "Bloc Québécois                        76\n",
       "Communist Party of Canada              2\n",
       "Conservative                         333\n",
       "Green Party                          239\n",
       "Liberal                              309\n",
       "Marxist-Leninist Party of Canada       1\n",
       "NDP                                  338\n",
       "People's Party                       131\n",
       "dtype: int64"
      ]
     },
     "execution_count": 51,
     "metadata": {},
     "output_type": "execute_result"
    }
   ],
   "source": [
    "obj = candidates_house_of_commons_df.groupby('Party name')\n",
    "\n",
    "obj.size()"
   ]
  },
  {
   "cell_type": "code",
   "execution_count": 52,
   "metadata": {},
   "outputs": [
    {
     "data": {
      "text/plain": [
       "Index(['Marxist-Leninist Party of Canada', 'Animal Protection Party of Canada',\n",
       "       'Communist Party of Canada', 'Bloc Québécois', 'People's Party',\n",
       "       'Green Party', 'Liberal', 'Conservative', 'NDP'],\n",
       "      dtype='object', name='Party name')"
      ]
     },
     "execution_count": 52,
     "metadata": {},
     "output_type": "execute_result"
    }
   ],
   "source": [
    "serr=pd.Series(obj.size()).sort_values(ascending=True)\n",
    "\n",
    "serr.index"
   ]
  },
  {
   "cell_type": "code",
   "execution_count": 53,
   "metadata": {},
   "outputs": [
    {
     "data": {
      "image/png": "[encoded data removed]",
      "text/plain": [
       "<Figure size 720x360 with 1 Axes>"
      ]
     },
     "metadata": {
      "needs_background": "light"
     },
     "output_type": "display_data"
    }
   ],
   "source": [
    "draw_barh(serr, 'Candidates house of commons', './outputFile/Candidates house of commons.png')"
   ]
  },
  {
   "cell_type": "markdown",
   "metadata": {},
   "source": [
    "* Group by 'District name'. There 338 different 'District name'. We find the Top 10 district of the Hosue of Commons candidates"
   ]
  },
  {
   "cell_type": "code",
   "execution_count": 54,
   "metadata": {},
   "outputs": [
    {
     "data": {
      "text/plain": [
       "District name\n",
       "Abbotsford                          5\n",
       "Abitibi—Baie-James—Nunavik—Eeyou    6\n",
       "Abitibi—Témiscamingue               6\n",
       "Acadie—Bathurst                     3\n",
       "Ahuntsic-Cartierville               6\n",
       "                                   ..\n",
       "York Centre                         4\n",
       "York South—Weston                   3\n",
       "Yorkton—Melville                    5\n",
       "York—Simcoe                         2\n",
       "Yukon                               4\n",
       "Length: 338, dtype: int64"
      ]
     },
     "execution_count": 54,
     "metadata": {},
     "output_type": "execute_result"
    }
   ],
   "source": [
    "obj = candidates_house_of_commons_df.groupby('District name')\n",
    "obj.size()"
   ]
  },
  {
   "cell_type": "code",
   "execution_count": 55,
   "metadata": {},
   "outputs": [
    {
     "data": {
      "text/plain": [
       "Index(['Carlton Trail—Eagle Creek', 'Windsor—Tecumseh',\n",
       "       'Medicine Hat—Cardston—Warner', 'Peace River—Westlock', 'Bow River',\n",
       "       'Cape Breton—Canso', 'Edmonton Griesbach', 'Grande Prairie—Mackenzie',\n",
       "       'Calgary Nose Hill', 'York—Simcoe',\n",
       "       ...\n",
       "       'Mount Royal', 'Nepean', 'Dorval—Lachine—LaSalle', 'Compton—Stanstead',\n",
       "       'Louis-Saint-Laurent', 'Rosemont—La Petite-Patrie', 'Trois-Rivières',\n",
       "       'Saint-Léonard—Saint-Michel', 'Portneuf—Jacques-Cartier',\n",
       "       'University—Rosedale'],\n",
       "      dtype='object', name='District name', length=338)"
      ]
     },
     "execution_count": 55,
     "metadata": {},
     "output_type": "execute_result"
    }
   ],
   "source": [
    "serr=pd.Series(obj.size()).sort_values(ascending=True)\n",
    "serr.index"
   ]
  },
  {
   "cell_type": "code",
   "execution_count": 56,
   "metadata": {},
   "outputs": [
    {
     "data": {
      "text/plain": [
       "District name\n",
       "Mount Royal                   6\n",
       "Nepean                        6\n",
       "Dorval—Lachine—LaSalle        6\n",
       "Compton—Stanstead             6\n",
       "Louis-Saint-Laurent           6\n",
       "Rosemont—La Petite-Patrie     6\n",
       "Trois-Rivières                6\n",
       "Saint-Léonard—Saint-Michel    6\n",
       "Portneuf—Jacques-Cartier      6\n",
       "University—Rosedale           8\n",
       "dtype: int64"
      ]
     },
     "execution_count": 56,
     "metadata": {},
     "output_type": "execute_result"
    }
   ],
   "source": [
    "serr=serr[len(serr)-10:len(serr)]\n",
    "serr"
   ]
  },
  {
   "cell_type": "code",
   "execution_count": 57,
   "metadata": {},
   "outputs": [
    {
     "data": {
      "image/png": "[encoded data removed]",
      "text/plain": [
       "<Figure size 720x360 with 1 Axes>"
      ]
     },
     "metadata": {
      "needs_background": "light"
     },
     "output_type": "display_data"
    }
   ],
   "source": [
    "draw_barh(serr, 'Top 10 District of Candidates <House of Commons>', './outputFile/Top 10 District of Candidates House of Commons.png')"
   ]
  },
  {
   "cell_type": "markdown",
   "metadata": {},
   "source": [
    "## 3.2 Analyze Representatives : All elected officials"
   ]
  },
  {
   "cell_type": "code",
   "execution_count": 58,
   "metadata": {},
   "outputs": [
    {
     "data": {
      "text/html": [
       "<div>\n",
       "<style scoped>\n",
       "    .dataframe tbody tr th:only-of-type {\n",
       "        vertical-align: middle;\n",
       "    }\n",
       "\n",
       "    .dataframe tbody tr th {\n",
       "        vertical-align: top;\n",
       "    }\n",
       "\n",
       "    .dataframe thead th {\n",
       "        text-align: right;\n",
       "    }\n",
       "</style>\n",
       "<table border=\"1\" class=\"dataframe\">\n",
       "  <thead>\n",
       "    <tr style=\"text-align: right;\">\n",
       "      <th></th>\n",
       "      <th>Organization</th>\n",
       "      <th>District name</th>\n",
       "      <th>Primary role</th>\n",
       "      <th>Name</th>\n",
       "      <th>First name</th>\n",
       "      <th>Last name</th>\n",
       "      <th>Gender</th>\n",
       "      <th>Party name</th>\n",
       "      <th>Office type</th>\n",
       "    </tr>\n",
       "  </thead>\n",
       "  <tbody>\n",
       "    <tr>\n",
       "      <td>0</td>\n",
       "      <td>Legislative Assembly of Alberta</td>\n",
       "      <td>Airdrie-Cochrane</td>\n",
       "      <td>MLA</td>\n",
       "      <td>Pete Guthrie</td>\n",
       "      <td>Pete</td>\n",
       "      <td>Guthrie</td>\n",
       "      <td>NaN</td>\n",
       "      <td>United Conservative Party</td>\n",
       "      <td>legislature</td>\n",
       "    </tr>\n",
       "    <tr>\n",
       "      <td>1</td>\n",
       "      <td>Legislative Assembly of Alberta</td>\n",
       "      <td>Airdrie-East</td>\n",
       "      <td>MLA</td>\n",
       "      <td>Angela Pitt</td>\n",
       "      <td>Angela</td>\n",
       "      <td>Pitt</td>\n",
       "      <td>NaN</td>\n",
       "      <td>United Conservative Party</td>\n",
       "      <td>legislature</td>\n",
       "    </tr>\n",
       "    <tr>\n",
       "      <td>2</td>\n",
       "      <td>Legislative Assembly of Alberta</td>\n",
       "      <td>Athabasca-Barrhead-Westlock</td>\n",
       "      <td>MLA</td>\n",
       "      <td>Glenn van Dijken</td>\n",
       "      <td>Glenn van</td>\n",
       "      <td>Dijken</td>\n",
       "      <td>NaN</td>\n",
       "      <td>United Conservative Party</td>\n",
       "      <td>legislature</td>\n",
       "    </tr>\n",
       "    <tr>\n",
       "      <td>3</td>\n",
       "      <td>Legislative Assembly of Alberta</td>\n",
       "      <td>Banff-Kananaskis</td>\n",
       "      <td>MLA</td>\n",
       "      <td>Miranda Rosin</td>\n",
       "      <td>Miranda</td>\n",
       "      <td>Rosin</td>\n",
       "      <td>NaN</td>\n",
       "      <td>United Conservative Party</td>\n",
       "      <td>legislature</td>\n",
       "    </tr>\n",
       "    <tr>\n",
       "      <td>4</td>\n",
       "      <td>Legislative Assembly of Alberta</td>\n",
       "      <td>Bonnyville-Cold Lake-St. Paul</td>\n",
       "      <td>MLA</td>\n",
       "      <td>David B. Hanson</td>\n",
       "      <td>David B.</td>\n",
       "      <td>Hanson</td>\n",
       "      <td>NaN</td>\n",
       "      <td>United Conservative Party</td>\n",
       "      <td>legislature</td>\n",
       "    </tr>\n",
       "  </tbody>\n",
       "</table>\n",
       "</div>"
      ],
      "text/plain": [
       "                      Organization                  District name  \\\n",
       "0  Legislative Assembly of Alberta               Airdrie-Cochrane   \n",
       "1  Legislative Assembly of Alberta                   Airdrie-East   \n",
       "2  Legislative Assembly of Alberta    Athabasca-Barrhead-Westlock   \n",
       "3  Legislative Assembly of Alberta               Banff-Kananaskis   \n",
       "4  Legislative Assembly of Alberta  Bonnyville-Cold Lake-St. Paul   \n",
       "\n",
       "  Primary role              Name First name Last name Gender  \\\n",
       "0          MLA      Pete Guthrie       Pete   Guthrie    NaN   \n",
       "1          MLA       Angela Pitt     Angela      Pitt    NaN   \n",
       "2          MLA  Glenn van Dijken  Glenn van    Dijken    NaN   \n",
       "3          MLA     Miranda Rosin    Miranda     Rosin    NaN   \n",
       "4          MLA   David B. Hanson   David B.    Hanson    NaN   \n",
       "\n",
       "                  Party name  Office type  \n",
       "0  United Conservative Party  legislature  \n",
       "1  United Conservative Party  legislature  \n",
       "2  United Conservative Party  legislature  \n",
       "3  United Conservative Party  legislature  \n",
       "4  United Conservative Party  legislature  "
      ]
     },
     "execution_count": 58,
     "metadata": {},
     "output_type": "execute_result"
    }
   ],
   "source": [
    "representatives_df.head()"
   ]
  },
  {
   "cell_type": "code",
   "execution_count": 59,
   "metadata": {},
   "outputs": [
    {
     "name": "stdout",
     "output_type": "stream",
     "text": [
      "<class 'pandas.core.frame.DataFrame'>\n",
      "Int64Index: 1636 entries, 0 to 1636\n",
      "Data columns (total 9 columns):\n",
      "Organization     1636 non-null object\n",
      "District name    1636 non-null object\n",
      "Primary role     1636 non-null object\n",
      "Name             1636 non-null object\n",
      "First name       1636 non-null object\n",
      "Last name        1636 non-null object\n",
      "Gender           319 non-null object\n",
      "Party name       396 non-null object\n",
      "Office type      1403 non-null object\n",
      "dtypes: object(9)\n",
      "memory usage: 127.8+ KB\n"
     ]
    }
   ],
   "source": [
    "representatives_df.info()"
   ]
  },
  {
   "cell_type": "markdown",
   "metadata": {},
   "source": [
    "* A lot of information missing from 'Party name', hard to draw information from 'Party Name' now"
   ]
  },
  {
   "cell_type": "code",
   "execution_count": 60,
   "metadata": {},
   "outputs": [
    {
     "data": {
      "text/plain": [
       "84"
      ]
     },
     "execution_count": 60,
     "metadata": {},
     "output_type": "execute_result"
    }
   ],
   "source": [
    "len(representatives_df['Organization'].unique())"
   ]
  },
  {
   "cell_type": "code",
   "execution_count": 61,
   "metadata": {},
   "outputs": [
    {
     "data": {
      "text/plain": [
       "array(['Legislative Assembly of Alberta', 'Calgary City Council',\n",
       "       'Edmonton City Council', 'County of Grande Prairie No. 1 Council',\n",
       "       'Lethbridge City Council', 'Strathcona County Council',\n",
       "       'Wood Buffalo Municipal Council',\n",
       "       'Legislative Assembly of British Columbia',\n",
       "       'Abbotsford City Council', 'Burnaby City Council',\n",
       "       'Coquitlam City Council', 'Kelowna City Council',\n",
       "       'Langley Township Council', 'New Westminster City Council',\n",
       "       'Richmond City Council', 'Surrey City Council',\n",
       "       'Vancouver City Council', 'Victoria City Council',\n",
       "       'Legislative Assembly of New Brunswick',\n",
       "       'Fredericton City Council', 'Moncton City Council',\n",
       "       'Saint John City Council',\n",
       "       'Newfoundland and Labrador House of Assembly',\n",
       "       \"St. John's City Council\", 'Cape Breton Regional Council',\n",
       "       'Belleville City Council', 'Brampton City Council',\n",
       "       'Brantford City Council', 'Burlington City Council',\n",
       "       'Caledon Town Council', 'Cambridge City Council',\n",
       "       'Chatham-Kent Municipal Council', 'Fort Erie Town Council',\n",
       "       'Georgina Town Council', 'Greater Sudbury City Council',\n",
       "       'Grimsby Town Council', 'Guelph City Council',\n",
       "       'Hamilton City Council', 'King Township Council',\n",
       "       'Kingston City Council', 'Kitchener City Council',\n",
       "       'Lambton County Council', 'Lincoln Town Council',\n",
       "       'London City Council', 'Milton Town Council',\n",
       "       'Newmarket Town Council', 'Niagara Regional Council',\n",
       "       'Niagara-on-the-Lake Town Council',\n",
       "       'North Dumfries Township Council', 'Oakville Town Council',\n",
       "       'Oshawa City Council', 'Peel Regional Council',\n",
       "       'Pickering City Council', 'Richmond Hill Town Council',\n",
       "       'Ontario English Public School Boards',\n",
       "       'St. Catharines City Council', 'Toronto City Council',\n",
       "       'Uxbridge Township Council', 'Vaughan City Council',\n",
       "       'Waterloo City Council', 'Waterloo Regional Council',\n",
       "       'Welland City Council', 'Wellesley Township Council',\n",
       "       'Whitby Town Council', 'Whitchurch-Stouffville Town Council',\n",
       "       'Windsor City Council', 'Charlottetown City Council',\n",
       "       'Assemblée nationale du Québec',\n",
       "       'Conseil municipal de Beaconsfield',\n",
       "       'Conseil municipal de Dollard-Des-Ormeaux',\n",
       "       'Conseil municipal de Dorval', 'Conseil municipal de Kirkland',\n",
       "       'Conseil municipal de Lévis', 'Conseil municipal de Longueuil',\n",
       "       'Conseil municipal de Montréal-Est',\n",
       "       'Conseil municipal de Pointe-Claire',\n",
       "       'Conseil municipal de Québec', 'Conseil municipal de Saguenay',\n",
       "       'Conseil municipal de Sainte-Anne-de-Bellevue',\n",
       "       'Conseil municipal de Saint-Jérôme',\n",
       "       'Conseil municipal de Senneville',\n",
       "       'Conseil municipal de Sherbrooke',\n",
       "       'Conseil municipal de Westmount', 'Saskatoon City Council'],\n",
       "      dtype=object)"
      ]
     },
     "execution_count": 61,
     "metadata": {},
     "output_type": "execute_result"
    }
   ],
   "source": [
    "representatives_df['Organization'].unique()"
   ]
  },
  {
   "cell_type": "code",
   "execution_count": 62,
   "metadata": {},
   "outputs": [
    {
     "data": {
      "text/plain": [
       "656"
      ]
     },
     "execution_count": 62,
     "metadata": {},
     "output_type": "execute_result"
    }
   ],
   "source": [
    "len(representatives_df['District name'].unique())"
   ]
  },
  {
   "cell_type": "code",
   "execution_count": 63,
   "metadata": {
    "scrolled": false
   },
   "outputs": [
    {
     "data": {
      "text/plain": [
       "array(['Airdrie-Cochrane', 'Airdrie-East', 'Athabasca-Barrhead-Westlock',\n",
       "       'Banff-Kananaskis', 'Bonnyville-Cold Lake-St. Paul',\n",
       "       'Brooks-Medicine Hat', 'Calgary-Acadia', 'Calgary-Beddington',\n",
       "       'Calgary-Bow', 'Calgary-Buffalo', 'Calgary-Cross',\n",
       "       'Calgary-Currie', 'Calgary-East', 'Calgary-Edgemont',\n",
       "       'Calgary-Elbow', 'Calgary-Falconridge', 'Calgary-Fish Creek',\n",
       "       'Calgary-Foothills', 'Calgary-Glenmore', 'Calgary-Hays',\n",
       "       'Calgary-Klein', 'Calgary-Lougheed', 'Calgary-McCall',\n",
       "       'Calgary-Mountain View', 'Calgary-North', 'Calgary-North East',\n",
       "       'Calgary-North West', 'Calgary-Peigan', 'Calgary-Shaw',\n",
       "       'Calgary-South East', 'Calgary-Varsity', 'Calgary-West', 'Camrose',\n",
       "       'Cardston-Siksika', 'Central Peace-Notley',\n",
       "       'Chestermere-Strathmore', 'Cypress-Medicine Hat',\n",
       "       'Drayton Valley-Devon', 'Drumheller-Stettler',\n",
       "       'Edmonton-Beverly-Clareview', 'Edmonton-Castle Downs',\n",
       "       'Edmonton-City Centre', 'Edmonton-Decore', 'Edmonton-Ellerslie',\n",
       "       'Edmonton-Glenora', 'Edmonton-Gold Bar',\n",
       "       'Edmonton-Highlands-Norwood', 'Edmonton-Manning',\n",
       "       'Edmonton-McClung', 'Edmonton-Meadows', 'Edmonton-Mill Woods',\n",
       "       'Edmonton-North West', 'Edmonton-Riverview', 'Edmonton-Rutherford',\n",
       "       'Edmonton-South', 'Edmonton-South West', 'Edmonton-Strathcona',\n",
       "       'Edmonton-West Henday', 'Edmonton-Whitemud',\n",
       "       'Fort McMurray-Lac La Biche', 'Fort McMurray-Wood Buffalo',\n",
       "       'Fort Saskatchewan-Vegreville', 'Grande Prairie',\n",
       "       'Grande Prairie-Wapiti', 'Highwood', 'Innisfail-Sylvan Lake',\n",
       "       'Lac Ste. Anne-Parkland', 'Lacombe-Ponoka', 'Leduc-Beaumont',\n",
       "       'Lesser Slave Lake', 'Lethbridge-East', 'Lethbridge-West',\n",
       "       'Livingstone-Macleod', 'Maskwacis-Wetaskiwin',\n",
       "       'Morinville-St. Albert', 'Olds-Didsbury-Three Hills',\n",
       "       'Peace River', 'Red Deer-North', 'Red Deer-South',\n",
       "       'Rimbey-Rocky Mountain House-Sundre', 'Sherwood Park',\n",
       "       'Spruce Grove-Stony Plain', 'St. Albert',\n",
       "       'Strathcona-Sherwood Park', 'Taber-Warner',\n",
       "       'Vermilion-Lloydminster-Wainwright', 'West Yellowhead', 'Calgary',\n",
       "       'Ward 1', 'Ward 10', 'Ward 11', 'Ward 12', 'Ward 13', 'Ward 14',\n",
       "       'Ward 2', 'Ward 3', 'Ward 4', 'Ward 5', 'Ward 6', 'Ward 7',\n",
       "       'Ward 8', 'Ward 9', 'Edmonton', 'Division 1', 'Division 2',\n",
       "       'Division 3', 'Division 4', 'Division 5', 'Division 6',\n",
       "       'Division 7', 'Division 8', 'Division 9', 'Lethbridge',\n",
       "       'Strathcona County', 'Wood Buffalo', 'Abbotsford South',\n",
       "       'Abbotsford West', 'Abbotsford-Mission', 'Boundary-Similkameen',\n",
       "       'Burnaby North', 'Burnaby-Deer Lake', 'Burnaby-Edmonds',\n",
       "       'Burnaby-Lougheed', 'Cariboo North', 'Cariboo-Chilcotin',\n",
       "       'Chilliwack', 'Chilliwack-Kent', 'Columbia River-Revelstoke',\n",
       "       'Coquitlam-Burke Mountain', 'Coquitlam-Maillardville',\n",
       "       'Courtenay-Comox', 'Cowichan Valley', 'Delta North', 'Delta South',\n",
       "       'Esquimalt-Metchosin', 'Fraser-Nicola', 'Kamloops-North Thompson',\n",
       "       'Kamloops-South Thompson', 'Kelowna West', 'Kelowna-Lake Country',\n",
       "       'Kelowna-Mission', 'Kootenay East', 'Kootenay West',\n",
       "       'Langford-Juan de Fuca', 'Langley', 'Langley East',\n",
       "       'Maple Ridge-Mission', 'Maple Ridge-Pitt Meadows',\n",
       "       'Mid Island-Pacific Rim', 'Nanaimo', 'Nanaimo-North Cowichan',\n",
       "       'Nechako Lakes', 'Nelson-Creston', 'New Westminster',\n",
       "       'North Coast', 'North Island', 'North Vancouver-Lonsdale',\n",
       "       'North Vancouver-Seymour', 'Oak Bay-Gordon Head',\n",
       "       'Parksville-Qualicum', 'Peace River North', 'Peace River South',\n",
       "       'Penticton', 'Port Coquitlam', 'Port Moody-Coquitlam',\n",
       "       'Powell River-Sunshine Coast', 'Prince George-Mackenzie',\n",
       "       'Prince George-Valemount', 'Richmond North Centre',\n",
       "       'Richmond South Centre', 'Richmond-Queensborough',\n",
       "       'Richmond-Steveston', 'Saanich North and the Islands',\n",
       "       'Saanich South', 'Shuswap', 'Skeena', 'Stikine', 'Surrey South',\n",
       "       'Surrey-Cloverdale', 'Surrey-Fleetwood', 'Surrey-Green Timbers',\n",
       "       'Surrey-Guildford', 'Surrey-Newton', 'Surrey-Panorama',\n",
       "       'Surrey-Whalley', 'Surrey-White Rock', 'Vancouver-Fairview',\n",
       "       'Vancouver-False Creek', 'Vancouver-Fraserview',\n",
       "       'Vancouver-Hastings', 'Vancouver-Kensington', 'Vancouver-Kingsway',\n",
       "       'Vancouver-Langara', 'Vancouver-Mount Pleasant',\n",
       "       'Vancouver-Point Grey', 'Vancouver-Quilchena',\n",
       "       'Vancouver-West End', 'Vernon-Monashee', 'Victoria-Beacon Hill',\n",
       "       'Victoria-Swan Lake', 'West Vancouver-Capilano',\n",
       "       'West Vancouver-Sea to Sky', 'Abbotsford', 'Burnaby', 'Coquitlam',\n",
       "       'Kelowna', 'Richmond', 'Surrey', 'Vancouver', 'Victoria', 'Albert',\n",
       "       'Bathurst East-Nepisiguit-Saint-Isidore',\n",
       "       'Bathurst West-Beresford', 'Campbellton-Dalhousie', 'Caraquet',\n",
       "       'Carleton', 'Carleton-Victoria', 'Carleton-York', 'Dieppe',\n",
       "       'Edmundston-Madawaska Centre', 'Fredericton North',\n",
       "       'Fredericton South', 'Fredericton West-Hanwell',\n",
       "       'Fredericton-Grand Lake', 'Fredericton-York',\n",
       "       'Fundy-The Isles-Saint John West', 'Gagetown-Petitcodiac',\n",
       "       'Hampton', 'Kent North', 'Kent South', 'Kings Centre',\n",
       "       'Madawaska Les Lacs-Edmundston', 'Memramcook-Tantramar',\n",
       "       'Miramichi', 'Miramichi Bay-Neguac', 'Moncton Centre',\n",
       "       'Moncton East', 'Moncton Northwest', 'Moncton South',\n",
       "       'Moncton Southwest', 'New Maryland-Sunbury', 'Oromocto-Lincoln',\n",
       "       'Portland-Simonds', 'Quispamsis', 'Restigouche West',\n",
       "       'Restigouche-Chaleur', 'Riverview', 'Rothesay', 'Saint John East',\n",
       "       'Saint John Harbour', 'Saint John Lancaster',\n",
       "       'Shediac-Beaubassin-Cap-Pelé', 'Shippagan-Lamèque-Miscou',\n",
       "       'Southwest Miramichi-Bay du Vin', 'Sussex-Fundy-St. Martins',\n",
       "       'Tracadie-Sheila', 'Victoria-La Vallée', 'Fredericton', 'Moncton',\n",
       "       'Saint John', 'Baie Verte\\x97Green Bay', 'Bonavista',\n",
       "       'Burgeo\\x97La Poile', 'Burin\\x97Grand Bank', 'Cape St. Francis',\n",
       "       'Carbonear\\x97Trinity\\x97Bay de Verde',\n",
       "       \"Cartwright\\x97L'Anse au Clair\",\n",
       "       'Conception Bay East\\x97Bell Island', 'Conception Bay South',\n",
       "       'Corner Brook', 'Exploits', 'Ferryland',\n",
       "       'Fogo Island\\x97Cape Freels', 'Fortune Bay\\x97Cape La Hune',\n",
       "       'Gander', 'Grand Falls-Windsor\\x97Buchans',\n",
       "       'Harbour Grace\\x97Port de Grave', 'Harbour Main',\n",
       "       'Humber\\x97Bay of Islands', 'Humber\\x97Gros Morne',\n",
       "       'Labrador West', 'Lake Melville', 'Lewisporte\\x97Twillingate',\n",
       "       'Mount Pearl North', 'Mount Pearl\\x97Southlands', 'Mount Scio',\n",
       "       'Placentia West\\x97Bellevue', \"Placentia\\x97St. Mary's\",\n",
       "       \"St. Barbe\\x97L'Anse aux Meadows\", \"St. George's\\x97Humber\",\n",
       "       \"St. John's Centre\", \"St. John's East\\x97Quidi Vidi\",\n",
       "       \"St. John's West\", 'Stephenville\\x97Port au Port', 'Terra Nova',\n",
       "       'Topsail\\x97Paradise', 'Torngat Mountains',\n",
       "       'Virginia Waters\\x97Pleasantville', 'Waterford Valley',\n",
       "       'Windsor Lake', \"St. John's\", 'Cape Breton', 'District 1',\n",
       "       'District 10', 'District 11', 'District 12', 'District 2',\n",
       "       'District 3', 'District 4', 'District 5', 'District 6',\n",
       "       'District 7', 'District 8', 'District 9', 'Belleville', 'Brampton',\n",
       "       'Brantford', 'Burlington', 'Caledon', 'Cambridge', 'Chatham-Kent',\n",
       "       'Fort Erie', 'Georgina', 'Greater Sudbury', 'Grimsby', 'Guelph',\n",
       "       'Hamilton', 'Ward 15', 'Collins-Bayridge', 'Countryside',\n",
       "       \"King's Town\", 'Kingscourt-Rideau', 'Kingston', 'Lakeside',\n",
       "       'Loyalist-Cataraqui', 'Meadowbrook-Strathcona', 'Pittsburgh',\n",
       "       'Portsmouth', 'Sydenham', 'Trillium', 'Williamsville', 'Kitchener',\n",
       "       'Lambton', 'Lincoln', 'London', 'Milton', 'Newmarket', 'Niagara',\n",
       "       'Niagara Falls', 'Niagara-on-the-Lake', 'Pelham', 'Port Colborne',\n",
       "       'St. Catharines', 'Thorold', 'Wainfleet', 'Welland',\n",
       "       'West Lincoln', 'North Dumfries', 'Oakville', 'Oshawa',\n",
       "       'Brampton Ward 1', 'Brampton Ward 10', 'Brampton Ward 2',\n",
       "       'Brampton Ward 3', 'Brampton Ward 4', 'Brampton Ward 5',\n",
       "       'Brampton Ward 6', 'Brampton Ward 7', 'Brampton Ward 8',\n",
       "       'Brampton Ward 9', 'Caledon Ward 1', 'Caledon Ward 2',\n",
       "       'Caledon Ward 3', 'Caledon Ward 4', 'Caledon Ward 5',\n",
       "       'Mississauga', 'Mississauga Ward 1', 'Mississauga Ward 10',\n",
       "       'Mississauga Ward 11', 'Mississauga Ward 2', 'Mississauga Ward 3',\n",
       "       'Mississauga Ward 4', 'Mississauga Ward 5', 'Mississauga Ward 6',\n",
       "       'Mississauga Ward 7', 'Mississauga Ward 8', 'Mississauga Ward 9',\n",
       "       'Peel', 'Pickering', 'Richmond Hill', 'Algoma DSB',\n",
       "       'Avon Maitland DSB', 'Bluewater DSB', 'DSB Ontario North East',\n",
       "       'DSB of Niagara', 'Durham DSB', 'Grand Erie DSB',\n",
       "       'Greater Essex County DSB', 'Halton DSB', 'Hamilton-Wentworth DSB',\n",
       "       'Hastings and Prince Edward DSB', 'Kawartha Pine Ridge DSB',\n",
       "       'Keewatin-Patricia DSB', 'Lakehead DSB', 'Lambton Kent DSB',\n",
       "       'Limestone DSB', 'Near North', 'Ottawa-Carleton DSB', 'Peel DSB',\n",
       "       'Rainbow DSB', 'Rainy River', 'Renfrew County DSB',\n",
       "       'Simcoe County DSB', 'Superior-Greenstone DSB',\n",
       "       'Thames Valley DSB', 'Toronto DSB', 'Trillium Lakelands',\n",
       "       'Upper Canada DSB', 'Upper Grand DSB', 'Waterloo Region DSB',\n",
       "       'York Region DSB', 'Grantham', 'Merritton', 'Port Dalhousie',\n",
       "       \"St. Andrew's\", \"St. George's\", \"St. Patrick's\",\n",
       "       'Beaches-East York', 'Davenport', 'Don Valley East',\n",
       "       'Don Valley North', 'Don Valley West', 'Eglinton-Lawrence',\n",
       "       'Etobicoke Centre', 'Etobicoke North', 'Etobicoke-Lakeshore',\n",
       "       'Humber River-Black Creek', 'Parkdale-High Park',\n",
       "       'Scarborough Centre', 'Scarborough North', 'Scarborough Southwest',\n",
       "       'Scarborough-Agincourt', 'Scarborough-Guildwood',\n",
       "       'Scarborough-Rouge Park', 'Spadina-Fort York', 'Toronto',\n",
       "       'Toronto Centre', 'Toronto-Danforth', \"Toronto-St. Paul's\",\n",
       "       'University-Rosedale', 'Willowdale', 'York Centre',\n",
       "       'York South-Weston', 'Uxbridge', 'Vaughan', 'Waterloo',\n",
       "       'Wellesley', 'Wilmot', 'Woolwich', 'Centre Ward', 'East Ward',\n",
       "       'North Ward', 'West Ward', 'Whitby', 'Whitchurch-Stouffville',\n",
       "       'Charlottetown', 'Abitibi-Est', 'Abitibi-Ouest', 'Acadie',\n",
       "       'Anjou-Louis-Riel', 'Argenteuil', 'Arthabaska', 'Beauce-Nord',\n",
       "       'Beauce-Sud', 'Beauharnois', 'Bellechasse', 'Berthier', 'Bertrand',\n",
       "       'Blainville', 'Bonaventure', 'Borduas', 'Bourassa-Sauvé',\n",
       "       'Bourget', 'Brome-Missisquoi', 'Chambly', 'Champlain', 'Chapleau',\n",
       "       'Charlesbourg', 'Charlevoix-Côte-de-Beaupré', 'Chauveau',\n",
       "       'Chicoutimi', 'Chomedey', 'Chutes-de-la-Chaudière', 'Châteauguay',\n",
       "       'Côte-du-Sud', \"D'Arcy-McGee\", 'Deux-Montagnes',\n",
       "       'Drummond-Bois-Francs', 'Dubuc', 'Duplessis', 'Fabre', 'Gaspé',\n",
       "       'Gatineau', 'Gouin', 'Granby', 'Groulx', 'Hochelaga-Maisonneuve',\n",
       "       'Hull', 'Huntingdon', 'Iberville', 'Jacques-Cartier',\n",
       "       'Jean-Lesage', 'Jeanne-Mance-Viger', 'Johnson', 'Joliette',\n",
       "       'Jonquière', \"L'Assomption\", 'La Peltrie', 'La Pinière',\n",
       "       'La Prairie', 'LaFontaine', 'Labelle', 'Lac-Saint-Jean', 'Laporte',\n",
       "       'Laurier-Dorion', 'Laval-des-Rapides', 'Laviolette-Saint-Maurice',\n",
       "       'Les Plaines', 'Lotbinière-Frontenac', 'Louis-Hébert', 'Lévis',\n",
       "       'Marguerite-Bourgeoys', 'Marie-Victorin', 'Marquette',\n",
       "       'Maskinongé', 'Masson', 'Matane-Matapédia', 'Maurice-Richard',\n",
       "       'Mercier', 'Mille-Îles', 'Mirabel', 'Mont-Royal-Outremont',\n",
       "       'Montarville', 'Montmorency', 'Mégantic', 'Nelligan',\n",
       "       'Nicolet-Bécancour', 'Notre-Dame-de-Grâce', 'Orford', 'Papineau',\n",
       "       'Pointe-aux-Trembles', 'Pontiac', 'Portneuf', 'Prévost',\n",
       "       'René-Lévesque', 'Repentigny', 'Richelieu', 'Rimouski',\n",
       "       'Rivière-du-Loup-Témiscouata', 'Robert-Baldwin', 'Roberval',\n",
       "       'Rosemont', 'Rousseau', 'Rouyn-Noranda-Témiscamingue',\n",
       "       'Saint-François', 'Saint-Henri-Sainte-Anne', 'Saint-Hyacinthe',\n",
       "       'Saint-Jean', 'Saint-Jérôme', 'Saint-Laurent',\n",
       "       'Sainte-Marie-Saint-Jacques', 'Sainte-Rose', 'Sanguinet',\n",
       "       'Sherbrooke', 'Soulanges', 'Taillon', 'Taschereau', 'Terrebonne',\n",
       "       'Trois-Rivières', 'Ungava', 'Vachon', 'Vanier-Les Rivières',\n",
       "       'Vaudreuil', 'Verchères', 'Verdun', 'Viau', 'Vimont',\n",
       "       'Westmount-Saint-Louis', 'Îles-de-la-Madeleine', 'Beaconsfield',\n",
       "       'Dollard-Des Ormeaux', 'Dorval', 'Kirkland', 'District 13',\n",
       "       'District 14', 'District 15', 'Antoinette-Robidoux',\n",
       "       'Boisé-Du Tremblay', 'Coteau-Rouge', 'Explorateurs',\n",
       "       'Fatima-Parcours-du-Cerf', 'Georges-Dor', 'Greenfield Park',\n",
       "       'Laflèche', 'LeMoyne-Jacques-Cartier', 'Longueuil', 'Maraîchers',\n",
       "       'Parc-Michel-Chartrand', 'Parc-de-la-Cité', 'Saint-Charles',\n",
       "       'Vieux-Saint-Hubert-la Savane', 'Montréal-Est', 'Pointe-Claire',\n",
       "       'Cap-Rouge\\x97Laurentien', 'Cap-aux-Diamants',\n",
       "       'Chute-Montmorency\\x97Seigneurial',\n",
       "       'Lac-Saint-Charles\\x97Saint-Émile', 'Les Saules', 'Limoilou',\n",
       "       'Loretteville-Les Châtels', 'Louis-XIV', 'Maizerets-Lairet',\n",
       "       'Montcalm\\x97Saint-Sacrement', 'Monts', 'Neufchâtel-Lebourgneuf',\n",
       "       'Plateau', 'Pointe-de-Sainte-Foy', 'Québec', 'Robert-Giffard',\n",
       "       'Saint-Louis\\x97Sillery', 'Saint-Roch\\x97Saint-Sauveur',\n",
       "       'Saint-Rodrigue', 'Sainte-Thérèse-de-Lisieux', 'Val-Bélair',\n",
       "       'Vanier-Duberger', 'Saguenay', 'Sainte-Anne-de-Bellevue',\n",
       "       'Senneville', 'Arrondissement 3', 'Ascot', 'Brompton', 'Carrefour',\n",
       "       'Deauville', 'Desranleau', 'Fairview', 'Golf', 'Hôtel-Dieu',\n",
       "       'Lac-des-Nations', 'Pin-Solitaire', 'Quatre-Saisons',\n",
       "       'Rock Forest', 'Saint-Élie', 'Université', 'Uplands', 'Westmount',\n",
       "       'Saskatoon'], dtype=object)"
      ]
     },
     "execution_count": 63,
     "metadata": {},
     "output_type": "execute_result"
    }
   ],
   "source": [
    "representatives_df['District name'].unique()"
   ]
  },
  {
   "cell_type": "code",
   "execution_count": 64,
   "metadata": {},
   "outputs": [
    {
     "data": {
      "text/plain": [
       "20"
      ]
     },
     "execution_count": 64,
     "metadata": {},
     "output_type": "execute_result"
    }
   ],
   "source": [
    "len(representatives_df['Primary role'].unique())"
   ]
  },
  {
   "cell_type": "code",
   "execution_count": 65,
   "metadata": {},
   "outputs": [
    {
     "data": {
      "text/plain": [
       "array(['MLA', 'Mayor', 'Councillor', 'Reeve', 'Commissioner',\n",
       "       'Councillor at Large', 'Deputy Mayor', 'MHA',\n",
       "       'Regional Councillor', 'Area Councillor', 'Alderman',\n",
       "       'Deputy Warden', 'Warden', 'Regional Chair', 'Lord Mayor', 'Chair',\n",
       "       'Trustee', 'MNA', 'Maire', 'Conseiller'], dtype=object)"
      ]
     },
     "execution_count": 65,
     "metadata": {},
     "output_type": "execute_result"
    }
   ],
   "source": [
    "representatives_df['Primary role'].unique()"
   ]
  },
  {
   "cell_type": "code",
   "execution_count": 66,
   "metadata": {},
   "outputs": [
    {
     "data": {
      "text/plain": [
       "20"
      ]
     },
     "execution_count": 66,
     "metadata": {},
     "output_type": "execute_result"
    }
   ],
   "source": [
    "len(representatives_df['Party name'].unique())"
   ]
  },
  {
   "cell_type": "code",
   "execution_count": 67,
   "metadata": {
    "scrolled": true
   },
   "outputs": [
    {
     "data": {
      "text/plain": [
       "4"
      ]
     },
     "execution_count": 67,
     "metadata": {},
     "output_type": "execute_result"
    }
   ],
   "source": [
    "len(representatives_df['Office type'].unique())"
   ]
  },
  {
   "cell_type": "code",
   "execution_count": 68,
   "metadata": {},
   "outputs": [
    {
     "data": {
      "text/plain": [
       "array(['legislature', nan, 'constituency', 'residence'], dtype=object)"
      ]
     },
     "execution_count": 68,
     "metadata": {},
     "output_type": "execute_result"
    }
   ],
   "source": [
    "representatives_df['Office type'].unique()"
   ]
  },
  {
   "cell_type": "markdown",
   "metadata": {},
   "source": [
    "* Group by 'Organization'. There are 84 different organizations. We find the top 10 organizations of representatives of All elected officials."
   ]
  },
  {
   "cell_type": "code",
   "execution_count": 69,
   "metadata": {},
   "outputs": [
    {
     "data": {
      "text/plain": [
       "Organization\n",
       "Abbotsford City Council                  9\n",
       "Assemblée nationale du Québec          124\n",
       "Belleville City Council                  9\n",
       "Brampton City Council                   21\n",
       "Brantford City Council                  11\n",
       "                                      ... \n",
       "Wellesley Township Council               5\n",
       "Whitby Town Council                      9\n",
       "Whitchurch-Stouffville Town Council      7\n",
       "Windsor City Council                    10\n",
       "Wood Buffalo Municipal Council          11\n",
       "Length: 84, dtype: int64"
      ]
     },
     "execution_count": 69,
     "metadata": {},
     "output_type": "execute_result"
    }
   ],
   "source": [
    "obj = representatives_df.groupby('Organization')\n",
    "obj.size()"
   ]
  },
  {
   "cell_type": "code",
   "execution_count": 70,
   "metadata": {},
   "outputs": [
    {
     "data": {
      "text/plain": [
       "Index(['Wellesley Township Council', 'North Dumfries Township Council',\n",
       "       'King Township Council', 'Conseil municipal de Senneville',\n",
       "       'Whitchurch-Stouffville Town Council', 'Pickering City Council',\n",
       "       'Conseil municipal de Montréal-Est', 'Burlington City Council',\n",
       "       'New Westminster City Council', 'Fort Erie Town Council',\n",
       "       'Georgina Town Council', 'Uxbridge Township Council',\n",
       "       'Conseil municipal de Sainte-Anne-de-Bellevue',\n",
       "       'Conseil municipal de Beaconsfield', 'Conseil municipal de Dorval',\n",
       "       'Surrey City Council', 'Newmarket Town Council',\n",
       "       'Waterloo City Council', 'Kelowna City Council',\n",
       "       'Langley Township Council', 'Milton Town Council',\n",
       "       'County of Grande Prairie No. 1 Council', 'Coquitlam City Council',\n",
       "       'Conseil municipal de Westmount', 'Grimsby Town Council',\n",
       "       'Abbotsford City Council', 'Richmond Hill Town Council',\n",
       "       'Lincoln Town Council', 'Belleville City Council',\n",
       "       'Whitby Town Council', 'Burnaby City Council', 'Victoria City Council',\n",
       "       'Cambridge City Council', 'Vaughan City Council',\n",
       "       'Richmond City Council', 'Lethbridge City Council',\n",
       "       'Conseil municipal de Kirkland', 'Strathcona County Council',\n",
       "       'Conseil municipal de Pointe-Claire',\n",
       "       'Conseil municipal de Dollard-Des-Ormeaux', 'Windsor City Council',\n",
       "       'Saint John City Council', 'Niagara-on-the-Lake Town Council',\n",
       "       'Oshawa City Council', 'St. John's City Council',\n",
       "       'Moncton City Council', 'Saskatoon City Council',\n",
       "       'Kitchener City Council', 'Wood Buffalo Municipal Council',\n",
       "       'Brantford City Council', 'Charlottetown City Council',\n",
       "       'Caledon Town Council', 'Conseil municipal de Saint-Jérôme',\n",
       "       'Chatham-Kent Municipal Council', 'Edmonton City Council',\n",
       "       'Fredericton City Council', 'Cape Breton Regional Council',\n",
       "       'Greater Sudbury City Council', 'Guelph City Council',\n",
       "       'Kingston City Council', 'Welland City Council',\n",
       "       'St. Catharines City Council', 'Oakville Town Council',\n",
       "       'Calgary City Council', 'London City Council',\n",
       "       'Waterloo Regional Council', 'Conseil municipal de Lévis',\n",
       "       'Conseil municipal de Saguenay', 'Hamilton City Council',\n",
       "       'Conseil municipal de Sherbrooke', 'Lambton County Council',\n",
       "       'Conseil municipal de Longueuil', 'Vancouver City Council',\n",
       "       'Brampton City Council', 'Conseil municipal de Québec',\n",
       "       'Toronto City Council', 'Niagara Regional Council',\n",
       "       'Peel Regional Council', 'Newfoundland and Labrador House of Assembly',\n",
       "       'Legislative Assembly of New Brunswick',\n",
       "       'Legislative Assembly of Alberta',\n",
       "       'Legislative Assembly of British Columbia',\n",
       "       'Assemblée nationale du Québec',\n",
       "       'Ontario English Public School Boards'],\n",
       "      dtype='object', name='Organization')"
      ]
     },
     "execution_count": 70,
     "metadata": {},
     "output_type": "execute_result"
    }
   ],
   "source": [
    "serr=pd.Series(obj.size()).sort_values(ascending=True)\n",
    "serr.index"
   ]
  },
  {
   "cell_type": "code",
   "execution_count": 71,
   "metadata": {},
   "outputs": [
    {
     "data": {
      "text/plain": [
       "Organization\n",
       "Conseil municipal de Québec                     22\n",
       "Toronto City Council                            26\n",
       "Niagara Regional Council                        31\n",
       "Peel Regional Council                           32\n",
       "Newfoundland and Labrador House of Assembly     40\n",
       "Legislative Assembly of New Brunswick           47\n",
       "Legislative Assembly of Alberta                 87\n",
       "Legislative Assembly of British Columbia        87\n",
       "Assemblée nationale du Québec                  124\n",
       "Ontario English Public School Boards           359\n",
       "dtype: int64"
      ]
     },
     "execution_count": 71,
     "metadata": {},
     "output_type": "execute_result"
    }
   ],
   "source": [
    "serr=serr[len(serr)-10:len(serr)]\n",
    "serr"
   ]
  },
  {
   "cell_type": "code",
   "execution_count": 72,
   "metadata": {},
   "outputs": [
    {
     "data": {
      "image/png": "[encoded data removed]",
      "text/plain": [
       "<Figure size 720x360 with 1 Axes>"
      ]
     },
     "metadata": {
      "needs_background": "light"
     },
     "output_type": "display_data"
    }
   ],
   "source": [
    "draw_barh(serr, 'Top 10 Organizations of Representatives <All elected officials>', './outputFile/Top 10 Organizations of Representatives All elected officials.png')"
   ]
  },
  {
   "cell_type": "markdown",
   "metadata": {},
   "source": [
    "* Group by 'District name'. There are 656 different districts. We find the top 10 districts of representatives of All elected officials."
   ]
  },
  {
   "cell_type": "code",
   "execution_count": 73,
   "metadata": {},
   "outputs": [
    {
     "data": {
      "text/plain": [
       "District name\n",
       "Abbotsford               9\n",
       "Abbotsford South         1\n",
       "Abbotsford West          1\n",
       "Abbotsford-Mission       1\n",
       "Abitibi-Est              1\n",
       "                        ..\n",
       "Woolwich                 1\n",
       "York Centre              1\n",
       "York Region DSB         13\n",
       "York South-Weston        1\n",
       "Îles-de-la-Madeleine     1\n",
       "Length: 656, dtype: int64"
      ]
     },
     "execution_count": 73,
     "metadata": {},
     "output_type": "execute_result"
    }
   ],
   "source": [
    "obj = representatives_df.groupby('District name')\n",
    "obj.size()"
   ]
  },
  {
   "cell_type": "code",
   "execution_count": 74,
   "metadata": {},
   "outputs": [
    {
     "data": {
      "text/plain": [
       "Index(['Leduc-Beaumont', 'Mount Scio', 'Mégantic', 'Nanaimo',\n",
       "       'Nanaimo-North Cowichan', 'Nechako Lakes', 'Nelligan',\n",
       "       'Mount PearlSouthlands', 'Nelson-Creston', 'New Maryland-Sunbury',\n",
       "       ...\n",
       "       'Lambton', 'Vancouver', 'Ward 7', 'Toronto DSB', 'Ward 6', 'Ward 5',\n",
       "       'Ward 3', 'Ward 4', 'Ward 2', 'Ward 1'],\n",
       "      dtype='object', name='District name', length=656)"
      ]
     },
     "execution_count": 74,
     "metadata": {},
     "output_type": "execute_result"
    }
   ],
   "source": [
    "serr=pd.Series(obj.size()).sort_values(ascending=True)\n",
    "serr.index"
   ]
  },
  {
   "cell_type": "code",
   "execution_count": 75,
   "metadata": {},
   "outputs": [
    {
     "data": {
      "text/plain": [
       "District name\n",
       "Lambton        17\n",
       "Vancouver      18\n",
       "Ward 7         18\n",
       "Toronto DSB    23\n",
       "Ward 6         29\n",
       "Ward 5         36\n",
       "Ward 3         50\n",
       "Ward 4         50\n",
       "Ward 2         54\n",
       "Ward 1         63\n",
       "dtype: int64"
      ]
     },
     "execution_count": 75,
     "metadata": {},
     "output_type": "execute_result"
    }
   ],
   "source": [
    "serr=serr[len(serr)-10:len(serr)]\n",
    "serr"
   ]
  },
  {
   "cell_type": "code",
   "execution_count": 76,
   "metadata": {},
   "outputs": [
    {
     "data": {
      "image/png": "[encoded data removed]",
      "text/plain": [
       "<Figure size 720x360 with 1 Axes>"
      ]
     },
     "metadata": {
      "needs_background": "light"
     },
     "output_type": "display_data"
    }
   ],
   "source": [
    "draw_barh(serr, 'Top 10 Districts of Representatives <All elected officials>', './outputFile/Top 10 districts of representatives of All elected officials.png')"
   ]
  },
  {
   "cell_type": "markdown",
   "metadata": {},
   "source": [
    "* Group by 'Primary role'. "
   ]
  },
  {
   "cell_type": "code",
   "execution_count": 77,
   "metadata": {},
   "outputs": [
    {
     "data": {
      "text/plain": [
       "Primary role\n",
       "Alderman                 8\n",
       "Area Councillor          5\n",
       "Chair                   93\n",
       "Commissioner             7\n",
       "Conseiller             158\n",
       "Councillor             552\n",
       "Councillor at Large      6\n",
       "Deputy Mayor             3\n",
       "Deputy Warden            1\n",
       "Lord Mayor               1\n",
       "MHA                     40\n",
       "MLA                    221\n",
       "MNA                    124\n",
       "Maire                   15\n",
       "Mayor                   70\n",
       "Reeve                    1\n",
       "Regional Chair           2\n",
       "Regional Councillor     61\n",
       "Trustee                267\n",
       "Warden                   1\n",
       "dtype: int64"
      ]
     },
     "execution_count": 77,
     "metadata": {},
     "output_type": "execute_result"
    }
   ],
   "source": [
    "obj = representatives_df.groupby('Primary role')\n",
    "obj.size()"
   ]
  },
  {
   "cell_type": "code",
   "execution_count": 78,
   "metadata": {},
   "outputs": [
    {
     "data": {
      "text/plain": [
       "Primary role\n",
       "Lord Mayor               1\n",
       "Reeve                    1\n",
       "Deputy Warden            1\n",
       "Warden                   1\n",
       "Regional Chair           2\n",
       "Deputy Mayor             3\n",
       "Area Councillor          5\n",
       "Councillor at Large      6\n",
       "Commissioner             7\n",
       "Alderman                 8\n",
       "Maire                   15\n",
       "MHA                     40\n",
       "Regional Councillor     61\n",
       "Mayor                   70\n",
       "Chair                   93\n",
       "MNA                    124\n",
       "Conseiller             158\n",
       "MLA                    221\n",
       "Trustee                267\n",
       "Councillor             552\n",
       "dtype: int64"
      ]
     },
     "execution_count": 78,
     "metadata": {},
     "output_type": "execute_result"
    }
   ],
   "source": [
    "serr=pd.Series(obj.size()).sort_values(ascending=True)\n",
    "serr"
   ]
  },
  {
   "cell_type": "code",
   "execution_count": 79,
   "metadata": {},
   "outputs": [
    {
     "data": {
      "image/png": "[encoded data removed]",
      "text/plain": [
       "<Figure size 720x360 with 1 Axes>"
      ]
     },
     "metadata": {
      "needs_background": "light"
     },
     "output_type": "display_data"
    }
   ],
   "source": [
    "draw_barh(serr, 'Primary Role of Representatives <All elected officials>', './outputFile/Primary role of representatives of All elected officials.png')"
   ]
  },
  {
   "cell_type": "markdown",
   "metadata": {},
   "source": [
    "* Group bu 'Office type'"
   ]
  },
  {
   "cell_type": "code",
   "execution_count": 80,
   "metadata": {},
   "outputs": [
    {
     "data": {
      "text/plain": [
       "Office type\n",
       "constituency       9\n",
       "legislature     1387\n",
       "residence          7\n",
       "dtype: int64"
      ]
     },
     "execution_count": 80,
     "metadata": {},
     "output_type": "execute_result"
    }
   ],
   "source": [
    "obj = representatives_df.groupby('Office type')\n",
    "obj.size()"
   ]
  },
  {
   "cell_type": "code",
   "execution_count": 81,
   "metadata": {},
   "outputs": [
    {
     "data": {
      "text/plain": [
       "Office type\n",
       "residence          7\n",
       "constituency       9\n",
       "legislature     1387\n",
       "dtype: int64"
      ]
     },
     "execution_count": 81,
     "metadata": {},
     "output_type": "execute_result"
    }
   ],
   "source": [
    "serr=pd.Series(obj.size()).sort_values(ascending=True)\n",
    "serr"
   ]
  },
  {
   "cell_type": "code",
   "execution_count": 82,
   "metadata": {},
   "outputs": [
    {
     "data": {
      "image/png": "[encoded data removed]",
      "text/plain": [
       "<Figure size 720x360 with 1 Axes>"
      ]
     },
     "metadata": {
      "needs_background": "light"
     },
     "output_type": "display_data"
    }
   ],
   "source": [
    "draw_barh(serr, 'Office Type of Representatives <All elected officials>', './outputFile/Office type of representatives of All elected officials.png')"
   ]
  },
  {
   "cell_type": "markdown",
   "metadata": {},
   "source": [
    "## 3.3 Analyze Representatives : House of Commons"
   ]
  },
  {
   "cell_type": "code",
   "execution_count": 83,
   "metadata": {},
   "outputs": [
    {
     "data": {
      "text/html": [
       "<div>\n",
       "<style scoped>\n",
       "    .dataframe tbody tr th:only-of-type {\n",
       "        vertical-align: middle;\n",
       "    }\n",
       "\n",
       "    .dataframe tbody tr th {\n",
       "        vertical-align: top;\n",
       "    }\n",
       "\n",
       "    .dataframe thead th {\n",
       "        text-align: right;\n",
       "    }\n",
       "</style>\n",
       "<table border=\"1\" class=\"dataframe\">\n",
       "  <thead>\n",
       "    <tr style=\"text-align: right;\">\n",
       "      <th></th>\n",
       "      <th>District name</th>\n",
       "      <th>Primary role</th>\n",
       "      <th>Name</th>\n",
       "      <th>First name</th>\n",
       "      <th>Last name</th>\n",
       "      <th>Party name</th>\n",
       "      <th>Office type</th>\n",
       "    </tr>\n",
       "  </thead>\n",
       "  <tbody>\n",
       "    <tr>\n",
       "      <td>0</td>\n",
       "      <td>Abbotsford</td>\n",
       "      <td>MP</td>\n",
       "      <td>Ed Fast</td>\n",
       "      <td>Ed</td>\n",
       "      <td>Fast</td>\n",
       "      <td>Conservative</td>\n",
       "      <td>legislature</td>\n",
       "    </tr>\n",
       "    <tr>\n",
       "      <td>1</td>\n",
       "      <td>Abitibi—Baie-James—Nunavik—Eeyou</td>\n",
       "      <td>MP</td>\n",
       "      <td>Romeo Saganash</td>\n",
       "      <td>Romeo</td>\n",
       "      <td>Saganash</td>\n",
       "      <td>NDP</td>\n",
       "      <td>legislature</td>\n",
       "    </tr>\n",
       "    <tr>\n",
       "      <td>2</td>\n",
       "      <td>Abitibi—Témiscamingue</td>\n",
       "      <td>MP</td>\n",
       "      <td>Christine Moore</td>\n",
       "      <td>Christine</td>\n",
       "      <td>Moore</td>\n",
       "      <td>NDP</td>\n",
       "      <td>legislature</td>\n",
       "    </tr>\n",
       "    <tr>\n",
       "      <td>3</td>\n",
       "      <td>Acadie—Bathurst</td>\n",
       "      <td>MP</td>\n",
       "      <td>Serge Cormier</td>\n",
       "      <td>Serge</td>\n",
       "      <td>Cormier</td>\n",
       "      <td>Liberal</td>\n",
       "      <td>legislature</td>\n",
       "    </tr>\n",
       "    <tr>\n",
       "      <td>4</td>\n",
       "      <td>Ahuntsic-Cartierville</td>\n",
       "      <td>MP</td>\n",
       "      <td>Mélanie Joly</td>\n",
       "      <td>Mélanie</td>\n",
       "      <td>Joly</td>\n",
       "      <td>Liberal</td>\n",
       "      <td>legislature</td>\n",
       "    </tr>\n",
       "  </tbody>\n",
       "</table>\n",
       "</div>"
      ],
      "text/plain": [
       "                      District name Primary role             Name First name  \\\n",
       "0                        Abbotsford           MP          Ed Fast         Ed   \n",
       "1  Abitibi—Baie-James—Nunavik—Eeyou           MP   Romeo Saganash      Romeo   \n",
       "2             Abitibi—Témiscamingue           MP  Christine Moore  Christine   \n",
       "3                   Acadie—Bathurst           MP    Serge Cormier      Serge   \n",
       "4             Ahuntsic-Cartierville           MP     Mélanie Joly    Mélanie   \n",
       "\n",
       "  Last name    Party name  Office type  \n",
       "0      Fast  Conservative  legislature  \n",
       "1  Saganash           NDP  legislature  \n",
       "2     Moore           NDP  legislature  \n",
       "3   Cormier       Liberal  legislature  \n",
       "4      Joly       Liberal  legislature  "
      ]
     },
     "execution_count": 83,
     "metadata": {},
     "output_type": "execute_result"
    }
   ],
   "source": [
    "representatives_house_of_commons_df.head()"
   ]
  },
  {
   "cell_type": "code",
   "execution_count": 84,
   "metadata": {},
   "outputs": [
    {
     "name": "stdout",
     "output_type": "stream",
     "text": [
      "<class 'pandas.core.frame.DataFrame'>\n",
      "RangeIndex: 333 entries, 0 to 332\n",
      "Data columns (total 7 columns):\n",
      "District name    333 non-null object\n",
      "Primary role     333 non-null object\n",
      "Name             333 non-null object\n",
      "First name       333 non-null object\n",
      "Last name        333 non-null object\n",
      "Party name       333 non-null object\n",
      "Office type      333 non-null object\n",
      "dtypes: object(7)\n",
      "memory usage: 18.3+ KB\n"
     ]
    }
   ],
   "source": [
    "representatives_house_of_commons_df.info()"
   ]
  },
  {
   "cell_type": "code",
   "execution_count": 85,
   "metadata": {
    "scrolled": true
   },
   "outputs": [
    {
     "data": {
      "text/plain": [
       "333"
      ]
     },
     "execution_count": 85,
     "metadata": {},
     "output_type": "execute_result"
    }
   ],
   "source": [
    "len(representatives_house_of_commons_df['District name'].unique())"
   ]
  },
  {
   "cell_type": "code",
   "execution_count": 86,
   "metadata": {},
   "outputs": [
    {
     "data": {
      "text/plain": [
       "1"
      ]
     },
     "execution_count": 86,
     "metadata": {},
     "output_type": "execute_result"
    }
   ],
   "source": [
    "len(representatives_house_of_commons_df['Primary role'].unique())"
   ]
  },
  {
   "cell_type": "code",
   "execution_count": 87,
   "metadata": {},
   "outputs": [
    {
     "data": {
      "text/plain": [
       "8"
      ]
     },
     "execution_count": 87,
     "metadata": {},
     "output_type": "execute_result"
    }
   ],
   "source": [
    "len(representatives_house_of_commons_df['Party name'].unique())"
   ]
  },
  {
   "cell_type": "code",
   "execution_count": 88,
   "metadata": {},
   "outputs": [
    {
     "data": {
      "text/plain": [
       "1"
      ]
     },
     "execution_count": 88,
     "metadata": {},
     "output_type": "execute_result"
    }
   ],
   "source": [
    "len(representatives_house_of_commons_df['Office type'].unique())"
   ]
  },
  {
   "cell_type": "markdown",
   "metadata": {},
   "source": [
    "* Group by 'Party name'"
   ]
  },
  {
   "cell_type": "code",
   "execution_count": 89,
   "metadata": {
    "scrolled": true
   },
   "outputs": [
    {
     "data": {
      "text/plain": [
       "Party name\n",
       "Bloc Québécois                           10\n",
       "Co-operative Commonwealth Federation      1\n",
       "Conservative                             95\n",
       "Green Party                               2\n",
       "Independent                               8\n",
       "Liberal                                 177\n",
       "NDP                                      39\n",
       "People's Party                            1\n",
       "dtype: int64"
      ]
     },
     "execution_count": 89,
     "metadata": {},
     "output_type": "execute_result"
    }
   ],
   "source": [
    "obj = representatives_house_of_commons_df.groupby('Party name')\n",
    "obj.size()"
   ]
  },
  {
   "cell_type": "code",
   "execution_count": 90,
   "metadata": {},
   "outputs": [
    {
     "data": {
      "text/plain": [
       "Party name\n",
       "Co-operative Commonwealth Federation      1\n",
       "People's Party                            1\n",
       "Green Party                               2\n",
       "Independent                               8\n",
       "Bloc Québécois                           10\n",
       "NDP                                      39\n",
       "Conservative                             95\n",
       "Liberal                                 177\n",
       "dtype: int64"
      ]
     },
     "execution_count": 90,
     "metadata": {},
     "output_type": "execute_result"
    }
   ],
   "source": [
    "serr=pd.Series(obj.size()).sort_values(ascending=True)\n",
    "serr"
   ]
  },
  {
   "cell_type": "code",
   "execution_count": 91,
   "metadata": {},
   "outputs": [
    {
     "data": {
      "image/png": "[encoded data removed]",
      "text/plain": [
       "<Figure size 720x360 with 1 Axes>"
      ]
     },
     "metadata": {
      "needs_background": "light"
     },
     "output_type": "display_data"
    }
   ],
   "source": [
    "draw_barh(serr, 'Party name of Representatives <House of Commons>', './outputFile/Party name of Representatives House of Commons.png')"
   ]
  },
  {
   "cell_type": "markdown",
   "metadata": {},
   "source": [
    "## 3.4 Analyze Provincial legislatures : Assemblée nationale du Québec"
   ]
  },
  {
   "cell_type": "code",
   "execution_count": 92,
   "metadata": {},
   "outputs": [
    {
     "data": {
      "text/html": [
       "<div>\n",
       "<style scoped>\n",
       "    .dataframe tbody tr th:only-of-type {\n",
       "        vertical-align: middle;\n",
       "    }\n",
       "\n",
       "    .dataframe tbody tr th {\n",
       "        vertical-align: top;\n",
       "    }\n",
       "\n",
       "    .dataframe thead th {\n",
       "        text-align: right;\n",
       "    }\n",
       "</style>\n",
       "<table border=\"1\" class=\"dataframe\">\n",
       "  <thead>\n",
       "    <tr style=\"text-align: right;\">\n",
       "      <th></th>\n",
       "      <th>District name</th>\n",
       "      <th>Primary role</th>\n",
       "      <th>Name</th>\n",
       "      <th>First name</th>\n",
       "      <th>Last name</th>\n",
       "      <th>Party name</th>\n",
       "      <th>Office type</th>\n",
       "    </tr>\n",
       "  </thead>\n",
       "  <tbody>\n",
       "    <tr>\n",
       "      <td>0</td>\n",
       "      <td>Abitibi-Est</td>\n",
       "      <td>MNA</td>\n",
       "      <td>Pierre Dufour</td>\n",
       "      <td>Pierre</td>\n",
       "      <td>Dufour</td>\n",
       "      <td>Coalition avenir Québec</td>\n",
       "      <td>legislature</td>\n",
       "    </tr>\n",
       "    <tr>\n",
       "      <td>1</td>\n",
       "      <td>Abitibi-Ouest</td>\n",
       "      <td>MNA</td>\n",
       "      <td>Suzanne Blais</td>\n",
       "      <td>Suzanne</td>\n",
       "      <td>Blais</td>\n",
       "      <td>Coalition avenir Québec</td>\n",
       "      <td>legislature</td>\n",
       "    </tr>\n",
       "    <tr>\n",
       "      <td>2</td>\n",
       "      <td>Acadie</td>\n",
       "      <td>MNA</td>\n",
       "      <td>Christine St-Pierre</td>\n",
       "      <td>Christine</td>\n",
       "      <td>St-Pierre</td>\n",
       "      <td>Parti libéral du Québec</td>\n",
       "      <td>legislature</td>\n",
       "    </tr>\n",
       "    <tr>\n",
       "      <td>3</td>\n",
       "      <td>Anjou-Louis-Riel</td>\n",
       "      <td>MNA</td>\n",
       "      <td>Lise Thériault</td>\n",
       "      <td>Lise</td>\n",
       "      <td>Thériault</td>\n",
       "      <td>Parti libéral du Québec</td>\n",
       "      <td>legislature</td>\n",
       "    </tr>\n",
       "    <tr>\n",
       "      <td>4</td>\n",
       "      <td>Argenteuil</td>\n",
       "      <td>MNA</td>\n",
       "      <td>Agnès Grondin</td>\n",
       "      <td>Agnès</td>\n",
       "      <td>Grondin</td>\n",
       "      <td>Coalition avenir Québec</td>\n",
       "      <td>legislature</td>\n",
       "    </tr>\n",
       "  </tbody>\n",
       "</table>\n",
       "</div>"
      ],
      "text/plain": [
       "      District name Primary role                 Name First name  Last name  \\\n",
       "0       Abitibi-Est          MNA        Pierre Dufour     Pierre     Dufour   \n",
       "1     Abitibi-Ouest          MNA        Suzanne Blais    Suzanne      Blais   \n",
       "2            Acadie          MNA  Christine St-Pierre  Christine  St-Pierre   \n",
       "3  Anjou-Louis-Riel          MNA       Lise Thériault       Lise  Thériault   \n",
       "4        Argenteuil          MNA        Agnès Grondin      Agnès    Grondin   \n",
       "\n",
       "                Party name  Office type  \n",
       "0  Coalition avenir Québec  legislature  \n",
       "1  Coalition avenir Québec  legislature  \n",
       "2  Parti libéral du Québec  legislature  \n",
       "3  Parti libéral du Québec  legislature  \n",
       "4  Coalition avenir Québec  legislature  "
      ]
     },
     "execution_count": 92,
     "metadata": {},
     "output_type": "execute_result"
    }
   ],
   "source": [
    "quebec_assemblee_nationale_df.head()"
   ]
  },
  {
   "cell_type": "code",
   "execution_count": 93,
   "metadata": {},
   "outputs": [
    {
     "name": "stdout",
     "output_type": "stream",
     "text": [
      "<class 'pandas.core.frame.DataFrame'>\n",
      "RangeIndex: 124 entries, 0 to 123\n",
      "Data columns (total 7 columns):\n",
      "District name    124 non-null object\n",
      "Primary role     124 non-null object\n",
      "Name             124 non-null object\n",
      "First name       124 non-null object\n",
      "Last name        124 non-null object\n",
      "Party name       124 non-null object\n",
      "Office type      124 non-null object\n",
      "dtypes: object(7)\n",
      "memory usage: 6.9+ KB\n"
     ]
    }
   ],
   "source": [
    "quebec_assemblee_nationale_df.info()"
   ]
  },
  {
   "cell_type": "code",
   "execution_count": 94,
   "metadata": {},
   "outputs": [
    {
     "data": {
      "text/plain": [
       "124"
      ]
     },
     "execution_count": 94,
     "metadata": {},
     "output_type": "execute_result"
    }
   ],
   "source": [
    "len(quebec_assemblee_nationale_df['District name'].unique())"
   ]
  },
  {
   "cell_type": "code",
   "execution_count": 95,
   "metadata": {},
   "outputs": [
    {
     "data": {
      "text/plain": [
       "1"
      ]
     },
     "execution_count": 95,
     "metadata": {},
     "output_type": "execute_result"
    }
   ],
   "source": [
    "len(quebec_assemblee_nationale_df['Primary role'].unique())"
   ]
  },
  {
   "cell_type": "code",
   "execution_count": 96,
   "metadata": {},
   "outputs": [
    {
     "data": {
      "text/plain": [
       "5"
      ]
     },
     "execution_count": 96,
     "metadata": {},
     "output_type": "execute_result"
    }
   ],
   "source": [
    "len(quebec_assemblee_nationale_df['Party name'].unique())"
   ]
  },
  {
   "cell_type": "code",
   "execution_count": 97,
   "metadata": {
    "scrolled": false
   },
   "outputs": [
    {
     "data": {
      "text/plain": [
       "2"
      ]
     },
     "execution_count": 97,
     "metadata": {},
     "output_type": "execute_result"
    }
   ],
   "source": [
    "len(quebec_assemblee_nationale_df['Office type'].unique())"
   ]
  },
  {
   "cell_type": "code",
   "execution_count": 98,
   "metadata": {},
   "outputs": [
    {
     "data": {
      "text/plain": [
       "array(['legislature', 'constituency'], dtype=object)"
      ]
     },
     "execution_count": 98,
     "metadata": {},
     "output_type": "execute_result"
    }
   ],
   "source": [
    "quebec_assemblee_nationale_df['Office type'].unique()"
   ]
  },
  {
   "cell_type": "markdown",
   "metadata": {},
   "source": [
    "* Group by 'Party name'"
   ]
  },
  {
   "cell_type": "code",
   "execution_count": 99,
   "metadata": {},
   "outputs": [
    {
     "data": {
      "text/plain": [
       "Party name\n",
       "Coalition avenir Québec    75\n",
       "Indépendant                 2\n",
       "Parti libéral du Québec    28\n",
       "Parti québécois             9\n",
       "Québec solidaire           10\n",
       "dtype: int64"
      ]
     },
     "execution_count": 99,
     "metadata": {},
     "output_type": "execute_result"
    }
   ],
   "source": [
    "obj = quebec_assemblee_nationale_df.groupby('Party name')\n",
    "obj.size()"
   ]
  },
  {
   "cell_type": "code",
   "execution_count": 100,
   "metadata": {},
   "outputs": [
    {
     "data": {
      "text/plain": [
       "Party name\n",
       "Indépendant                 2\n",
       "Parti québécois             9\n",
       "Québec solidaire           10\n",
       "Parti libéral du Québec    28\n",
       "Coalition avenir Québec    75\n",
       "dtype: int64"
      ]
     },
     "execution_count": 100,
     "metadata": {},
     "output_type": "execute_result"
    }
   ],
   "source": [
    "serr=pd.Series(obj.size()).sort_values(ascending=True)\n",
    "serr"
   ]
  },
  {
   "cell_type": "code",
   "execution_count": 101,
   "metadata": {},
   "outputs": [
    {
     "data": {
      "image/png": "[encoded data removed]",
      "text/plain": [
       "<Figure size 720x360 with 1 Axes>"
      ]
     },
     "metadata": {
      "needs_background": "light"
     },
     "output_type": "display_data"
    }
   ],
   "source": [
    "draw_barh(serr, 'Party name of legislatures <Assemblée nationale du Québec>', './outputFile/Party name of legislatures Assemblée nationale du Québec.png')"
   ]
  },
  {
   "cell_type": "markdown",
   "metadata": {},
   "source": [
    "* Group by 'Office type'"
   ]
  },
  {
   "cell_type": "code",
   "execution_count": 102,
   "metadata": {},
   "outputs": [
    {
     "data": {
      "text/plain": [
       "Office type\n",
       "constituency      3\n",
       "legislature     121\n",
       "dtype: int64"
      ]
     },
     "execution_count": 102,
     "metadata": {},
     "output_type": "execute_result"
    }
   ],
   "source": [
    "obj = quebec_assemblee_nationale_df.groupby('Office type')\n",
    "obj.size()"
   ]
  },
  {
   "cell_type": "code",
   "execution_count": 103,
   "metadata": {},
   "outputs": [
    {
     "data": {
      "text/plain": [
       "Office type\n",
       "constituency      3\n",
       "legislature     121\n",
       "dtype: int64"
      ]
     },
     "execution_count": 103,
     "metadata": {},
     "output_type": "execute_result"
    }
   ],
   "source": [
    "serr=pd.Series(obj.size()).sort_values(ascending=True)\n",
    "serr"
   ]
  },
  {
   "cell_type": "code",
   "execution_count": 104,
   "metadata": {},
   "outputs": [
    {
     "data": {
      "image/png": "[encoded data removed]",
      "text/plain": [
       "<Figure size 720x360 with 1 Axes>"
      ]
     },
     "metadata": {
      "needs_background": "light"
     },
     "output_type": "display_data"
    }
   ],
   "source": [
    "draw_barh(serr, 'Office type of legislatures <Assemblée nationale du Québec>', './outputFile/Office type of legislatures Assemblée nationale du Québec.png')"
   ]
  },
  {
   "cell_type": "markdown",
   "metadata": {},
   "source": [
    "## 3.5 Analyze Quebec councils : Conseil municipal de Montréal"
   ]
  },
  {
   "cell_type": "code",
   "execution_count": 105,
   "metadata": {},
   "outputs": [
    {
     "data": {
      "text/html": [
       "<div>\n",
       "<style scoped>\n",
       "    .dataframe tbody tr th:only-of-type {\n",
       "        vertical-align: middle;\n",
       "    }\n",
       "\n",
       "    .dataframe tbody tr th {\n",
       "        vertical-align: top;\n",
       "    }\n",
       "\n",
       "    .dataframe thead th {\n",
       "        text-align: right;\n",
       "    }\n",
       "</style>\n",
       "<table border=\"1\" class=\"dataframe\">\n",
       "  <thead>\n",
       "    <tr style=\"text-align: right;\">\n",
       "      <th></th>\n",
       "      <th>District name</th>\n",
       "      <th>Primary role</th>\n",
       "      <th>Name</th>\n",
       "      <th>First name</th>\n",
       "      <th>Last name</th>\n",
       "      <th>Gender</th>\n",
       "      <th>Party name</th>\n",
       "      <th>Office type</th>\n",
       "    </tr>\n",
       "  </thead>\n",
       "  <tbody>\n",
       "    <tr>\n",
       "      <td>0</td>\n",
       "      <td>Ahuntsic</td>\n",
       "      <td>Conseiller de la ville</td>\n",
       "      <td>Nathalie Goulet</td>\n",
       "      <td>Nathalie</td>\n",
       "      <td>Goulet</td>\n",
       "      <td>F</td>\n",
       "      <td>Projet Montréal - Équipe Valérie Plante</td>\n",
       "      <td>legislature</td>\n",
       "    </tr>\n",
       "    <tr>\n",
       "      <td>1</td>\n",
       "      <td>Ahuntsic-Cartierville</td>\n",
       "      <td>Maire d'arrondissement</td>\n",
       "      <td>Émilie Thuillier</td>\n",
       "      <td>Émilie</td>\n",
       "      <td>Thuillier</td>\n",
       "      <td>F</td>\n",
       "      <td>Projet Montréal - Équipe Valérie Plante</td>\n",
       "      <td>legislature</td>\n",
       "    </tr>\n",
       "    <tr>\n",
       "      <td>2</td>\n",
       "      <td>Anjou</td>\n",
       "      <td>Conseiller de la ville</td>\n",
       "      <td>Andrée Hénault</td>\n",
       "      <td>Andrée</td>\n",
       "      <td>Hénault</td>\n",
       "      <td>F</td>\n",
       "      <td>Équipe Anjou</td>\n",
       "      <td>legislature</td>\n",
       "    </tr>\n",
       "    <tr>\n",
       "      <td>3</td>\n",
       "      <td>Anjou</td>\n",
       "      <td>Maire d'arrondissement</td>\n",
       "      <td>Luis Miranda</td>\n",
       "      <td>Luis</td>\n",
       "      <td>Miranda</td>\n",
       "      <td>M</td>\n",
       "      <td>Équipe Anjou</td>\n",
       "      <td>legislature</td>\n",
       "    </tr>\n",
       "    <tr>\n",
       "      <td>4</td>\n",
       "      <td>Bois-de-Liesse</td>\n",
       "      <td>Conseiller de la ville</td>\n",
       "      <td>Benoit Langevin</td>\n",
       "      <td>Benoit</td>\n",
       "      <td>Langevin</td>\n",
       "      <td>M</td>\n",
       "      <td>Ensemble Montréal</td>\n",
       "      <td>legislature</td>\n",
       "    </tr>\n",
       "  </tbody>\n",
       "</table>\n",
       "</div>"
      ],
      "text/plain": [
       "           District name            Primary role              Name First name  \\\n",
       "0               Ahuntsic  Conseiller de la ville   Nathalie Goulet   Nathalie   \n",
       "1  Ahuntsic-Cartierville  Maire d'arrondissement  Émilie Thuillier     Émilie   \n",
       "2                  Anjou  Conseiller de la ville    Andrée Hénault     Andrée   \n",
       "3                  Anjou  Maire d'arrondissement      Luis Miranda       Luis   \n",
       "4         Bois-de-Liesse  Conseiller de la ville   Benoit Langevin     Benoit   \n",
       "\n",
       "   Last name Gender                               Party name  Office type  \n",
       "0     Goulet      F  Projet Montréal - Équipe Valérie Plante  legislature  \n",
       "1  Thuillier      F  Projet Montréal - Équipe Valérie Plante  legislature  \n",
       "2    Hénault      F                             Équipe Anjou  legislature  \n",
       "3    Miranda      M                             Équipe Anjou  legislature  \n",
       "4   Langevin      M                        Ensemble Montréal  legislature  "
      ]
     },
     "execution_count": 105,
     "metadata": {},
     "output_type": "execute_result"
    }
   ],
   "source": [
    "conseil_municipal_de_montreal_df.head()"
   ]
  },
  {
   "cell_type": "code",
   "execution_count": 106,
   "metadata": {},
   "outputs": [
    {
     "name": "stdout",
     "output_type": "stream",
     "text": [
      "<class 'pandas.core.frame.DataFrame'>\n",
      "RangeIndex: 64 entries, 0 to 63\n",
      "Data columns (total 8 columns):\n",
      "District name    64 non-null object\n",
      "Primary role     64 non-null object\n",
      "Name             64 non-null object\n",
      "First name       64 non-null object\n",
      "Last name        64 non-null object\n",
      "Gender           64 non-null object\n",
      "Party name       64 non-null object\n",
      "Office type      63 non-null object\n",
      "dtypes: object(8)\n",
      "memory usage: 4.1+ KB\n"
     ]
    }
   ],
   "source": [
    "conseil_municipal_de_montreal_df.info()"
   ]
  },
  {
   "cell_type": "code",
   "execution_count": 107,
   "metadata": {},
   "outputs": [
    {
     "data": {
      "text/plain": [
       "62"
      ]
     },
     "execution_count": 107,
     "metadata": {},
     "output_type": "execute_result"
    }
   ],
   "source": [
    "len(conseil_municipal_de_montreal_df['District name'].unique())"
   ]
  },
  {
   "cell_type": "code",
   "execution_count": 108,
   "metadata": {},
   "outputs": [
    {
     "data": {
      "text/html": [
       "<div>\n",
       "<style scoped>\n",
       "    .dataframe tbody tr th:only-of-type {\n",
       "        vertical-align: middle;\n",
       "    }\n",
       "\n",
       "    .dataframe tbody tr th {\n",
       "        vertical-align: top;\n",
       "    }\n",
       "\n",
       "    .dataframe thead th {\n",
       "        text-align: right;\n",
       "    }\n",
       "</style>\n",
       "<table border=\"1\" class=\"dataframe\">\n",
       "  <thead>\n",
       "    <tr style=\"text-align: right;\">\n",
       "      <th></th>\n",
       "      <th>District name</th>\n",
       "      <th>Primary role</th>\n",
       "      <th>Name</th>\n",
       "      <th>First name</th>\n",
       "      <th>Last name</th>\n",
       "      <th>Gender</th>\n",
       "      <th>Party name</th>\n",
       "      <th>Office type</th>\n",
       "    </tr>\n",
       "  </thead>\n",
       "  <tbody>\n",
       "    <tr>\n",
       "      <td>3</td>\n",
       "      <td>Anjou</td>\n",
       "      <td>Maire d'arrondissement</td>\n",
       "      <td>Luis Miranda</td>\n",
       "      <td>Luis</td>\n",
       "      <td>Miranda</td>\n",
       "      <td>M</td>\n",
       "      <td>Équipe Anjou</td>\n",
       "      <td>legislature</td>\n",
       "    </tr>\n",
       "    <tr>\n",
       "      <td>22</td>\n",
       "      <td>Lachine</td>\n",
       "      <td>Maire d'arrondissement</td>\n",
       "      <td>Maja Vodanovic</td>\n",
       "      <td>Maja</td>\n",
       "      <td>Vodanovic</td>\n",
       "      <td>F</td>\n",
       "      <td>Projet Montréal - Équipe Valérie Plante</td>\n",
       "      <td>legislature</td>\n",
       "    </tr>\n",
       "  </tbody>\n",
       "</table>\n",
       "</div>"
      ],
      "text/plain": [
       "   District name            Primary role            Name First name  \\\n",
       "3          Anjou  Maire d'arrondissement    Luis Miranda       Luis   \n",
       "22       Lachine  Maire d'arrondissement  Maja Vodanovic       Maja   \n",
       "\n",
       "    Last name Gender                               Party name  Office type  \n",
       "3     Miranda      M                             Équipe Anjou  legislature  \n",
       "22  Vodanovic      F  Projet Montréal - Équipe Valérie Plante  legislature  "
      ]
     },
     "execution_count": 108,
     "metadata": {},
     "output_type": "execute_result"
    }
   ],
   "source": [
    "conseil_municipal_de_montreal_df[conseil_municipal_de_montreal_df['District name'].duplicated()]"
   ]
  },
  {
   "cell_type": "code",
   "execution_count": 109,
   "metadata": {},
   "outputs": [
    {
     "data": {
      "text/plain": [
       "3"
      ]
     },
     "execution_count": 109,
     "metadata": {},
     "output_type": "execute_result"
    }
   ],
   "source": [
    "len(conseil_municipal_de_montreal_df['Primary role'].unique())"
   ]
  },
  {
   "cell_type": "code",
   "execution_count": 110,
   "metadata": {
    "scrolled": true
   },
   "outputs": [
    {
     "data": {
      "text/plain": [
       "5"
      ]
     },
     "execution_count": 110,
     "metadata": {},
     "output_type": "execute_result"
    }
   ],
   "source": [
    "len(conseil_municipal_de_montreal_df['Party name'].unique())"
   ]
  },
  {
   "cell_type": "code",
   "execution_count": 111,
   "metadata": {},
   "outputs": [
    {
     "data": {
      "text/plain": [
       "2"
      ]
     },
     "execution_count": 111,
     "metadata": {},
     "output_type": "execute_result"
    }
   ],
   "source": [
    "len(conseil_municipal_de_montreal_df['Office type'].unique())"
   ]
  },
  {
   "cell_type": "code",
   "execution_count": 112,
   "metadata": {},
   "outputs": [
    {
     "data": {
      "text/plain": [
       "array(['legislature', nan], dtype=object)"
      ]
     },
     "execution_count": 112,
     "metadata": {},
     "output_type": "execute_result"
    }
   ],
   "source": [
    "conseil_municipal_de_montreal_df['Office type'].unique()"
   ]
  },
  {
   "cell_type": "markdown",
   "metadata": {},
   "source": [
    "* Group by 'Primary role'"
   ]
  },
  {
   "cell_type": "code",
   "execution_count": 113,
   "metadata": {},
   "outputs": [
    {
     "data": {
      "text/plain": [
       "Primary role\n",
       "Conseiller de la ville           46\n",
       "Maire d'arrondissement           17\n",
       "Maire de la Ville de Montréal     1\n",
       "dtype: int64"
      ]
     },
     "execution_count": 113,
     "metadata": {},
     "output_type": "execute_result"
    }
   ],
   "source": [
    "obj = conseil_municipal_de_montreal_df.groupby('Primary role')\n",
    "obj.size()"
   ]
  },
  {
   "cell_type": "code",
   "execution_count": 114,
   "metadata": {},
   "outputs": [
    {
     "data": {
      "text/plain": [
       "Primary role\n",
       "Maire de la Ville de Montréal     1\n",
       "Maire d'arrondissement           17\n",
       "Conseiller de la ville           46\n",
       "dtype: int64"
      ]
     },
     "execution_count": 114,
     "metadata": {},
     "output_type": "execute_result"
    }
   ],
   "source": [
    "serr=pd.Series(obj.size()).sort_values(ascending=True)\n",
    "serr"
   ]
  },
  {
   "cell_type": "code",
   "execution_count": 115,
   "metadata": {},
   "outputs": [
    {
     "data": {
      "image/png": "[encoded data removed]",
      "text/plain": [
       "<Figure size 720x360 with 1 Axes>"
      ]
     },
     "metadata": {
      "needs_background": "light"
     },
     "output_type": "display_data"
    }
   ],
   "source": [
    "draw_barh(serr, 'Primary role of councils of Conseil municipal de Montréal', './outputFile/Primary role of councils of Conseil municipal de Montréal.png')"
   ]
  },
  {
   "cell_type": "markdown",
   "metadata": {},
   "source": [
    "* Group by 'Party name'"
   ]
  },
  {
   "cell_type": "code",
   "execution_count": 116,
   "metadata": {},
   "outputs": [
    {
     "data": {
      "text/plain": [
       "Party name\n",
       "Ensemble Montréal                          19\n",
       "Indépendant                                 6\n",
       "Projet Montréal - Équipe Valérie Plante    34\n",
       "Équipe Anjou                                2\n",
       "Équipe Barbe Team                           3\n",
       "dtype: int64"
      ]
     },
     "execution_count": 116,
     "metadata": {},
     "output_type": "execute_result"
    }
   ],
   "source": [
    "obj = conseil_municipal_de_montreal_df.groupby('Party name')\n",
    "obj.size()"
   ]
  },
  {
   "cell_type": "code",
   "execution_count": 117,
   "metadata": {},
   "outputs": [
    {
     "data": {
      "text/plain": [
       "Party name\n",
       "Équipe Anjou                                2\n",
       "Équipe Barbe Team                           3\n",
       "Indépendant                                 6\n",
       "Ensemble Montréal                          19\n",
       "Projet Montréal - Équipe Valérie Plante    34\n",
       "dtype: int64"
      ]
     },
     "execution_count": 117,
     "metadata": {},
     "output_type": "execute_result"
    }
   ],
   "source": [
    "serr=pd.Series(obj.size()).sort_values(ascending=True)\n",
    "serr"
   ]
  },
  {
   "cell_type": "code",
   "execution_count": 118,
   "metadata": {},
   "outputs": [
    {
     "data": {
      "image/png": "[encoded data removed]",
      "text/plain": [
       "<Figure size 720x360 with 1 Axes>"
      ]
     },
     "metadata": {
      "needs_background": "light"
     },
     "output_type": "display_data"
    }
   ],
   "source": [
    "draw_barh(serr, 'Party name of councils of Conseil municipal de Montréal', './outputFile/Party name of councils of Conseil municipal de Montréal.png')"
   ]
  },
  {
   "cell_type": "markdown",
   "metadata": {},
   "source": [
    "* Group by 'Gender'"
   ]
  },
  {
   "cell_type": "code",
   "execution_count": 119,
   "metadata": {},
   "outputs": [
    {
     "data": {
      "text/plain": [
       "Gender\n",
       "F    30\n",
       "M    34\n",
       "dtype: int64"
      ]
     },
     "execution_count": 119,
     "metadata": {},
     "output_type": "execute_result"
    }
   ],
   "source": [
    "obj = conseil_municipal_de_montreal_df.groupby('Gender')\n",
    "obj.size()"
   ]
  },
  {
   "cell_type": "code",
   "execution_count": 120,
   "metadata": {},
   "outputs": [
    {
     "data": {
      "text/plain": [
       "Gender\n",
       "F    30\n",
       "M    34\n",
       "dtype: int64"
      ]
     },
     "execution_count": 120,
     "metadata": {},
     "output_type": "execute_result"
    }
   ],
   "source": [
    "serr=pd.Series(obj.size()).sort_values(ascending=True)\n",
    "serr"
   ]
  },
  {
   "cell_type": "code",
   "execution_count": 121,
   "metadata": {},
   "outputs": [
    {
     "data": {
      "image/png": "[encoded data removed]",
      "text/plain": [
       "<Figure size 720x360 with 1 Axes>"
      ]
     },
     "metadata": {
      "needs_background": "light"
     },
     "output_type": "display_data"
    }
   ],
   "source": [
    "draw_barh(serr, 'Gender of councils of Conseil municipal de Montréal', './outputFile/Gender of councils of Conseil municipal de Montréal.png')"
   ]
  },
  {
   "cell_type": "code",
   "execution_count": null,
   "metadata": {},
   "outputs": [],
   "source": []
  }
 ],
 "metadata": {
  "kernelspec": {
   "display_name": "Python 3",
   "language": "python",
   "name": "python3"
  },
  "language_info": {
   "codemirror_mode": {
    "name": "ipython",
    "version": 3
   },
   "file_extension": ".py",
   "mimetype": "text/x-python",
   "name": "python",
   "nbconvert_exporter": "python",
   "pygments_lexer": "ipython3",
   "version": "3.7.3"
  }
 },
 "nbformat": 4,
 "nbformat_minor": 2
}
